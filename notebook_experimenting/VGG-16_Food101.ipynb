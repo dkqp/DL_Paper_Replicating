{
 "cells": [
  {
   "attachments": {},
   "cell_type": "markdown",
   "metadata": {},
   "source": [
    "## VGG16 model for training Food101 datasets\n",
    "- number of parameters : 138,357,544"
   ]
  },
  {
   "cell_type": "code",
   "execution_count": 1,
   "metadata": {},
   "outputs": [
    {
     "name": "stderr",
     "output_type": "stream",
     "text": [
      "c:\\Users\\TimJimTangtong\\Miniconda3\\envs\\torch-gpu\\lib\\site-packages\\tqdm\\auto.py:22: TqdmWarning: IProgress not found. Please update jupyter and ipywidgets. See https://ipywidgets.readthedocs.io/en/stable/user_install.html\n",
      "  from .autonotebook import tqdm as notebook_tqdm\n"
     ]
    }
   ],
   "source": [
    "import torch\n",
    "from torch import nn\n",
    "from torch.utils.data import DataLoader\n",
    "\n",
    "import torchvision\n",
    "from torchvision import transforms, datasets\n",
    "\n",
    "from torchinfo import summary\n",
    "\n",
    "from pathlib import Path\n",
    "\n",
    "import sys\n",
    "sys.path.append('..')\n",
    "\n",
    "from python_scripts import model_builder, engine, data_setup"
   ]
  },
  {
   "cell_type": "code",
   "execution_count": 2,
   "metadata": {},
   "outputs": [],
   "source": [
    "if torch.cuda.is_available():\n",
    "    device = torch.device('cuda')\n",
    "elif torch.backends.mps.is_available():\n",
    "    device = torch.device('mps')\n",
    "else:\n",
    "    device = torch.device('cpu')"
   ]
  },
  {
   "cell_type": "code",
   "execution_count": 3,
   "metadata": {},
   "outputs": [],
   "source": [
    "food101_transforms_train_2 = transforms.Compose([\n",
    "    transforms.RandomRotation(30),\n",
    "    transforms.RandomResizedCrop(224),\n",
    "    transforms.RandomHorizontalFlip(),\n",
    "    transforms.AutoAugment(transforms.AutoAugmentPolicy.IMAGENET),\n",
    "    transforms.ToTensor(),\n",
    "    transforms.Normalize(\n",
    "        [0.485, 0.456, 0.406],\n",
    "        [0.229, 0.224, 0.225]\n",
    "    )\n",
    "])\n",
    "\n",
    "food101_transforms_test_2 = transforms.Compose([\n",
    "    transforms.Resize(225),\n",
    "    transforms.CenterCrop(224),\n",
    "    transforms.ToTensor(),\n",
    "    transforms.Normalize(\n",
    "        [0.485, 0.456, 0.406],\n",
    "        [0.229, 0.224, 0.225]\n",
    "    )\n",
    "])"
   ]
  },
  {
   "cell_type": "code",
   "execution_count": 4,
   "metadata": {},
   "outputs": [],
   "source": [
    "learning_rate_list = [5e-5]\n",
    "weight_decay_list = [5e-4]\n",
    "epochs_list = [30]\n",
    "batch_size_list = [16]"
   ]
  },
  {
   "cell_type": "code",
   "execution_count": 5,
   "metadata": {},
   "outputs": [],
   "source": [
    "# when using colab: /content/extracted\n",
    "# when using in window: C:/Users/TimJimTangtong/Deep learning projects/DL_Paper_Replicating/data/extracted\n",
    "data_dir = Path('C:/Users/TimJimTangtong/Deep learning projects/DL_Paper_Replicating/data/extracted')\n",
    "\n",
    "train_data_food101 = datasets.Food101(\n",
    "    root=data_dir,\n",
    "    split='train',\n",
    "    transform=food101_transforms_train_2,\n",
    "    download=True\n",
    ")\n",
    "test_data_food101 = datasets.Food101(\n",
    "    root=data_dir,\n",
    "    split='test',\n",
    "    transform=food101_transforms_test_2,\n",
    "    download=True\n",
    ")\n",
    "\n",
    "class_names_food101 = train_data_food101.classes"
   ]
  },
  {
   "cell_type": "code",
   "execution_count": 6,
   "metadata": {},
   "outputs": [],
   "source": [
    "vgg16_weights = torchvision.models.VGG16_Weights.DEFAULT\n",
    "def model_generator(weights: torchvision.models):\n",
    "    model = torchvision.models.vgg16(weights=weights)\n",
    "    model.classifier[-1] = nn.Linear(\n",
    "        in_features=4096,\n",
    "        out_features=len(class_names_food101)\n",
    "    )\n",
    "    return model"
   ]
  },
  {
   "cell_type": "code",
   "execution_count": 7,
   "metadata": {},
   "outputs": [
    {
     "name": "stdout",
     "output_type": "stream",
     "text": [
      "[INFO] Splitting dataset of length 75750 into splits of size: 7575 and 68175\n",
      "[INFO] Splitting dataset of length 25250 into splits of size: 2525 and 22725\n",
      "[INFO] Creating SummaryWriter saving to ../runs\\2023-03-17\\VGG16_food101_test\\VGG16_food101\\LR_0.0005_WD_0.001_EP_15_BS_16_GA_16\n"
     ]
    },
    {
     "name": "stderr",
     "output_type": "stream",
     "text": [
      "  7%|▋         | 1/15 [02:19<32:32, 139.47s/it]"
     ]
    },
    {
     "name": "stdout",
     "output_type": "stream",
     "text": [
      "Epoch: 0 | Train_loss: 4.6286, Train_acc: 0.0092 | Test_loss: 4.6182, Test_acc: 0.0095\n"
     ]
    },
    {
     "name": "stderr",
     "output_type": "stream",
     "text": [
      " 13%|█▎        | 2/15 [04:34<29:39, 136.85s/it]"
     ]
    },
    {
     "name": "stdout",
     "output_type": "stream",
     "text": [
      "Epoch: 1 | Train_loss: 4.6157, Train_acc: 0.0141 | Test_loss: 4.6205, Test_acc: 0.0059\n"
     ]
    },
    {
     "name": "stderr",
     "output_type": "stream",
     "text": [
      " 20%|██        | 3/15 [06:49<27:10, 135.91s/it]"
     ]
    },
    {
     "name": "stdout",
     "output_type": "stream",
     "text": [
      "Epoch: 2 | Train_loss: 4.6136, Train_acc: 0.0123 | Test_loss: 4.6035, Test_acc: 0.0178\n"
     ]
    },
    {
     "name": "stderr",
     "output_type": "stream",
     "text": [
      " 27%|██▋       | 4/15 [09:04<24:51, 135.56s/it]"
     ]
    },
    {
     "name": "stdout",
     "output_type": "stream",
     "text": [
      "Epoch: 3 | Train_loss: 4.6112, Train_acc: 0.0136 | Test_loss: 4.6084, Test_acc: 0.0142\n"
     ]
    },
    {
     "name": "stderr",
     "output_type": "stream",
     "text": [
      " 33%|███▎      | 5/15 [11:19<22:34, 135.43s/it]"
     ]
    },
    {
     "name": "stdout",
     "output_type": "stream",
     "text": [
      "Epoch: 4 | Train_loss: 4.6093, Train_acc: 0.0132 | Test_loss: 4.6212, Test_acc: 0.0059\n"
     ]
    },
    {
     "name": "stderr",
     "output_type": "stream",
     "text": [
      " 40%|████      | 6/15 [13:34<20:18, 135.35s/it]"
     ]
    },
    {
     "name": "stdout",
     "output_type": "stream",
     "text": [
      "Epoch: 5 | Train_loss: 4.6061, Train_acc: 0.0170 | Test_loss: 4.6272, Test_acc: 0.0111\n"
     ]
    },
    {
     "name": "stderr",
     "output_type": "stream",
     "text": [
      " 47%|████▋     | 7/15 [15:49<18:02, 135.29s/it]"
     ]
    },
    {
     "name": "stdout",
     "output_type": "stream",
     "text": [
      "Epoch: 6 | Train_loss: 4.6134, Train_acc: 0.0147 | Test_loss: 4.5767, Test_acc: 0.0174\n"
     ]
    },
    {
     "name": "stderr",
     "output_type": "stream",
     "text": [
      " 53%|█████▎    | 8/15 [18:05<15:46, 135.25s/it]"
     ]
    },
    {
     "name": "stdout",
     "output_type": "stream",
     "text": [
      "Epoch: 7 | Train_loss: 4.5724, Train_acc: 0.0194 | Test_loss: 4.5224, Test_acc: 0.0127\n"
     ]
    },
    {
     "name": "stderr",
     "output_type": "stream",
     "text": [
      " 60%|██████    | 9/15 [20:20<13:31, 135.23s/it]"
     ]
    },
    {
     "name": "stdout",
     "output_type": "stream",
     "text": [
      "Epoch: 8 | Train_loss: 4.5563, Train_acc: 0.0207 | Test_loss: 4.4783, Test_acc: 0.0182\n"
     ]
    },
    {
     "name": "stderr",
     "output_type": "stream",
     "text": [
      " 67%|██████▋   | 10/15 [22:35<11:16, 135.25s/it]"
     ]
    },
    {
     "name": "stdout",
     "output_type": "stream",
     "text": [
      "Epoch: 9 | Train_loss: 4.5498, Train_acc: 0.0193 | Test_loss: 4.5532, Test_acc: 0.0119\n"
     ]
    },
    {
     "name": "stderr",
     "output_type": "stream",
     "text": [
      " 73%|███████▎  | 11/15 [24:50<09:00, 135.21s/it]"
     ]
    },
    {
     "name": "stdout",
     "output_type": "stream",
     "text": [
      "Epoch: 10 | Train_loss: 4.5381, Train_acc: 0.0207 | Test_loss: 4.4657, Test_acc: 0.0154\n"
     ]
    },
    {
     "name": "stderr",
     "output_type": "stream",
     "text": [
      " 80%|████████  | 12/15 [27:06<06:45, 135.29s/it]"
     ]
    },
    {
     "name": "stdout",
     "output_type": "stream",
     "text": [
      "Epoch: 11 | Train_loss: 4.5218, Train_acc: 0.0210 | Test_loss: 4.4435, Test_acc: 0.0186\n"
     ]
    },
    {
     "name": "stderr",
     "output_type": "stream",
     "text": [
      " 87%|████████▋ | 13/15 [29:21<04:30, 135.24s/it]"
     ]
    },
    {
     "name": "stdout",
     "output_type": "stream",
     "text": [
      "Epoch: 12 | Train_loss: 4.5037, Train_acc: 0.0239 | Test_loss: 4.3865, Test_acc: 0.0245\n"
     ]
    },
    {
     "name": "stderr",
     "output_type": "stream",
     "text": [
      " 93%|█████████▎| 14/15 [31:36<02:15, 135.37s/it]"
     ]
    },
    {
     "name": "stdout",
     "output_type": "stream",
     "text": [
      "Epoch: 13 | Train_loss: 4.4764, Train_acc: 0.0258 | Test_loss: 4.3742, Test_acc: 0.0198\n"
     ]
    },
    {
     "name": "stderr",
     "output_type": "stream",
     "text": [
      "100%|██████████| 15/15 [33:52<00:00, 135.50s/it]"
     ]
    },
    {
     "name": "stdout",
     "output_type": "stream",
     "text": [
      "Epoch: 14 | Train_loss: 4.4579, Train_acc: 0.0260 | Test_loss: 4.3641, Test_acc: 0.0253\n"
     ]
    },
    {
     "name": "stderr",
     "output_type": "stream",
     "text": [
      "\n"
     ]
    },
    {
     "name": "stdout",
     "output_type": "stream",
     "text": [
      "[INFO] Creating SummaryWriter saving to ../runs\\2023-03-17\\VGG16_food101_test\\VGG16_food101\\LR_0.0005_WD_0.0005_EP_15_BS_16_GA_16\n"
     ]
    },
    {
     "name": "stderr",
     "output_type": "stream",
     "text": [
      "  7%|▋         | 1/15 [02:14<31:29, 134.99s/it]"
     ]
    },
    {
     "name": "stdout",
     "output_type": "stream",
     "text": [
      "Epoch: 0 | Train_loss: 4.6244, Train_acc: 0.0099 | Test_loss: 4.6165, Test_acc: 0.0059\n"
     ]
    },
    {
     "name": "stderr",
     "output_type": "stream",
     "text": [
      " 13%|█▎        | 2/15 [04:30<29:19, 135.35s/it]"
     ]
    },
    {
     "name": "stdout",
     "output_type": "stream",
     "text": [
      "Epoch: 1 | Train_loss: 4.6139, Train_acc: 0.0113 | Test_loss: 4.6171, Test_acc: 0.0120\n"
     ]
    },
    {
     "name": "stderr",
     "output_type": "stream",
     "text": [
      " 20%|██        | 3/15 [06:46<27:04, 135.39s/it]"
     ]
    },
    {
     "name": "stdout",
     "output_type": "stream",
     "text": [
      "Epoch: 2 | Train_loss: 4.6065, Train_acc: 0.0167 | Test_loss: 4.5663, Test_acc: 0.0142\n"
     ]
    },
    {
     "name": "stderr",
     "output_type": "stream",
     "text": [
      " 27%|██▋       | 4/15 [09:01<24:48, 135.32s/it]"
     ]
    },
    {
     "name": "stdout",
     "output_type": "stream",
     "text": [
      "Epoch: 3 | Train_loss: 4.6101, Train_acc: 0.0146 | Test_loss: 4.6055, Test_acc: 0.0146\n"
     ]
    },
    {
     "name": "stderr",
     "output_type": "stream",
     "text": [
      " 33%|███▎      | 5/15 [11:16<22:32, 135.21s/it]"
     ]
    },
    {
     "name": "stdout",
     "output_type": "stream",
     "text": [
      "Epoch: 4 | Train_loss: 4.6111, Train_acc: 0.0152 | Test_loss: 4.5867, Test_acc: 0.0174\n"
     ]
    },
    {
     "name": "stderr",
     "output_type": "stream",
     "text": [
      " 40%|████      | 6/15 [13:31<20:17, 135.31s/it]"
     ]
    },
    {
     "name": "stdout",
     "output_type": "stream",
     "text": [
      "Epoch: 5 | Train_loss: 4.6154, Train_acc: 0.0103 | Test_loss: 4.6205, Test_acc: 0.0059\n"
     ]
    },
    {
     "name": "stderr",
     "output_type": "stream",
     "text": [
      " 47%|████▋     | 7/15 [15:47<18:02, 135.34s/it]"
     ]
    },
    {
     "name": "stdout",
     "output_type": "stream",
     "text": [
      "Epoch: 6 | Train_loss: 4.6151, Train_acc: 0.0104 | Test_loss: 4.6217, Test_acc: 0.0059\n"
     ]
    },
    {
     "name": "stderr",
     "output_type": "stream",
     "text": [
      " 53%|█████▎    | 8/15 [18:02<15:46, 135.26s/it]"
     ]
    },
    {
     "name": "stdout",
     "output_type": "stream",
     "text": [
      "Epoch: 7 | Train_loss: 4.6135, Train_acc: 0.0113 | Test_loss: 4.6209, Test_acc: 0.0059\n"
     ]
    },
    {
     "name": "stderr",
     "output_type": "stream",
     "text": [
      " 60%|██████    | 9/15 [20:17<13:31, 135.17s/it]"
     ]
    },
    {
     "name": "stdout",
     "output_type": "stream",
     "text": [
      "Epoch: 8 | Train_loss: 4.6090, Train_acc: 0.0148 | Test_loss: 4.6196, Test_acc: 0.0115\n"
     ]
    },
    {
     "name": "stderr",
     "output_type": "stream",
     "text": [
      " 67%|██████▋   | 10/15 [22:32<11:16, 135.24s/it]"
     ]
    },
    {
     "name": "stdout",
     "output_type": "stream",
     "text": [
      "Epoch: 9 | Train_loss: 4.6028, Train_acc: 0.0135 | Test_loss: 4.5881, Test_acc: 0.0083\n"
     ]
    },
    {
     "name": "stderr",
     "output_type": "stream",
     "text": [
      " 73%|███████▎  | 11/15 [24:48<09:01, 135.29s/it]"
     ]
    },
    {
     "name": "stdout",
     "output_type": "stream",
     "text": [
      "Epoch: 10 | Train_loss: 4.5904, Train_acc: 0.0153 | Test_loss: 4.5694, Test_acc: 0.0178\n"
     ]
    },
    {
     "name": "stderr",
     "output_type": "stream",
     "text": [
      " 80%|████████  | 12/15 [27:03<06:45, 135.27s/it]"
     ]
    },
    {
     "name": "stdout",
     "output_type": "stream",
     "text": [
      "Epoch: 11 | Train_loss: 4.5819, Train_acc: 0.0158 | Test_loss: 4.5533, Test_acc: 0.0154\n"
     ]
    },
    {
     "name": "stderr",
     "output_type": "stream",
     "text": [
      " 87%|████████▋ | 13/15 [29:18<04:30, 135.27s/it]"
     ]
    },
    {
     "name": "stdout",
     "output_type": "stream",
     "text": [
      "Epoch: 12 | Train_loss: 4.5656, Train_acc: 0.0169 | Test_loss: 4.5311, Test_acc: 0.0174\n"
     ]
    },
    {
     "name": "stderr",
     "output_type": "stream",
     "text": [
      " 93%|█████████▎| 14/15 [31:33<02:15, 135.13s/it]"
     ]
    },
    {
     "name": "stdout",
     "output_type": "stream",
     "text": [
      "Epoch: 13 | Train_loss: 4.5630, Train_acc: 0.0169 | Test_loss: 4.5384, Test_acc: 0.0190\n"
     ]
    },
    {
     "name": "stderr",
     "output_type": "stream",
     "text": [
      "100%|██████████| 15/15 [33:48<00:00, 135.26s/it]"
     ]
    },
    {
     "name": "stdout",
     "output_type": "stream",
     "text": [
      "Epoch: 14 | Train_loss: 4.5574, Train_acc: 0.0200 | Test_loss: 4.5418, Test_acc: 0.0194\n"
     ]
    },
    {
     "name": "stderr",
     "output_type": "stream",
     "text": [
      "\n"
     ]
    },
    {
     "name": "stdout",
     "output_type": "stream",
     "text": [
      "[INFO] Creating SummaryWriter saving to ../runs\\2023-03-17\\VGG16_food101_test\\VGG16_food101\\LR_0.0005_WD_0.0001_EP_15_BS_16_GA_16\n"
     ]
    },
    {
     "name": "stderr",
     "output_type": "stream",
     "text": [
      "  0%|          | 0/15 [00:00<?, ?it/s]"
     ]
    },
    {
     "name": "stdout",
     "output_type": "stream",
     "text": [
      "Epoch: 0 | Train_loss: 4.6241, Train_acc: 0.0100 | Test_loss: 4.6160, Test_acc: 0.0158\n"
     ]
    },
    {
     "name": "stderr",
     "output_type": "stream",
     "text": [
      " 13%|█▎        | 2/15 [04:30<29:17, 135.19s/it]"
     ]
    },
    {
     "name": "stdout",
     "output_type": "stream",
     "text": [
      "Epoch: 1 | Train_loss: 4.6139, Train_acc: 0.0109 | Test_loss: 4.6116, Test_acc: 0.0127\n"
     ]
    },
    {
     "name": "stderr",
     "output_type": "stream",
     "text": [
      " 20%|██        | 3/15 [06:45<27:03, 135.30s/it]"
     ]
    },
    {
     "name": "stdout",
     "output_type": "stream",
     "text": [
      "Epoch: 2 | Train_loss: 4.6079, Train_acc: 0.0123 | Test_loss: 4.5712, Test_acc: 0.0119\n"
     ]
    },
    {
     "name": "stderr",
     "output_type": "stream",
     "text": [
      " 27%|██▋       | 4/15 [09:01<24:48, 135.36s/it]"
     ]
    },
    {
     "name": "stdout",
     "output_type": "stream",
     "text": [
      "Epoch: 3 | Train_loss: 4.5772, Train_acc: 0.0178 | Test_loss: 4.4911, Test_acc: 0.0134\n"
     ]
    },
    {
     "name": "stderr",
     "output_type": "stream",
     "text": [
      " 33%|███▎      | 5/15 [11:16<22:33, 135.34s/it]"
     ]
    },
    {
     "name": "stdout",
     "output_type": "stream",
     "text": [
      "Epoch: 4 | Train_loss: 4.5413, Train_acc: 0.0211 | Test_loss: 4.4451, Test_acc: 0.0174\n"
     ]
    },
    {
     "name": "stderr",
     "output_type": "stream",
     "text": [
      " 40%|████      | 6/15 [13:32<20:19, 135.47s/it]"
     ]
    },
    {
     "name": "stdout",
     "output_type": "stream",
     "text": [
      "Epoch: 5 | Train_loss: 4.5162, Train_acc: 0.0240 | Test_loss: 4.5128, Test_acc: 0.0190\n"
     ]
    },
    {
     "name": "stderr",
     "output_type": "stream",
     "text": [
      " 47%|████▋     | 7/15 [15:47<18:03, 135.47s/it]"
     ]
    },
    {
     "name": "stdout",
     "output_type": "stream",
     "text": [
      "Epoch: 6 | Train_loss: 4.5127, Train_acc: 0.0252 | Test_loss: 4.4643, Test_acc: 0.0198\n"
     ]
    },
    {
     "name": "stderr",
     "output_type": "stream",
     "text": [
      " 53%|█████▎    | 8/15 [18:03<15:48, 135.51s/it]"
     ]
    },
    {
     "name": "stdout",
     "output_type": "stream",
     "text": [
      "Epoch: 7 | Train_loss: 4.4827, Train_acc: 0.0262 | Test_loss: 4.3903, Test_acc: 0.0241\n"
     ]
    },
    {
     "name": "stderr",
     "output_type": "stream",
     "text": [
      " 60%|██████    | 9/15 [20:18<13:32, 135.43s/it]"
     ]
    },
    {
     "name": "stdout",
     "output_type": "stream",
     "text": [
      "Epoch: 8 | Train_loss: 4.4593, Train_acc: 0.0285 | Test_loss: 4.3577, Test_acc: 0.0253\n"
     ]
    },
    {
     "name": "stderr",
     "output_type": "stream",
     "text": [
      " 67%|██████▋   | 10/15 [22:34<11:17, 135.43s/it]"
     ]
    },
    {
     "name": "stdout",
     "output_type": "stream",
     "text": [
      "Epoch: 9 | Train_loss: 4.4851, Train_acc: 0.0248 | Test_loss: 4.4106, Test_acc: 0.0255\n"
     ]
    },
    {
     "name": "stderr",
     "output_type": "stream",
     "text": [
      " 73%|███████▎  | 11/15 [24:49<09:01, 135.49s/it]"
     ]
    },
    {
     "name": "stdout",
     "output_type": "stream",
     "text": [
      "Epoch: 10 | Train_loss: 4.4607, Train_acc: 0.0265 | Test_loss: 4.3508, Test_acc: 0.0245\n"
     ]
    },
    {
     "name": "stderr",
     "output_type": "stream",
     "text": [
      " 80%|████████  | 12/15 [27:04<06:46, 135.43s/it]"
     ]
    },
    {
     "name": "stdout",
     "output_type": "stream",
     "text": [
      "Epoch: 11 | Train_loss: 4.4435, Train_acc: 0.0298 | Test_loss: 4.3423, Test_acc: 0.0297\n"
     ]
    },
    {
     "name": "stderr",
     "output_type": "stream",
     "text": [
      " 87%|████████▋ | 13/15 [29:20<04:30, 135.39s/it]"
     ]
    },
    {
     "name": "stdout",
     "output_type": "stream",
     "text": [
      "Epoch: 12 | Train_loss: 4.4379, Train_acc: 0.0298 | Test_loss: 4.3414, Test_acc: 0.0273\n"
     ]
    },
    {
     "name": "stderr",
     "output_type": "stream",
     "text": [
      " 93%|█████████▎| 14/15 [31:35<02:15, 135.36s/it]"
     ]
    },
    {
     "name": "stdout",
     "output_type": "stream",
     "text": [
      "Epoch: 13 | Train_loss: 4.4412, Train_acc: 0.0316 | Test_loss: 4.3758, Test_acc: 0.0269\n"
     ]
    },
    {
     "name": "stderr",
     "output_type": "stream",
     "text": [
      "100%|██████████| 15/15 [33:51<00:00, 135.43s/it]"
     ]
    },
    {
     "name": "stdout",
     "output_type": "stream",
     "text": [
      "Epoch: 14 | Train_loss: 4.4098, Train_acc: 0.0339 | Test_loss: 4.2932, Test_acc: 0.0316\n"
     ]
    },
    {
     "name": "stderr",
     "output_type": "stream",
     "text": [
      "\n"
     ]
    },
    {
     "name": "stdout",
     "output_type": "stream",
     "text": [
      "[INFO] Creating SummaryWriter saving to ../runs\\2023-03-17\\VGG16_food101_test\\VGG16_food101\\LR_0.0001_WD_0.001_EP_15_BS_16_GA_16\n"
     ]
    },
    {
     "name": "stderr",
     "output_type": "stream",
     "text": [
      "  7%|▋         | 1/15 [02:15<31:36, 135.43s/it]"
     ]
    },
    {
     "name": "stdout",
     "output_type": "stream",
     "text": [
      "Epoch: 0 | Train_loss: 4.6053, Train_acc: 0.0149 | Test_loss: 4.4953, Test_acc: 0.0289\n"
     ]
    },
    {
     "name": "stderr",
     "output_type": "stream",
     "text": [
      " 13%|█▎        | 2/15 [04:31<29:24, 135.71s/it]"
     ]
    },
    {
     "name": "stdout",
     "output_type": "stream",
     "text": [
      "Epoch: 1 | Train_loss: 4.3392, Train_acc: 0.0548 | Test_loss: 3.8654, Test_acc: 0.1277\n"
     ]
    },
    {
     "name": "stderr",
     "output_type": "stream",
     "text": [
      " 20%|██        | 3/15 [06:47<27:08, 135.74s/it]"
     ]
    },
    {
     "name": "stdout",
     "output_type": "stream",
     "text": [
      "Epoch: 2 | Train_loss: 3.9664, Train_acc: 0.1006 | Test_loss: 3.2196, Test_acc: 0.2207\n"
     ]
    },
    {
     "name": "stderr",
     "output_type": "stream",
     "text": [
      " 27%|██▋       | 4/15 [09:03<24:54, 135.89s/it]"
     ]
    },
    {
     "name": "stdout",
     "output_type": "stream",
     "text": [
      "Epoch: 3 | Train_loss: 3.6321, Train_acc: 0.1600 | Test_loss: 2.8207, Test_acc: 0.2895\n"
     ]
    },
    {
     "name": "stderr",
     "output_type": "stream",
     "text": [
      " 33%|███▎      | 5/15 [11:18<22:38, 135.83s/it]"
     ]
    },
    {
     "name": "stdout",
     "output_type": "stream",
     "text": [
      "Epoch: 4 | Train_loss: 3.3459, Train_acc: 0.2129 | Test_loss: 2.4177, Test_acc: 0.3791\n"
     ]
    },
    {
     "name": "stderr",
     "output_type": "stream",
     "text": [
      " 40%|████      | 6/15 [13:34<20:21, 135.68s/it]"
     ]
    },
    {
     "name": "stdout",
     "output_type": "stream",
     "text": [
      "Epoch: 5 | Train_loss: 3.1282, Train_acc: 0.2510 | Test_loss: 2.2713, Test_acc: 0.4115\n"
     ]
    },
    {
     "name": "stderr",
     "output_type": "stream",
     "text": [
      " 47%|████▋     | 7/15 [15:50<18:05, 135.70s/it]"
     ]
    },
    {
     "name": "stdout",
     "output_type": "stream",
     "text": [
      "Epoch: 6 | Train_loss: 2.9435, Train_acc: 0.2909 | Test_loss: 2.1403, Test_acc: 0.4521\n"
     ]
    },
    {
     "name": "stderr",
     "output_type": "stream",
     "text": [
      " 53%|█████▎    | 8/15 [18:05<15:49, 135.69s/it]"
     ]
    },
    {
     "name": "stdout",
     "output_type": "stream",
     "text": [
      "Epoch: 7 | Train_loss: 2.8456, Train_acc: 0.3149 | Test_loss: 2.1576, Test_acc: 0.4394\n"
     ]
    },
    {
     "name": "stderr",
     "output_type": "stream",
     "text": [
      " 60%|██████    | 9/15 [20:22<13:35, 135.88s/it]"
     ]
    },
    {
     "name": "stdout",
     "output_type": "stream",
     "text": [
      "Epoch: 8 | Train_loss: 2.7107, Train_acc: 0.3399 | Test_loss: 1.9128, Test_acc: 0.4995\n"
     ]
    },
    {
     "name": "stderr",
     "output_type": "stream",
     "text": [
      " 67%|██████▋   | 10/15 [22:37<11:19, 135.86s/it]"
     ]
    },
    {
     "name": "stdout",
     "output_type": "stream",
     "text": [
      "Epoch: 9 | Train_loss: 2.6358, Train_acc: 0.3505 | Test_loss: 1.8449, Test_acc: 0.5105\n"
     ]
    },
    {
     "name": "stderr",
     "output_type": "stream",
     "text": [
      " 73%|███████▎  | 11/15 [24:53<09:03, 135.84s/it]"
     ]
    },
    {
     "name": "stdout",
     "output_type": "stream",
     "text": [
      "Epoch: 10 | Train_loss: 2.4821, Train_acc: 0.3886 | Test_loss: 1.7593, Test_acc: 0.5360\n"
     ]
    },
    {
     "name": "stderr",
     "output_type": "stream",
     "text": [
      " 80%|████████  | 12/15 [27:09<06:47, 135.75s/it]"
     ]
    },
    {
     "name": "stdout",
     "output_type": "stream",
     "text": [
      "Epoch: 11 | Train_loss: 2.4009, Train_acc: 0.4117 | Test_loss: 1.7372, Test_acc: 0.5393\n"
     ]
    },
    {
     "name": "stderr",
     "output_type": "stream",
     "text": [
      " 87%|████████▋ | 13/15 [29:25<04:31, 135.80s/it]"
     ]
    },
    {
     "name": "stdout",
     "output_type": "stream",
     "text": [
      "Epoch: 12 | Train_loss: 2.3556, Train_acc: 0.4177 | Test_loss: 1.8038, Test_acc: 0.5125\n"
     ]
    },
    {
     "name": "stderr",
     "output_type": "stream",
     "text": [
      " 93%|█████████▎| 14/15 [31:40<02:15, 135.72s/it]"
     ]
    },
    {
     "name": "stdout",
     "output_type": "stream",
     "text": [
      "Epoch: 13 | Train_loss: 2.2801, Train_acc: 0.4314 | Test_loss: 1.7842, Test_acc: 0.5338\n"
     ]
    },
    {
     "name": "stderr",
     "output_type": "stream",
     "text": [
      "100%|██████████| 15/15 [33:56<00:00, 135.77s/it]"
     ]
    },
    {
     "name": "stdout",
     "output_type": "stream",
     "text": [
      "Epoch: 14 | Train_loss: 2.2623, Train_acc: 0.4391 | Test_loss: 1.7339, Test_acc: 0.5545\n"
     ]
    },
    {
     "name": "stderr",
     "output_type": "stream",
     "text": [
      "\n"
     ]
    },
    {
     "name": "stdout",
     "output_type": "stream",
     "text": [
      "[INFO] Creating SummaryWriter saving to ../runs\\2023-03-17\\VGG16_food101_test\\VGG16_food101\\LR_0.0001_WD_0.0005_EP_15_BS_16_GA_16\n"
     ]
    },
    {
     "name": "stderr",
     "output_type": "stream",
     "text": [
      "  7%|▋         | 1/15 [02:15<31:40, 135.74s/it]"
     ]
    },
    {
     "name": "stdout",
     "output_type": "stream",
     "text": [
      "Epoch: 0 | Train_loss: 4.5581, Train_acc: 0.0270 | Test_loss: 4.3107, Test_acc: 0.0737\n"
     ]
    },
    {
     "name": "stderr",
     "output_type": "stream",
     "text": [
      " 13%|█▎        | 2/15 [04:31<29:26, 135.90s/it]"
     ]
    },
    {
     "name": "stdout",
     "output_type": "stream",
     "text": [
      "Epoch: 1 | Train_loss: 4.1471, Train_acc: 0.0882 | Test_loss: 3.3688, Test_acc: 0.1989\n"
     ]
    },
    {
     "name": "stderr",
     "output_type": "stream",
     "text": [
      " 20%|██        | 3/15 [06:47<27:09, 135.80s/it]"
     ]
    },
    {
     "name": "stdout",
     "output_type": "stream",
     "text": [
      "Epoch: 2 | Train_loss: 3.6549, Train_acc: 0.1559 | Test_loss: 2.7438, Test_acc: 0.3135\n"
     ]
    },
    {
     "name": "stderr",
     "output_type": "stream",
     "text": [
      " 27%|██▋       | 4/15 [09:03<24:53, 135.76s/it]"
     ]
    },
    {
     "name": "stdout",
     "output_type": "stream",
     "text": [
      "Epoch: 3 | Train_loss: 3.3441, Train_acc: 0.2139 | Test_loss: 2.3867, Test_acc: 0.3906\n"
     ]
    },
    {
     "name": "stderr",
     "output_type": "stream",
     "text": [
      " 33%|███▎      | 5/15 [11:18<22:35, 135.57s/it]"
     ]
    },
    {
     "name": "stdout",
     "output_type": "stream",
     "text": [
      "Epoch: 4 | Train_loss: 3.1387, Train_acc: 0.2553 | Test_loss: 2.2889, Test_acc: 0.4170\n"
     ]
    },
    {
     "name": "stderr",
     "output_type": "stream",
     "text": [
      " 40%|████      | 6/15 [13:33<20:20, 135.58s/it]"
     ]
    },
    {
     "name": "stdout",
     "output_type": "stream",
     "text": [
      "Epoch: 5 | Train_loss: 2.9428, Train_acc: 0.2903 | Test_loss: 2.0366, Test_acc: 0.4764\n"
     ]
    },
    {
     "name": "stderr",
     "output_type": "stream",
     "text": [
      " 47%|████▋     | 7/15 [15:49<18:04, 135.56s/it]"
     ]
    },
    {
     "name": "stdout",
     "output_type": "stream",
     "text": [
      "Epoch: 6 | Train_loss: 2.8267, Train_acc: 0.3176 | Test_loss: 1.9643, Test_acc: 0.4786\n"
     ]
    },
    {
     "name": "stderr",
     "output_type": "stream",
     "text": [
      " 53%|█████▎    | 8/15 [18:05<15:49, 135.60s/it]"
     ]
    },
    {
     "name": "stdout",
     "output_type": "stream",
     "text": [
      "Epoch: 7 | Train_loss: 2.6924, Train_acc: 0.3508 | Test_loss: 1.9401, Test_acc: 0.4911\n"
     ]
    },
    {
     "name": "stderr",
     "output_type": "stream",
     "text": [
      " 60%|██████    | 9/15 [20:20<13:33, 135.57s/it]"
     ]
    },
    {
     "name": "stdout",
     "output_type": "stream",
     "text": [
      "Epoch: 8 | Train_loss: 2.6010, Train_acc: 0.3599 | Test_loss: 1.8133, Test_acc: 0.5184\n"
     ]
    },
    {
     "name": "stderr",
     "output_type": "stream",
     "text": [
      " 67%|██████▋   | 10/15 [22:36<11:18, 135.71s/it]"
     ]
    },
    {
     "name": "stdout",
     "output_type": "stream",
     "text": [
      "Epoch: 9 | Train_loss: 2.4776, Train_acc: 0.3870 | Test_loss: 1.7536, Test_acc: 0.5180\n"
     ]
    },
    {
     "name": "stderr",
     "output_type": "stream",
     "text": [
      " 73%|███████▎  | 11/15 [24:52<09:02, 135.69s/it]"
     ]
    },
    {
     "name": "stdout",
     "output_type": "stream",
     "text": [
      "Epoch: 10 | Train_loss: 2.4190, Train_acc: 0.4032 | Test_loss: 1.7180, Test_acc: 0.5422\n"
     ]
    },
    {
     "name": "stderr",
     "output_type": "stream",
     "text": [
      " 80%|████████  | 12/15 [27:08<06:47, 135.73s/it]"
     ]
    },
    {
     "name": "stdout",
     "output_type": "stream",
     "text": [
      "Epoch: 11 | Train_loss: 2.3936, Train_acc: 0.4103 | Test_loss: 1.7959, Test_acc: 0.5243\n"
     ]
    },
    {
     "name": "stderr",
     "output_type": "stream",
     "text": [
      " 87%|████████▋ | 13/15 [29:23<04:31, 135.72s/it]"
     ]
    },
    {
     "name": "stdout",
     "output_type": "stream",
     "text": [
      "Epoch: 12 | Train_loss: 2.2684, Train_acc: 0.4388 | Test_loss: 1.6354, Test_acc: 0.5623\n"
     ]
    },
    {
     "name": "stderr",
     "output_type": "stream",
     "text": [
      " 93%|█████████▎| 14/15 [31:39<02:15, 135.81s/it]"
     ]
    },
    {
     "name": "stdout",
     "output_type": "stream",
     "text": [
      "Epoch: 13 | Train_loss: 2.2121, Train_acc: 0.4504 | Test_loss: 1.6955, Test_acc: 0.5477\n"
     ]
    },
    {
     "name": "stderr",
     "output_type": "stream",
     "text": [
      "100%|██████████| 15/15 [33:55<00:00, 135.71s/it]"
     ]
    },
    {
     "name": "stdout",
     "output_type": "stream",
     "text": [
      "Epoch: 14 | Train_loss: 2.1615, Train_acc: 0.4647 | Test_loss: 1.6662, Test_acc: 0.5734\n"
     ]
    },
    {
     "name": "stderr",
     "output_type": "stream",
     "text": [
      "\n"
     ]
    },
    {
     "name": "stdout",
     "output_type": "stream",
     "text": [
      "[INFO] Creating SummaryWriter saving to ../runs\\2023-03-17\\VGG16_food101_test\\VGG16_food101\\LR_0.0001_WD_0.0001_EP_15_BS_16_GA_16\n"
     ]
    },
    {
     "name": "stderr",
     "output_type": "stream",
     "text": [
      "  7%|▋         | 1/15 [02:15<31:42, 135.92s/it]"
     ]
    },
    {
     "name": "stdout",
     "output_type": "stream",
     "text": [
      "Epoch: 0 | Train_loss: 4.6058, Train_acc: 0.0181 | Test_loss: 4.4959, Test_acc: 0.0305\n"
     ]
    },
    {
     "name": "stderr",
     "output_type": "stream",
     "text": [
      " 13%|█▎        | 2/15 [04:31<29:25, 135.77s/it]"
     ]
    },
    {
     "name": "stdout",
     "output_type": "stream",
     "text": [
      "Epoch: 1 | Train_loss: 4.3453, Train_acc: 0.0546 | Test_loss: 3.8067, Test_acc: 0.1345\n"
     ]
    },
    {
     "name": "stderr",
     "output_type": "stream",
     "text": [
      " 20%|██        | 3/15 [06:47<27:10, 135.84s/it]"
     ]
    },
    {
     "name": "stdout",
     "output_type": "stream",
     "text": [
      "Epoch: 2 | Train_loss: 3.9295, Train_acc: 0.1108 | Test_loss: 3.2415, Test_acc: 0.2069\n"
     ]
    },
    {
     "name": "stderr",
     "output_type": "stream",
     "text": [
      " 27%|██▋       | 4/15 [09:03<24:53, 135.75s/it]"
     ]
    },
    {
     "name": "stdout",
     "output_type": "stream",
     "text": [
      "Epoch: 3 | Train_loss: 3.6024, Train_acc: 0.1617 | Test_loss: 2.7354, Test_acc: 0.3104\n"
     ]
    },
    {
     "name": "stderr",
     "output_type": "stream",
     "text": [
      " 33%|███▎      | 5/15 [11:18<22:37, 135.78s/it]"
     ]
    },
    {
     "name": "stdout",
     "output_type": "stream",
     "text": [
      "Epoch: 4 | Train_loss: 3.3665, Train_acc: 0.2061 | Test_loss: 2.5398, Test_acc: 0.3543\n"
     ]
    },
    {
     "name": "stderr",
     "output_type": "stream",
     "text": [
      " 40%|████      | 6/15 [13:34<20:21, 135.69s/it]"
     ]
    },
    {
     "name": "stdout",
     "output_type": "stream",
     "text": [
      "Epoch: 5 | Train_loss: 3.1653, Train_acc: 0.2444 | Test_loss: 2.3564, Test_acc: 0.3884\n"
     ]
    },
    {
     "name": "stderr",
     "output_type": "stream",
     "text": [
      " 47%|████▋     | 7/15 [15:50<18:05, 135.65s/it]"
     ]
    },
    {
     "name": "stdout",
     "output_type": "stream",
     "text": [
      "Epoch: 6 | Train_loss: 3.0074, Train_acc: 0.2828 | Test_loss: 2.1681, Test_acc: 0.4184\n"
     ]
    },
    {
     "name": "stderr",
     "output_type": "stream",
     "text": [
      " 53%|█████▎    | 8/15 [18:05<15:49, 135.64s/it]"
     ]
    },
    {
     "name": "stdout",
     "output_type": "stream",
     "text": [
      "Epoch: 7 | Train_loss: 2.9014, Train_acc: 0.2963 | Test_loss: 2.1409, Test_acc: 0.4263\n"
     ]
    },
    {
     "name": "stderr",
     "output_type": "stream",
     "text": [
      " 60%|██████    | 9/15 [20:21<13:33, 135.64s/it]"
     ]
    },
    {
     "name": "stdout",
     "output_type": "stream",
     "text": [
      "Epoch: 8 | Train_loss: 2.8031, Train_acc: 0.3212 | Test_loss: 2.0499, Test_acc: 0.4614\n"
     ]
    },
    {
     "name": "stderr",
     "output_type": "stream",
     "text": [
      " 67%|██████▋   | 10/15 [22:37<11:18, 135.67s/it]"
     ]
    },
    {
     "name": "stdout",
     "output_type": "stream",
     "text": [
      "Epoch: 9 | Train_loss: 5895418281984.0000, Train_acc: 0.2835 | Test_loss: 2.2616, Test_acc: 0.4104\n"
     ]
    },
    {
     "name": "stderr",
     "output_type": "stream",
     "text": [
      " 73%|███████▎  | 11/15 [24:52<09:02, 135.71s/it]"
     ]
    },
    {
     "name": "stdout",
     "output_type": "stream",
     "text": [
      "Epoch: 10 | Train_loss: 2.9299, Train_acc: 0.2945 | Test_loss: 2.0710, Test_acc: 0.4620\n"
     ]
    },
    {
     "name": "stderr",
     "output_type": "stream",
     "text": [
      " 80%|████████  | 12/15 [27:08<06:46, 135.64s/it]"
     ]
    },
    {
     "name": "stdout",
     "output_type": "stream",
     "text": [
      "Epoch: 11 | Train_loss: 2.7235, Train_acc: 0.3313 | Test_loss: 1.9442, Test_acc: 0.4928\n"
     ]
    },
    {
     "name": "stderr",
     "output_type": "stream",
     "text": [
      " 87%|████████▋ | 13/15 [29:23<04:31, 135.59s/it]"
     ]
    },
    {
     "name": "stdout",
     "output_type": "stream",
     "text": [
      "Epoch: 12 | Train_loss: 2.5970, Train_acc: 0.3654 | Test_loss: 1.9017, Test_acc: 0.4956\n"
     ]
    },
    {
     "name": "stderr",
     "output_type": "stream",
     "text": [
      " 93%|█████████▎| 14/15 [31:39<02:15, 135.68s/it]"
     ]
    },
    {
     "name": "stdout",
     "output_type": "stream",
     "text": [
      "Epoch: 13 | Train_loss: 2.5196, Train_acc: 0.3769 | Test_loss: 1.8955, Test_acc: 0.4994\n"
     ]
    },
    {
     "name": "stderr",
     "output_type": "stream",
     "text": [
      "100%|██████████| 15/15 [33:55<00:00, 135.70s/it]"
     ]
    },
    {
     "name": "stdout",
     "output_type": "stream",
     "text": [
      "Epoch: 14 | Train_loss: 2.4461, Train_acc: 0.4008 | Test_loss: 1.7802, Test_acc: 0.5308\n"
     ]
    },
    {
     "name": "stderr",
     "output_type": "stream",
     "text": [
      "\n"
     ]
    },
    {
     "name": "stdout",
     "output_type": "stream",
     "text": [
      "[INFO] Creating SummaryWriter saving to ../runs\\2023-03-18\\VGG16_food101_test\\VGG16_food101\\LR_5e-05_WD_0.001_EP_15_BS_16_GA_16\n"
     ]
    },
    {
     "name": "stderr",
     "output_type": "stream",
     "text": [
      "  7%|▋         | 1/15 [02:15<31:41, 135.79s/it]"
     ]
    },
    {
     "name": "stdout",
     "output_type": "stream",
     "text": [
      "Epoch: 0 | Train_loss: 4.6038, Train_acc: 0.0160 | Test_loss: 4.4977, Test_acc: 0.0658\n"
     ]
    },
    {
     "name": "stderr",
     "output_type": "stream",
     "text": [
      " 13%|█▎        | 2/15 [04:31<29:25, 135.79s/it]"
     ]
    },
    {
     "name": "stdout",
     "output_type": "stream",
     "text": [
      "Epoch: 1 | Train_loss: 4.3559, Train_acc: 0.0588 | Test_loss: 3.5441, Test_acc: 0.1803\n"
     ]
    },
    {
     "name": "stderr",
     "output_type": "stream",
     "text": [
      " 20%|██        | 3/15 [06:47<27:07, 135.64s/it]"
     ]
    },
    {
     "name": "stdout",
     "output_type": "stream",
     "text": [
      "Epoch: 2 | Train_loss: 3.8635, Train_acc: 0.1315 | Test_loss: 2.9181, Test_acc: 0.3015\n"
     ]
    },
    {
     "name": "stderr",
     "output_type": "stream",
     "text": [
      " 27%|██▋       | 4/15 [09:02<24:52, 135.65s/it]"
     ]
    },
    {
     "name": "stdout",
     "output_type": "stream",
     "text": [
      "Epoch: 3 | Train_loss: 7375926329344.0000, Train_acc: 0.1797 | Test_loss: 2.4970, Test_acc: 0.3752\n"
     ]
    },
    {
     "name": "stderr",
     "output_type": "stream",
     "text": [
      " 33%|███▎      | 5/15 [11:18<22:37, 135.72s/it]"
     ]
    },
    {
     "name": "stdout",
     "output_type": "stream",
     "text": [
      "Epoch: 4 | Train_loss: 3.2568, Train_acc: 0.2364 | Test_loss: 2.2621, Test_acc: 0.4275\n"
     ]
    },
    {
     "name": "stderr",
     "output_type": "stream",
     "text": [
      " 40%|████      | 6/15 [13:33<20:20, 135.57s/it]"
     ]
    },
    {
     "name": "stdout",
     "output_type": "stream",
     "text": [
      "Epoch: 5 | Train_loss: 3.0819, Train_acc: 0.2673 | Test_loss: 2.1036, Test_acc: 0.4579\n"
     ]
    },
    {
     "name": "stderr",
     "output_type": "stream",
     "text": [
      " 47%|████▋     | 7/15 [15:49<18:05, 135.73s/it]"
     ]
    },
    {
     "name": "stdout",
     "output_type": "stream",
     "text": [
      "Epoch: 6 | Train_loss: 2.9027, Train_acc: 0.3013 | Test_loss: 1.9804, Test_acc: 0.4812\n"
     ]
    },
    {
     "name": "stderr",
     "output_type": "stream",
     "text": [
      " 53%|█████▎    | 8/15 [18:06<15:51, 135.92s/it]"
     ]
    },
    {
     "name": "stdout",
     "output_type": "stream",
     "text": [
      "Epoch: 7 | Train_loss: 2.7935, Train_acc: 0.3235 | Test_loss: 1.8874, Test_acc: 0.5033\n"
     ]
    },
    {
     "name": "stderr",
     "output_type": "stream",
     "text": [
      " 60%|██████    | 9/15 [20:22<13:35, 135.92s/it]"
     ]
    },
    {
     "name": "stdout",
     "output_type": "stream",
     "text": [
      "Epoch: 8 | Train_loss: 2.7088, Train_acc: 0.3401 | Test_loss: 1.8656, Test_acc: 0.5033\n"
     ]
    },
    {
     "name": "stderr",
     "output_type": "stream",
     "text": [
      " 67%|██████▋   | 10/15 [22:37<11:19, 135.84s/it]"
     ]
    },
    {
     "name": "stdout",
     "output_type": "stream",
     "text": [
      "Epoch: 9 | Train_loss: 2.6325, Train_acc: 0.3569 | Test_loss: 1.7653, Test_acc: 0.5234\n"
     ]
    },
    {
     "name": "stderr",
     "output_type": "stream",
     "text": [
      " 73%|███████▎  | 11/15 [24:53<09:03, 135.91s/it]"
     ]
    },
    {
     "name": "stdout",
     "output_type": "stream",
     "text": [
      "Epoch: 10 | Train_loss: 2.5561, Train_acc: 0.3693 | Test_loss: 1.7431, Test_acc: 0.5354\n"
     ]
    },
    {
     "name": "stderr",
     "output_type": "stream",
     "text": [
      " 80%|████████  | 12/15 [27:09<06:47, 135.89s/it]"
     ]
    },
    {
     "name": "stdout",
     "output_type": "stream",
     "text": [
      "Epoch: 11 | Train_loss: 2.4969, Train_acc: 0.3837 | Test_loss: 1.7232, Test_acc: 0.5474\n"
     ]
    },
    {
     "name": "stderr",
     "output_type": "stream",
     "text": [
      " 87%|████████▋ | 13/15 [29:25<04:31, 135.79s/it]"
     ]
    },
    {
     "name": "stdout",
     "output_type": "stream",
     "text": [
      "Epoch: 12 | Train_loss: 2.4374, Train_acc: 0.3976 | Test_loss: 1.7571, Test_acc: 0.5401\n"
     ]
    },
    {
     "name": "stderr",
     "output_type": "stream",
     "text": [
      " 93%|█████████▎| 14/15 [31:41<02:15, 135.80s/it]"
     ]
    },
    {
     "name": "stdout",
     "output_type": "stream",
     "text": [
      "Epoch: 13 | Train_loss: 2.3770, Train_acc: 0.4133 | Test_loss: 1.6278, Test_acc: 0.5678\n"
     ]
    },
    {
     "name": "stderr",
     "output_type": "stream",
     "text": [
      "100%|██████████| 15/15 [33:56<00:00, 135.80s/it]"
     ]
    },
    {
     "name": "stdout",
     "output_type": "stream",
     "text": [
      "Epoch: 14 | Train_loss: 2.3513, Train_acc: 0.4157 | Test_loss: 1.6479, Test_acc: 0.5605\n"
     ]
    },
    {
     "name": "stderr",
     "output_type": "stream",
     "text": [
      "\n"
     ]
    },
    {
     "name": "stdout",
     "output_type": "stream",
     "text": [
      "[INFO] Creating SummaryWriter saving to ../runs\\2023-03-18\\VGG16_food101_test\\VGG16_food101\\LR_5e-05_WD_0.0005_EP_15_BS_16_GA_16\n"
     ]
    },
    {
     "name": "stderr",
     "output_type": "stream",
     "text": [
      "  7%|▋         | 1/15 [02:15<31:38, 135.57s/it]"
     ]
    },
    {
     "name": "stdout",
     "output_type": "stream",
     "text": [
      "Epoch: 0 | Train_loss: 4.6087, Train_acc: 0.0171 | Test_loss: 4.5346, Test_acc: 0.0313\n"
     ]
    },
    {
     "name": "stderr",
     "output_type": "stream",
     "text": [
      " 13%|█▎        | 2/15 [04:31<29:23, 135.64s/it]"
     ]
    },
    {
     "name": "stdout",
     "output_type": "stream",
     "text": [
      "Epoch: 1 | Train_loss: 4.3979, Train_acc: 0.0506 | Test_loss: 3.9101, Test_acc: 0.1272\n"
     ]
    },
    {
     "name": "stderr",
     "output_type": "stream",
     "text": [
      " 20%|██        | 3/15 [06:46<27:08, 135.67s/it]"
     ]
    },
    {
     "name": "stdout",
     "output_type": "stream",
     "text": [
      "Epoch: 2 | Train_loss: 4.0065, Train_acc: 0.1069 | Test_loss: 3.2707, Test_acc: 0.2193\n"
     ]
    },
    {
     "name": "stderr",
     "output_type": "stream",
     "text": [
      " 27%|██▋       | 4/15 [09:02<24:51, 135.61s/it]"
     ]
    },
    {
     "name": "stdout",
     "output_type": "stream",
     "text": [
      "Epoch: 3 | Train_loss: 3.6494, Train_acc: 0.1621 | Test_loss: 2.8316, Test_acc: 0.3140\n"
     ]
    },
    {
     "name": "stderr",
     "output_type": "stream",
     "text": [
      " 33%|███▎      | 5/15 [11:18<22:36, 135.60s/it]"
     ]
    },
    {
     "name": "stdout",
     "output_type": "stream",
     "text": [
      "Epoch: 4 | Train_loss: 3.4114, Train_acc: 0.2036 | Test_loss: 2.4464, Test_acc: 0.3856\n"
     ]
    },
    {
     "name": "stderr",
     "output_type": "stream",
     "text": [
      " 40%|████      | 6/15 [13:33<20:20, 135.62s/it]"
     ]
    },
    {
     "name": "stdout",
     "output_type": "stream",
     "text": [
      "Epoch: 5 | Train_loss: 3.2231, Train_acc: 0.2401 | Test_loss: 2.2781, Test_acc: 0.4057\n"
     ]
    },
    {
     "name": "stderr",
     "output_type": "stream",
     "text": [
      " 47%|████▋     | 7/15 [15:49<18:04, 135.61s/it]"
     ]
    },
    {
     "name": "stdout",
     "output_type": "stream",
     "text": [
      "Epoch: 6 | Train_loss: 3.0601, Train_acc: 0.2665 | Test_loss: 2.1516, Test_acc: 0.4389\n"
     ]
    },
    {
     "name": "stderr",
     "output_type": "stream",
     "text": [
      " 53%|█████▎    | 8/15 [18:05<15:50, 135.75s/it]"
     ]
    },
    {
     "name": "stdout",
     "output_type": "stream",
     "text": [
      "Epoch: 7 | Train_loss: 2.9200, Train_acc: 0.3004 | Test_loss: 2.0313, Test_acc: 0.4618\n"
     ]
    },
    {
     "name": "stderr",
     "output_type": "stream",
     "text": [
      " 60%|██████    | 9/15 [20:20<13:33, 135.64s/it]"
     ]
    },
    {
     "name": "stdout",
     "output_type": "stream",
     "text": [
      "Epoch: 8 | Train_loss: 2.8283, Train_acc: 0.3219 | Test_loss: 1.9231, Test_acc: 0.4995\n"
     ]
    },
    {
     "name": "stderr",
     "output_type": "stream",
     "text": [
      " 67%|██████▋   | 10/15 [22:36<11:18, 135.65s/it]"
     ]
    },
    {
     "name": "stdout",
     "output_type": "stream",
     "text": [
      "Epoch: 9 | Train_loss: 2.7329, Train_acc: 0.3423 | Test_loss: 1.8385, Test_acc: 0.5173\n"
     ]
    },
    {
     "name": "stderr",
     "output_type": "stream",
     "text": [
      " 73%|███████▎  | 11/15 [24:52<09:02, 135.70s/it]"
     ]
    },
    {
     "name": "stdout",
     "output_type": "stream",
     "text": [
      "Epoch: 10 | Train_loss: 2.6415, Train_acc: 0.3531 | Test_loss: 1.8623, Test_acc: 0.5053\n"
     ]
    },
    {
     "name": "stderr",
     "output_type": "stream",
     "text": [
      " 80%|████████  | 12/15 [27:08<06:47, 135.73s/it]"
     ]
    },
    {
     "name": "stdout",
     "output_type": "stream",
     "text": [
      "Epoch: 11 | Train_loss: 2.5572, Train_acc: 0.3809 | Test_loss: 1.8106, Test_acc: 0.5147\n"
     ]
    },
    {
     "name": "stderr",
     "output_type": "stream",
     "text": [
      " 87%|████████▋ | 13/15 [29:23<04:31, 135.76s/it]"
     ]
    },
    {
     "name": "stdout",
     "output_type": "stream",
     "text": [
      "Epoch: 12 | Train_loss: 2.5072, Train_acc: 0.3980 | Test_loss: 1.7059, Test_acc: 0.5354\n"
     ]
    },
    {
     "name": "stderr",
     "output_type": "stream",
     "text": [
      " 93%|█████████▎| 14/15 [31:39<02:15, 135.81s/it]"
     ]
    },
    {
     "name": "stdout",
     "output_type": "stream",
     "text": [
      "Epoch: 13 | Train_loss: 2.4014, Train_acc: 0.4111 | Test_loss: 1.6899, Test_acc: 0.5456\n"
     ]
    },
    {
     "name": "stderr",
     "output_type": "stream",
     "text": [
      "100%|██████████| 15/15 [33:55<00:00, 135.69s/it]"
     ]
    },
    {
     "name": "stdout",
     "output_type": "stream",
     "text": [
      "Epoch: 14 | Train_loss: 2.3479, Train_acc: 0.4254 | Test_loss: 1.6607, Test_acc: 0.5529\n"
     ]
    },
    {
     "name": "stderr",
     "output_type": "stream",
     "text": [
      "\n"
     ]
    },
    {
     "name": "stdout",
     "output_type": "stream",
     "text": [
      "[INFO] Creating SummaryWriter saving to ../runs\\2023-03-18\\VGG16_food101_test\\VGG16_food101\\LR_5e-05_WD_0.0001_EP_15_BS_16_GA_16\n"
     ]
    },
    {
     "name": "stderr",
     "output_type": "stream",
     "text": [
      "  7%|▋         | 1/15 [02:16<31:46, 136.19s/it]"
     ]
    },
    {
     "name": "stdout",
     "output_type": "stream",
     "text": [
      "Epoch: 0 | Train_loss: 4.6223, Train_acc: 0.0133 | Test_loss: 4.5922, Test_acc: 0.0245\n"
     ]
    },
    {
     "name": "stderr",
     "output_type": "stream",
     "text": [
      " 13%|█▎        | 2/15 [04:32<29:28, 136.05s/it]"
     ]
    },
    {
     "name": "stdout",
     "output_type": "stream",
     "text": [
      "Epoch: 1 | Train_loss: 4.5534, Train_acc: 0.0261 | Test_loss: 4.2544, Test_acc: 0.0821\n"
     ]
    },
    {
     "name": "stderr",
     "output_type": "stream",
     "text": [
      " 20%|██        | 3/15 [06:47<27:11, 135.96s/it]"
     ]
    },
    {
     "name": "stdout",
     "output_type": "stream",
     "text": [
      "Epoch: 2 | Train_loss: 4.1818, Train_acc: 0.0836 | Test_loss: 3.3955, Test_acc: 0.2129\n"
     ]
    },
    {
     "name": "stderr",
     "output_type": "stream",
     "text": [
      " 27%|██▋       | 4/15 [09:03<24:55, 135.97s/it]"
     ]
    },
    {
     "name": "stdout",
     "output_type": "stream",
     "text": [
      "Epoch: 3 | Train_loss: 3.7359, Train_acc: 0.1497 | Test_loss: 2.7913, Test_acc: 0.3295\n"
     ]
    },
    {
     "name": "stderr",
     "output_type": "stream",
     "text": [
      " 33%|███▎      | 5/15 [11:19<22:38, 135.88s/it]"
     ]
    },
    {
     "name": "stdout",
     "output_type": "stream",
     "text": [
      "Epoch: 4 | Train_loss: 3.4013, Train_acc: 0.2021 | Test_loss: 2.3744, Test_acc: 0.3913\n"
     ]
    },
    {
     "name": "stderr",
     "output_type": "stream",
     "text": [
      " 40%|████      | 6/15 [13:35<20:22, 135.88s/it]"
     ]
    },
    {
     "name": "stdout",
     "output_type": "stream",
     "text": [
      "Epoch: 5 | Train_loss: 3.2066, Train_acc: 0.2439 | Test_loss: 2.2402, Test_acc: 0.4344\n"
     ]
    },
    {
     "name": "stderr",
     "output_type": "stream",
     "text": [
      " 47%|████▋     | 7/15 [15:51<18:06, 135.84s/it]"
     ]
    },
    {
     "name": "stdout",
     "output_type": "stream",
     "text": [
      "Epoch: 6 | Train_loss: 3.0498, Train_acc: 0.2743 | Test_loss: 2.1062, Test_acc: 0.4524\n"
     ]
    },
    {
     "name": "stderr",
     "output_type": "stream",
     "text": [
      " 53%|█████▎    | 8/15 [18:07<15:50, 135.83s/it]"
     ]
    },
    {
     "name": "stdout",
     "output_type": "stream",
     "text": [
      "Epoch: 7 | Train_loss: 2.9027, Train_acc: 0.3065 | Test_loss: 1.9746, Test_acc: 0.4842\n"
     ]
    },
    {
     "name": "stderr",
     "output_type": "stream",
     "text": [
      " 60%|██████    | 9/15 [20:22<13:34, 135.76s/it]"
     ]
    },
    {
     "name": "stdout",
     "output_type": "stream",
     "text": [
      "Epoch: 8 | Train_loss: 2.7887, Train_acc: 0.3304 | Test_loss: 1.9022, Test_acc: 0.4968\n"
     ]
    },
    {
     "name": "stderr",
     "output_type": "stream",
     "text": [
      " 67%|██████▋   | 10/15 [22:38<11:18, 135.70s/it]"
     ]
    },
    {
     "name": "stdout",
     "output_type": "stream",
     "text": [
      "Epoch: 9 | Train_loss: 2.7097, Train_acc: 0.3446 | Test_loss: 1.8545, Test_acc: 0.5007\n"
     ]
    },
    {
     "name": "stderr",
     "output_type": "stream",
     "text": [
      " 73%|███████▎  | 11/15 [24:54<09:02, 135.71s/it]"
     ]
    },
    {
     "name": "stdout",
     "output_type": "stream",
     "text": [
      "Epoch: 10 | Train_loss: 2.5952, Train_acc: 0.3634 | Test_loss: 1.7860, Test_acc: 0.5144\n"
     ]
    },
    {
     "name": "stderr",
     "output_type": "stream",
     "text": [
      " 80%|████████  | 12/15 [27:09<06:47, 135.70s/it]"
     ]
    },
    {
     "name": "stdout",
     "output_type": "stream",
     "text": [
      "Epoch: 11 | Train_loss: 2.5327, Train_acc: 0.3806 | Test_loss: 1.7497, Test_acc: 0.5291\n"
     ]
    },
    {
     "name": "stderr",
     "output_type": "stream",
     "text": [
      " 87%|████████▋ | 13/15 [29:26<04:31, 135.94s/it]"
     ]
    },
    {
     "name": "stdout",
     "output_type": "stream",
     "text": [
      "Epoch: 12 | Train_loss: 2.4815, Train_acc: 0.3840 | Test_loss: 1.7817, Test_acc: 0.5270\n"
     ]
    },
    {
     "name": "stderr",
     "output_type": "stream",
     "text": [
      " 93%|█████████▎| 14/15 [31:41<02:15, 135.83s/it]"
     ]
    },
    {
     "name": "stdout",
     "output_type": "stream",
     "text": [
      "Epoch: 13 | Train_loss: 2.3819, Train_acc: 0.4052 | Test_loss: 1.7309, Test_acc: 0.5331\n"
     ]
    },
    {
     "name": "stderr",
     "output_type": "stream",
     "text": [
      "100%|██████████| 15/15 [33:57<00:00, 135.81s/it]"
     ]
    },
    {
     "name": "stdout",
     "output_type": "stream",
     "text": [
      "Epoch: 14 | Train_loss: 2.3535, Train_acc: 0.4140 | Test_loss: 1.6510, Test_acc: 0.5529\n"
     ]
    },
    {
     "name": "stderr",
     "output_type": "stream",
     "text": [
      "\n"
     ]
    },
    {
     "name": "stdout",
     "output_type": "stream",
     "text": [
      "[INFO] Creating SummaryWriter saving to ../runs\\2023-03-18\\VGG16_food101_test\\VGG16_food101\\LR_1e-05_WD_0.001_EP_15_BS_16_GA_16\n"
     ]
    },
    {
     "name": "stderr",
     "output_type": "stream",
     "text": [
      "  7%|▋         | 1/15 [02:15<31:39, 135.67s/it]"
     ]
    },
    {
     "name": "stdout",
     "output_type": "stream",
     "text": [
      "Epoch: 0 | Train_loss: 4.6463, Train_acc: 0.0131 | Test_loss: 4.5904, Test_acc: 0.0257\n"
     ]
    },
    {
     "name": "stderr",
     "output_type": "stream",
     "text": [
      " 13%|█▎        | 2/15 [04:31<29:22, 135.54s/it]"
     ]
    },
    {
     "name": "stdout",
     "output_type": "stream",
     "text": [
      "Epoch: 1 | Train_loss: 4.5986, Train_acc: 0.0154 | Test_loss: 4.5564, Test_acc: 0.0388\n"
     ]
    },
    {
     "name": "stderr",
     "output_type": "stream",
     "text": [
      " 20%|██        | 3/15 [06:46<27:05, 135.46s/it]"
     ]
    },
    {
     "name": "stdout",
     "output_type": "stream",
     "text": [
      "Epoch: 2 | Train_loss: 4.5570, Train_acc: 0.0253 | Test_loss: 4.4513, Test_acc: 0.0419\n"
     ]
    },
    {
     "name": "stderr",
     "output_type": "stream",
     "text": [
      " 27%|██▋       | 4/15 [09:01<24:50, 135.47s/it]"
     ]
    },
    {
     "name": "stdout",
     "output_type": "stream",
     "text": [
      "Epoch: 3 | Train_loss: 4.4750, Train_acc: 0.0405 | Test_loss: 4.2297, Test_acc: 0.0940\n"
     ]
    },
    {
     "name": "stderr",
     "output_type": "stream",
     "text": [
      " 33%|███▎      | 5/15 [11:17<22:35, 135.56s/it]"
     ]
    },
    {
     "name": "stdout",
     "output_type": "stream",
     "text": [
      "Epoch: 4 | Train_loss: 4.3085, Train_acc: 0.0618 | Test_loss: 3.8373, Test_acc: 0.1589\n"
     ]
    },
    {
     "name": "stderr",
     "output_type": "stream",
     "text": [
      " 40%|████      | 6/15 [13:33<20:20, 135.65s/it]"
     ]
    },
    {
     "name": "stdout",
     "output_type": "stream",
     "text": [
      "Epoch: 5 | Train_loss: 4.1178, Train_acc: 0.0929 | Test_loss: 3.4894, Test_acc: 0.2236\n"
     ]
    },
    {
     "name": "stderr",
     "output_type": "stream",
     "text": [
      " 47%|████▋     | 7/15 [15:48<18:04, 135.53s/it]"
     ]
    },
    {
     "name": "stdout",
     "output_type": "stream",
     "text": [
      "Epoch: 6 | Train_loss: 3.9271, Train_acc: 0.1162 | Test_loss: 3.1609, Test_acc: 0.2755\n"
     ]
    },
    {
     "name": "stderr",
     "output_type": "stream",
     "text": [
      " 53%|█████▎    | 8/15 [18:04<15:49, 135.62s/it]"
     ]
    },
    {
     "name": "stdout",
     "output_type": "stream",
     "text": [
      "Epoch: 7 | Train_loss: 3.8122, Train_acc: 0.1398 | Test_loss: 2.9898, Test_acc: 0.3130\n"
     ]
    },
    {
     "name": "stderr",
     "output_type": "stream",
     "text": [
      " 60%|██████    | 9/15 [20:19<13:33, 135.50s/it]"
     ]
    },
    {
     "name": "stdout",
     "output_type": "stream",
     "text": [
      "Epoch: 8 | Train_loss: 3.6649, Train_acc: 0.1641 | Test_loss: 2.8181, Test_acc: 0.3396\n"
     ]
    },
    {
     "name": "stderr",
     "output_type": "stream",
     "text": [
      " 67%|██████▋   | 10/15 [22:35<11:17, 135.60s/it]"
     ]
    },
    {
     "name": "stdout",
     "output_type": "stream",
     "text": [
      "Epoch: 9 | Train_loss: 3.5461, Train_acc: 0.1827 | Test_loss: 2.6728, Test_acc: 0.3605\n"
     ]
    },
    {
     "name": "stderr",
     "output_type": "stream",
     "text": [
      " 73%|███████▎  | 11/15 [24:51<09:02, 135.61s/it]"
     ]
    },
    {
     "name": "stdout",
     "output_type": "stream",
     "text": [
      "Epoch: 10 | Train_loss: 3.4747, Train_acc: 0.1978 | Test_loss: 2.5628, Test_acc: 0.3775\n"
     ]
    },
    {
     "name": "stderr",
     "output_type": "stream",
     "text": [
      " 80%|████████  | 12/15 [27:06<06:46, 135.58s/it]"
     ]
    },
    {
     "name": "stdout",
     "output_type": "stream",
     "text": [
      "Epoch: 11 | Train_loss: 3.3945, Train_acc: 0.2049 | Test_loss: 2.4675, Test_acc: 0.4008\n"
     ]
    },
    {
     "name": "stderr",
     "output_type": "stream",
     "text": [
      " 87%|████████▋ | 13/15 [29:22<04:31, 135.61s/it]"
     ]
    },
    {
     "name": "stdout",
     "output_type": "stream",
     "text": [
      "Epoch: 12 | Train_loss: 3.2965, Train_acc: 0.2289 | Test_loss: 2.3822, Test_acc: 0.4238\n"
     ]
    },
    {
     "name": "stderr",
     "output_type": "stream",
     "text": [
      " 93%|█████████▎| 14/15 [31:38<02:15, 135.64s/it]"
     ]
    },
    {
     "name": "stdout",
     "output_type": "stream",
     "text": [
      "Epoch: 13 | Train_loss: 3.2574, Train_acc: 0.2319 | Test_loss: 2.3112, Test_acc: 0.4242\n"
     ]
    },
    {
     "name": "stderr",
     "output_type": "stream",
     "text": [
      "100%|██████████| 15/15 [33:53<00:00, 135.58s/it]"
     ]
    },
    {
     "name": "stdout",
     "output_type": "stream",
     "text": [
      "Epoch: 14 | Train_loss: 3.1870, Train_acc: 0.2415 | Test_loss: 2.2709, Test_acc: 0.4361\n"
     ]
    },
    {
     "name": "stderr",
     "output_type": "stream",
     "text": [
      "\n"
     ]
    },
    {
     "name": "stdout",
     "output_type": "stream",
     "text": [
      "[INFO] Creating SummaryWriter saving to ../runs\\2023-03-18\\VGG16_food101_test\\VGG16_food101\\LR_1e-05_WD_0.0005_EP_15_BS_16_GA_16\n"
     ]
    },
    {
     "name": "stderr",
     "output_type": "stream",
     "text": [
      "  7%|▋         | 1/15 [02:15<31:43, 135.96s/it]"
     ]
    },
    {
     "name": "stdout",
     "output_type": "stream",
     "text": [
      "Epoch: 0 | Train_loss: 4.6514, Train_acc: 0.0112 | Test_loss: 4.5906, Test_acc: 0.0175\n"
     ]
    },
    {
     "name": "stderr",
     "output_type": "stream",
     "text": [
      " 13%|█▎        | 2/15 [04:31<29:22, 135.60s/it]"
     ]
    },
    {
     "name": "stdout",
     "output_type": "stream",
     "text": [
      "Epoch: 1 | Train_loss: 4.5996, Train_acc: 0.0167 | Test_loss: 4.5680, Test_acc: 0.0237\n"
     ]
    },
    {
     "name": "stderr",
     "output_type": "stream",
     "text": [
      " 20%|██        | 3/15 [06:47<27:08, 135.67s/it]"
     ]
    },
    {
     "name": "stdout",
     "output_type": "stream",
     "text": [
      "Epoch: 2 | Train_loss: 4.5810, Train_acc: 0.0208 | Test_loss: 4.5150, Test_acc: 0.0484\n"
     ]
    },
    {
     "name": "stderr",
     "output_type": "stream",
     "text": [
      " 27%|██▋       | 4/15 [09:02<24:51, 135.62s/it]"
     ]
    },
    {
     "name": "stdout",
     "output_type": "stream",
     "text": [
      "Epoch: 3 | Train_loss: 4.5275, Train_acc: 0.0335 | Test_loss: 4.3421, Test_acc: 0.0897\n"
     ]
    },
    {
     "name": "stderr",
     "output_type": "stream",
     "text": [
      " 33%|███▎      | 5/15 [11:18<22:37, 135.80s/it]"
     ]
    },
    {
     "name": "stdout",
     "output_type": "stream",
     "text": [
      "Epoch: 4 | Train_loss: 4.3982, Train_acc: 0.0562 | Test_loss: 3.9947, Test_acc: 0.1322\n"
     ]
    },
    {
     "name": "stderr",
     "output_type": "stream",
     "text": [
      " 40%|████      | 6/15 [13:34<20:21, 135.69s/it]"
     ]
    },
    {
     "name": "stdout",
     "output_type": "stream",
     "text": [
      "Epoch: 5 | Train_loss: 4.2113, Train_acc: 0.0790 | Test_loss: 3.6527, Test_acc: 0.2130\n"
     ]
    },
    {
     "name": "stderr",
     "output_type": "stream",
     "text": [
      " 47%|████▋     | 7/15 [15:49<18:05, 135.69s/it]"
     ]
    },
    {
     "name": "stdout",
     "output_type": "stream",
     "text": [
      "Epoch: 6 | Train_loss: 4.0074, Train_acc: 0.1104 | Test_loss: 3.2820, Test_acc: 0.2736\n"
     ]
    },
    {
     "name": "stderr",
     "output_type": "stream",
     "text": [
      " 53%|█████▎    | 8/15 [18:05<15:50, 135.74s/it]"
     ]
    },
    {
     "name": "stdout",
     "output_type": "stream",
     "text": [
      "Epoch: 7 | Train_loss: 3.8262, Train_acc: 0.1373 | Test_loss: 3.0377, Test_acc: 0.3153\n"
     ]
    },
    {
     "name": "stderr",
     "output_type": "stream",
     "text": [
      " 60%|██████    | 9/15 [20:21<13:33, 135.64s/it]"
     ]
    },
    {
     "name": "stdout",
     "output_type": "stream",
     "text": [
      "Epoch: 8 | Train_loss: 3.6946, Train_acc: 0.1573 | Test_loss: 2.8542, Test_acc: 0.3421\n"
     ]
    },
    {
     "name": "stderr",
     "output_type": "stream",
     "text": [
      " 67%|██████▋   | 10/15 [22:37<11:18, 135.74s/it]"
     ]
    },
    {
     "name": "stdout",
     "output_type": "stream",
     "text": [
      "Epoch: 9 | Train_loss: 3.5785, Train_acc: 0.1799 | Test_loss: 2.6617, Test_acc: 0.3756\n"
     ]
    },
    {
     "name": "stderr",
     "output_type": "stream",
     "text": [
      " 73%|███████▎  | 11/15 [24:52<09:02, 135.74s/it]"
     ]
    },
    {
     "name": "stdout",
     "output_type": "stream",
     "text": [
      "Epoch: 10 | Train_loss: 3.4879, Train_acc: 0.1932 | Test_loss: 2.5975, Test_acc: 0.3875\n"
     ]
    },
    {
     "name": "stderr",
     "output_type": "stream",
     "text": [
      " 80%|████████  | 12/15 [27:08<06:47, 135.76s/it]"
     ]
    },
    {
     "name": "stdout",
     "output_type": "stream",
     "text": [
      "Epoch: 11 | Train_loss: 3.3986, Train_acc: 0.2082 | Test_loss: 2.4322, Test_acc: 0.4021\n"
     ]
    },
    {
     "name": "stderr",
     "output_type": "stream",
     "text": [
      " 87%|████████▋ | 13/15 [29:24<04:31, 135.90s/it]"
     ]
    },
    {
     "name": "stdout",
     "output_type": "stream",
     "text": [
      "Epoch: 12 | Train_loss: 3.3238, Train_acc: 0.2267 | Test_loss: 2.3585, Test_acc: 0.4167\n"
     ]
    },
    {
     "name": "stderr",
     "output_type": "stream",
     "text": [
      " 93%|█████████▎| 14/15 [31:40<02:15, 135.96s/it]"
     ]
    },
    {
     "name": "stdout",
     "output_type": "stream",
     "text": [
      "Epoch: 13 | Train_loss: 3.2827, Train_acc: 0.2281 | Test_loss: 2.3064, Test_acc: 0.4373\n"
     ]
    },
    {
     "name": "stderr",
     "output_type": "stream",
     "text": [
      "100%|██████████| 15/15 [33:56<00:00, 135.77s/it]"
     ]
    },
    {
     "name": "stdout",
     "output_type": "stream",
     "text": [
      "Epoch: 14 | Train_loss: 3.2289, Train_acc: 0.2381 | Test_loss: 2.2736, Test_acc: 0.4457\n"
     ]
    },
    {
     "name": "stderr",
     "output_type": "stream",
     "text": [
      "\n"
     ]
    },
    {
     "name": "stdout",
     "output_type": "stream",
     "text": [
      "[INFO] Creating SummaryWriter saving to ../runs\\2023-03-18\\VGG16_food101_test\\VGG16_food101\\LR_1e-05_WD_0.0001_EP_15_BS_16_GA_16\n"
     ]
    },
    {
     "name": "stderr",
     "output_type": "stream",
     "text": [
      "  7%|▋         | 1/15 [02:15<31:40, 135.77s/it]"
     ]
    },
    {
     "name": "stdout",
     "output_type": "stream",
     "text": [
      "Epoch: 0 | Train_loss: 4.6521, Train_acc: 0.0099 | Test_loss: 4.5966, Test_acc: 0.0163\n"
     ]
    },
    {
     "name": "stderr",
     "output_type": "stream",
     "text": [
      " 13%|█▎        | 2/15 [04:31<29:24, 135.71s/it]"
     ]
    },
    {
     "name": "stdout",
     "output_type": "stream",
     "text": [
      "Epoch: 1 | Train_loss: 4.6018, Train_acc: 0.0160 | Test_loss: 4.5665, Test_acc: 0.0278\n"
     ]
    },
    {
     "name": "stderr",
     "output_type": "stream",
     "text": [
      " 20%|██        | 3/15 [06:46<27:07, 135.64s/it]"
     ]
    },
    {
     "name": "stdout",
     "output_type": "stream",
     "text": [
      "Epoch: 2 | Train_loss: 4.5736, Train_acc: 0.0244 | Test_loss: 4.5028, Test_acc: 0.0452\n"
     ]
    },
    {
     "name": "stderr",
     "output_type": "stream",
     "text": [
      " 27%|██▋       | 4/15 [09:02<24:50, 135.51s/it]"
     ]
    },
    {
     "name": "stdout",
     "output_type": "stream",
     "text": [
      "Epoch: 3 | Train_loss: 4.5050, Train_acc: 0.0331 | Test_loss: 4.2753, Test_acc: 0.0742\n"
     ]
    },
    {
     "name": "stderr",
     "output_type": "stream",
     "text": [
      " 33%|███▎      | 5/15 [11:18<22:36, 135.60s/it]"
     ]
    },
    {
     "name": "stdout",
     "output_type": "stream",
     "text": [
      "Epoch: 4 | Train_loss: 4.3498, Train_acc: 0.0569 | Test_loss: 3.8797, Test_acc: 0.1443\n"
     ]
    },
    {
     "name": "stderr",
     "output_type": "stream",
     "text": [
      " 40%|████      | 6/15 [13:33<20:20, 135.58s/it]"
     ]
    },
    {
     "name": "stdout",
     "output_type": "stream",
     "text": [
      "Epoch: 5 | Train_loss: 4.1451, Train_acc: 0.0807 | Test_loss: 3.5279, Test_acc: 0.2185\n"
     ]
    },
    {
     "name": "stderr",
     "output_type": "stream",
     "text": [
      " 47%|████▋     | 7/15 [15:49<18:05, 135.67s/it]"
     ]
    },
    {
     "name": "stdout",
     "output_type": "stream",
     "text": [
      "Epoch: 6 | Train_loss: 3.9648, Train_acc: 0.1145 | Test_loss: 3.2394, Test_acc: 0.2676\n"
     ]
    },
    {
     "name": "stderr",
     "output_type": "stream",
     "text": [
      " 53%|█████▎    | 8/15 [18:04<15:49, 135.62s/it]"
     ]
    },
    {
     "name": "stdout",
     "output_type": "stream",
     "text": [
      "Epoch: 7 | Train_loss: 3.8088, Train_acc: 0.1367 | Test_loss: 2.9978, Test_acc: 0.3163\n"
     ]
    },
    {
     "name": "stderr",
     "output_type": "stream",
     "text": [
      " 60%|██████    | 9/15 [20:20<13:33, 135.57s/it]"
     ]
    },
    {
     "name": "stdout",
     "output_type": "stream",
     "text": [
      "Epoch: 8 | Train_loss: 3.6969, Train_acc: 0.1537 | Test_loss: 2.8158, Test_acc: 0.3396\n"
     ]
    },
    {
     "name": "stderr",
     "output_type": "stream",
     "text": [
      " 67%|██████▋   | 10/15 [22:35<11:17, 135.52s/it]"
     ]
    },
    {
     "name": "stdout",
     "output_type": "stream",
     "text": [
      "Epoch: 9 | Train_loss: 3.5832, Train_acc: 0.1752 | Test_loss: 2.6851, Test_acc: 0.3539\n"
     ]
    },
    {
     "name": "stderr",
     "output_type": "stream",
     "text": [
      " 73%|███████▎  | 11/15 [24:51<09:02, 135.57s/it]"
     ]
    },
    {
     "name": "stdout",
     "output_type": "stream",
     "text": [
      "Epoch: 10 | Train_loss: 3.4898, Train_acc: 0.1910 | Test_loss: 2.5715, Test_acc: 0.3828\n"
     ]
    },
    {
     "name": "stderr",
     "output_type": "stream",
     "text": [
      " 80%|████████  | 12/15 [27:07<06:47, 135.69s/it]"
     ]
    },
    {
     "name": "stdout",
     "output_type": "stream",
     "text": [
      "Epoch: 11 | Train_loss: 3.4294, Train_acc: 0.2045 | Test_loss: 2.4410, Test_acc: 0.4089\n"
     ]
    },
    {
     "name": "stderr",
     "output_type": "stream",
     "text": [
      " 87%|████████▋ | 13/15 [29:23<04:31, 135.73s/it]"
     ]
    },
    {
     "name": "stdout",
     "output_type": "stream",
     "text": [
      "Epoch: 12 | Train_loss: 3.3273, Train_acc: 0.2247 | Test_loss: 2.3799, Test_acc: 0.4148\n"
     ]
    },
    {
     "name": "stderr",
     "output_type": "stream",
     "text": [
      " 93%|█████████▎| 14/15 [31:39<02:15, 135.78s/it]"
     ]
    },
    {
     "name": "stdout",
     "output_type": "stream",
     "text": [
      "Epoch: 13 | Train_loss: 3.2944, Train_acc: 0.2258 | Test_loss: 2.2687, Test_acc: 0.4416\n"
     ]
    },
    {
     "name": "stderr",
     "output_type": "stream",
     "text": [
      "100%|██████████| 15/15 [33:54<00:00, 135.66s/it]"
     ]
    },
    {
     "name": "stdout",
     "output_type": "stream",
     "text": [
      "Epoch: 14 | Train_loss: 3.2207, Train_acc: 0.2427 | Test_loss: 2.2438, Test_acc: 0.4464\n"
     ]
    },
    {
     "name": "stderr",
     "output_type": "stream",
     "text": [
      "\n"
     ]
    }
   ],
   "source": [
    "train_dataset, _ = data_setup.split_dataset(\n",
    "    dataset=train_data_food101,\n",
    "    split_size=0.1,\n",
    "    seed=42\n",
    ")\n",
    "test_dataset, _ = data_setup.split_dataset(\n",
    "    dataset=test_data_food101,\n",
    "    split_size=0.1,\n",
    "    seed=42\n",
    ")\n",
    "\n",
    "tuning_results = engine.HP_tune_train(\n",
    "    model_generator=model_generator,\n",
    "    model_weights=vgg16_weights,\n",
    "    model_name='VGG16_food101',\n",
    "    train_dataset=train_dataset,\n",
    "    test_dataset=test_dataset,\n",
    "    learning_rate_list=learning_rate_list,\n",
    "    weight_decay_list=weight_decay_list,\n",
    "    epochs_list=epochs_list,\n",
    "    batch_size_list=batch_size_list,\n",
    "    is_tensorboard_writer=True,\n",
    "    device=device,\n",
    "    gradient_accumulation_num=16\n",
    ")"
   ]
  },
  {
   "cell_type": "code",
   "execution_count": 8,
   "metadata": {},
   "outputs": [
    {
     "data": {
      "text/html": [
       "<div>\n",
       "<style scoped>\n",
       "    .dataframe tbody tr th:only-of-type {\n",
       "        vertical-align: middle;\n",
       "    }\n",
       "\n",
       "    .dataframe tbody tr th {\n",
       "        vertical-align: top;\n",
       "    }\n",
       "\n",
       "    .dataframe thead th {\n",
       "        text-align: right;\n",
       "    }\n",
       "</style>\n",
       "<table border=\"1\" class=\"dataframe\">\n",
       "  <thead>\n",
       "    <tr style=\"text-align: right;\">\n",
       "      <th></th>\n",
       "      <th>learning_rate</th>\n",
       "      <th>weight_decay</th>\n",
       "      <th>epochs</th>\n",
       "      <th>batch_size</th>\n",
       "      <th>train_loss</th>\n",
       "      <th>test_loss</th>\n",
       "      <th>train_acc</th>\n",
       "      <th>test_acc</th>\n",
       "    </tr>\n",
       "  </thead>\n",
       "  <tbody>\n",
       "    <tr>\n",
       "      <th>0</th>\n",
       "      <td>0.00050</td>\n",
       "      <td>0.0010</td>\n",
       "      <td>15</td>\n",
       "      <td>16</td>\n",
       "      <td>4.457926</td>\n",
       "      <td>4.3640804</td>\n",
       "      <td>0.025975738</td>\n",
       "      <td>0.025316456</td>\n",
       "    </tr>\n",
       "    <tr>\n",
       "      <th>1</th>\n",
       "      <td>0.00050</td>\n",
       "      <td>0.0005</td>\n",
       "      <td>15</td>\n",
       "      <td>16</td>\n",
       "      <td>4.557368</td>\n",
       "      <td>4.5417724</td>\n",
       "      <td>0.020042194</td>\n",
       "      <td>0.01938291</td>\n",
       "    </tr>\n",
       "    <tr>\n",
       "      <th>2</th>\n",
       "      <td>0.00050</td>\n",
       "      <td>0.0001</td>\n",
       "      <td>15</td>\n",
       "      <td>16</td>\n",
       "      <td>4.409796</td>\n",
       "      <td>4.293235</td>\n",
       "      <td>0.03388713</td>\n",
       "      <td>0.03164557</td>\n",
       "    </tr>\n",
       "    <tr>\n",
       "      <th>3</th>\n",
       "      <td>0.00010</td>\n",
       "      <td>0.0010</td>\n",
       "      <td>15</td>\n",
       "      <td>16</td>\n",
       "      <td>2.2622802</td>\n",
       "      <td>1.7338767</td>\n",
       "      <td>0.4391011</td>\n",
       "      <td>0.55452776</td>\n",
       "    </tr>\n",
       "    <tr>\n",
       "      <th>4</th>\n",
       "      <td>0.00010</td>\n",
       "      <td>0.0005</td>\n",
       "      <td>15</td>\n",
       "      <td>16</td>\n",
       "      <td>2.161479</td>\n",
       "      <td>1.6662295</td>\n",
       "      <td>0.4647001</td>\n",
       "      <td>0.5734238</td>\n",
       "    </tr>\n",
       "    <tr>\n",
       "      <th>5</th>\n",
       "      <td>0.00010</td>\n",
       "      <td>0.0001</td>\n",
       "      <td>15</td>\n",
       "      <td>16</td>\n",
       "      <td>2.4460797</td>\n",
       "      <td>1.780208</td>\n",
       "      <td>0.40082505</td>\n",
       "      <td>0.5307936</td>\n",
       "    </tr>\n",
       "    <tr>\n",
       "      <th>6</th>\n",
       "      <td>0.00005</td>\n",
       "      <td>0.0010</td>\n",
       "      <td>15</td>\n",
       "      <td>16</td>\n",
       "      <td>2.3513014</td>\n",
       "      <td>1.647894</td>\n",
       "      <td>0.41568717</td>\n",
       "      <td>0.5604613</td>\n",
       "    </tr>\n",
       "    <tr>\n",
       "      <th>7</th>\n",
       "      <td>0.00005</td>\n",
       "      <td>0.0005</td>\n",
       "      <td>15</td>\n",
       "      <td>16</td>\n",
       "      <td>2.347944</td>\n",
       "      <td>1.6606896</td>\n",
       "      <td>0.42544457</td>\n",
       "      <td>0.5528542</td>\n",
       "    </tr>\n",
       "    <tr>\n",
       "      <th>8</th>\n",
       "      <td>0.00005</td>\n",
       "      <td>0.0001</td>\n",
       "      <td>15</td>\n",
       "      <td>16</td>\n",
       "      <td>2.3535194</td>\n",
       "      <td>1.6510093</td>\n",
       "      <td>0.41404837</td>\n",
       "      <td>0.5528542</td>\n",
       "    </tr>\n",
       "    <tr>\n",
       "      <th>9</th>\n",
       "      <td>0.00001</td>\n",
       "      <td>0.0010</td>\n",
       "      <td>15</td>\n",
       "      <td>16</td>\n",
       "      <td>3.1870146</td>\n",
       "      <td>2.2709146</td>\n",
       "      <td>0.24154235</td>\n",
       "      <td>0.43606988</td>\n",
       "    </tr>\n",
       "    <tr>\n",
       "      <th>10</th>\n",
       "      <td>0.00001</td>\n",
       "      <td>0.0005</td>\n",
       "      <td>15</td>\n",
       "      <td>16</td>\n",
       "      <td>3.2289455</td>\n",
       "      <td>2.2735527</td>\n",
       "      <td>0.2380764</td>\n",
       "      <td>0.4456548</td>\n",
       "    </tr>\n",
       "    <tr>\n",
       "      <th>11</th>\n",
       "      <td>0.00001</td>\n",
       "      <td>0.0001</td>\n",
       "      <td>15</td>\n",
       "      <td>16</td>\n",
       "      <td>3.2206743</td>\n",
       "      <td>2.2437642</td>\n",
       "      <td>0.24265371</td>\n",
       "      <td>0.44644594</td>\n",
       "    </tr>\n",
       "  </tbody>\n",
       "</table>\n",
       "</div>"
      ],
      "text/plain": [
       "    learning_rate  weight_decay  epochs  batch_size train_loss  test_loss  \\\n",
       "0         0.00050        0.0010      15          16   4.457926  4.3640804   \n",
       "1         0.00050        0.0005      15          16   4.557368  4.5417724   \n",
       "2         0.00050        0.0001      15          16   4.409796   4.293235   \n",
       "3         0.00010        0.0010      15          16  2.2622802  1.7338767   \n",
       "4         0.00010        0.0005      15          16   2.161479  1.6662295   \n",
       "5         0.00010        0.0001      15          16  2.4460797   1.780208   \n",
       "6         0.00005        0.0010      15          16  2.3513014   1.647894   \n",
       "7         0.00005        0.0005      15          16   2.347944  1.6606896   \n",
       "8         0.00005        0.0001      15          16  2.3535194  1.6510093   \n",
       "9         0.00001        0.0010      15          16  3.1870146  2.2709146   \n",
       "10        0.00001        0.0005      15          16  3.2289455  2.2735527   \n",
       "11        0.00001        0.0001      15          16  3.2206743  2.2437642   \n",
       "\n",
       "      train_acc     test_acc  \n",
       "0   0.025975738  0.025316456  \n",
       "1   0.020042194   0.01938291  \n",
       "2    0.03388713   0.03164557  \n",
       "3     0.4391011   0.55452776  \n",
       "4     0.4647001    0.5734238  \n",
       "5    0.40082505    0.5307936  \n",
       "6    0.41568717    0.5604613  \n",
       "7    0.42544457    0.5528542  \n",
       "8    0.41404837    0.5528542  \n",
       "9    0.24154235   0.43606988  \n",
       "10    0.2380764    0.4456548  \n",
       "11   0.24265371   0.44644594  "
      ]
     },
     "execution_count": 8,
     "metadata": {},
     "output_type": "execute_result"
    }
   ],
   "source": [
    "import pandas as pd\n",
    "pd.DataFrame(tuning_results)"
   ]
  },
  {
   "cell_type": "code",
   "execution_count": 9,
   "metadata": {},
   "outputs": [],
   "source": [
    "vgg16_bn_weights = torchvision.models.VGG16_BN_Weights\n",
    "def vgg16_bn_model_generator(weights: torchvision.models):\n",
    "    model = torchvision.models.vgg16_bn(weights=weights)\n",
    "    model.classifier[-1] = nn.Linear(\n",
    "        in_features=4096,\n",
    "        out_features=len(class_names_food101)\n",
    "    )\n",
    "    return model"
   ]
  },
  {
   "cell_type": "code",
   "execution_count": 10,
   "metadata": {},
   "outputs": [
    {
     "name": "stdout",
     "output_type": "stream",
     "text": [
      "[INFO] Splitting dataset of length 75750 into splits of size: 7575 and 68175\n",
      "[INFO] Splitting dataset of length 25250 into splits of size: 2525 and 22725\n"
     ]
    },
    {
     "name": "stderr",
     "output_type": "stream",
     "text": [
      "c:\\Users\\TimJimTangtong\\Miniconda3\\envs\\torch-gpu\\lib\\site-packages\\torchvision\\models\\_utils.py:223: UserWarning: Arguments other than a weight enum or `None` for 'weights' are deprecated since 0.13 and may be removed in the future. The current behavior is equivalent to passing `weights=VGG16_BN_Weights.IMAGENET1K_V1`. You can also use `weights=VGG16_BN_Weights.DEFAULT` to get the most up-to-date weights.\n",
      "  warnings.warn(msg)\n"
     ]
    },
    {
     "name": "stdout",
     "output_type": "stream",
     "text": [
      "[INFO] Creating SummaryWriter saving to ../runs\\2023-03-18\\VGG16_bn_food101_test\\VGG16_bn_food101\\LR_0.0005_WD_0.001_EP_15_BS_16_GA_1\n"
     ]
    },
    {
     "name": "stderr",
     "output_type": "stream",
     "text": [
      "  7%|▋         | 1/15 [02:53<40:23, 173.13s/it]"
     ]
    },
    {
     "name": "stdout",
     "output_type": "stream",
     "text": [
      "Epoch: 0 | Train_loss: 4.6457, Train_acc: 0.0104 | Test_loss: 4.6405, Test_acc: 0.0067\n"
     ]
    },
    {
     "name": "stderr",
     "output_type": "stream",
     "text": [
      " 13%|█▎        | 2/15 [05:45<37:27, 172.86s/it]"
     ]
    },
    {
     "name": "stdout",
     "output_type": "stream",
     "text": [
      "Epoch: 1 | Train_loss: 4.6731, Train_acc: 0.0134 | Test_loss: 4.6281, Test_acc: 0.0091\n"
     ]
    },
    {
     "name": "stderr",
     "output_type": "stream",
     "text": [
      " 20%|██        | 3/15 [08:38<34:35, 172.97s/it]"
     ]
    },
    {
     "name": "stdout",
     "output_type": "stream",
     "text": [
      "Epoch: 2 | Train_loss: 4.6358, Train_acc: 0.0162 | Test_loss: 4.6713, Test_acc: 0.0186\n"
     ]
    },
    {
     "name": "stderr",
     "output_type": "stream",
     "text": [
      " 27%|██▋       | 4/15 [11:31<31:41, 172.90s/it]"
     ]
    },
    {
     "name": "stdout",
     "output_type": "stream",
     "text": [
      "Epoch: 3 | Train_loss: 4.6389, Train_acc: 0.0140 | Test_loss: 4.5957, Test_acc: 0.0138\n"
     ]
    },
    {
     "name": "stderr",
     "output_type": "stream",
     "text": [
      " 33%|███▎      | 5/15 [14:24<28:47, 172.71s/it]"
     ]
    },
    {
     "name": "stdout",
     "output_type": "stream",
     "text": [
      "Epoch: 4 | Train_loss: 4.6044, Train_acc: 0.0174 | Test_loss: 4.5420, Test_acc: 0.0135\n"
     ]
    },
    {
     "name": "stderr",
     "output_type": "stream",
     "text": [
      " 40%|████      | 6/15 [17:16<25:52, 172.52s/it]"
     ]
    },
    {
     "name": "stdout",
     "output_type": "stream",
     "text": [
      "Epoch: 5 | Train_loss: 4.5876, Train_acc: 0.0181 | Test_loss: 4.5206, Test_acc: 0.0146\n"
     ]
    },
    {
     "name": "stderr",
     "output_type": "stream",
     "text": [
      " 47%|████▋     | 7/15 [20:08<22:59, 172.50s/it]"
     ]
    },
    {
     "name": "stdout",
     "output_type": "stream",
     "text": [
      "Epoch: 6 | Train_loss: 4.5727, Train_acc: 0.0199 | Test_loss: 5.2145, Test_acc: 0.0135\n"
     ]
    },
    {
     "name": "stderr",
     "output_type": "stream",
     "text": [
      " 53%|█████▎    | 8/15 [23:01<20:07, 172.52s/it]"
     ]
    },
    {
     "name": "stdout",
     "output_type": "stream",
     "text": [
      "Epoch: 7 | Train_loss: 4.5574, Train_acc: 0.0183 | Test_loss: 4.5394, Test_acc: 0.0171\n"
     ]
    },
    {
     "name": "stderr",
     "output_type": "stream",
     "text": [
      " 60%|██████    | 9/15 [25:53<17:14, 172.41s/it]"
     ]
    },
    {
     "name": "stdout",
     "output_type": "stream",
     "text": [
      "Epoch: 8 | Train_loss: 4.5566, Train_acc: 0.0204 | Test_loss: 4.5157, Test_acc: 0.0131\n"
     ]
    },
    {
     "name": "stderr",
     "output_type": "stream",
     "text": [
      " 67%|██████▋   | 10/15 [28:46<14:22, 172.48s/it]"
     ]
    },
    {
     "name": "stdout",
     "output_type": "stream",
     "text": [
      "Epoch: 9 | Train_loss: 4.5497, Train_acc: 0.0195 | Test_loss: 4.4919, Test_acc: 0.0135\n"
     ]
    },
    {
     "name": "stderr",
     "output_type": "stream",
     "text": [
      " 73%|███████▎  | 11/15 [31:38<11:29, 172.42s/it]"
     ]
    },
    {
     "name": "stdout",
     "output_type": "stream",
     "text": [
      "Epoch: 10 | Train_loss: 4.5425, Train_acc: 0.0196 | Test_loss: 4.4707, Test_acc: 0.0166\n"
     ]
    },
    {
     "name": "stderr",
     "output_type": "stream",
     "text": [
      " 80%|████████  | 12/15 [34:30<08:37, 172.37s/it]"
     ]
    },
    {
     "name": "stdout",
     "output_type": "stream",
     "text": [
      "Epoch: 11 | Train_loss: 4.5441, Train_acc: 0.0200 | Test_loss: 4.4642, Test_acc: 0.0146\n"
     ]
    },
    {
     "name": "stderr",
     "output_type": "stream",
     "text": [
      " 87%|████████▋ | 13/15 [37:23<05:44, 172.46s/it]"
     ]
    },
    {
     "name": "stdout",
     "output_type": "stream",
     "text": [
      "Epoch: 12 | Train_loss: 4.5382, Train_acc: 0.0190 | Test_loss: 4.4762, Test_acc: 0.0166\n"
     ]
    },
    {
     "name": "stderr",
     "output_type": "stream",
     "text": [
      " 93%|█████████▎| 14/15 [40:15<02:52, 172.29s/it]"
     ]
    },
    {
     "name": "stdout",
     "output_type": "stream",
     "text": [
      "Epoch: 13 | Train_loss: 4.5299, Train_acc: 0.0220 | Test_loss: 4.4820, Test_acc: 0.0150\n"
     ]
    },
    {
     "name": "stderr",
     "output_type": "stream",
     "text": [
      "100%|██████████| 15/15 [43:06<00:00, 172.46s/it]"
     ]
    },
    {
     "name": "stdout",
     "output_type": "stream",
     "text": [
      "Epoch: 14 | Train_loss: 4.5276, Train_acc: 0.0232 | Test_loss: 4.4536, Test_acc: 0.0190\n"
     ]
    },
    {
     "name": "stderr",
     "output_type": "stream",
     "text": [
      "\n"
     ]
    },
    {
     "name": "stdout",
     "output_type": "stream",
     "text": [
      "[INFO] Creating SummaryWriter saving to ../runs\\2023-03-18\\VGG16_bn_food101_test\\VGG16_bn_food101\\LR_0.0005_WD_0.0005_EP_15_BS_16_GA_1\n"
     ]
    },
    {
     "name": "stderr",
     "output_type": "stream",
     "text": [
      "  7%|▋         | 1/15 [02:54<40:40, 174.34s/it]"
     ]
    },
    {
     "name": "stdout",
     "output_type": "stream",
     "text": [
      "Epoch: 0 | Train_loss: 4.6403, Train_acc: 0.0108 | Test_loss: 4.6223, Test_acc: 0.0059\n"
     ]
    },
    {
     "name": "stderr",
     "output_type": "stream",
     "text": [
      " 13%|█▎        | 2/15 [05:48<37:44, 174.16s/it]"
     ]
    },
    {
     "name": "stdout",
     "output_type": "stream",
     "text": [
      "Epoch: 1 | Train_loss: 4.6550, Train_acc: 0.0103 | Test_loss: 4.6234, Test_acc: 0.0107\n"
     ]
    },
    {
     "name": "stderr",
     "output_type": "stream",
     "text": [
      " 20%|██        | 3/15 [08:40<34:41, 173.45s/it]"
     ]
    },
    {
     "name": "stdout",
     "output_type": "stream",
     "text": [
      "Epoch: 2 | Train_loss: 4.6736, Train_acc: 0.0111 | Test_loss: 4.6189, Test_acc: 0.0123\n"
     ]
    },
    {
     "name": "stderr",
     "output_type": "stream",
     "text": [
      " 27%|██▋       | 4/15 [11:33<31:44, 173.17s/it]"
     ]
    },
    {
     "name": "stdout",
     "output_type": "stream",
     "text": [
      "Epoch: 3 | Train_loss: 4.6563, Train_acc: 0.0099 | Test_loss: 4.6476, Test_acc: 0.0112\n"
     ]
    },
    {
     "name": "stderr",
     "output_type": "stream",
     "text": [
      " 33%|███▎      | 5/15 [14:26<28:50, 173.08s/it]"
     ]
    },
    {
     "name": "stdout",
     "output_type": "stream",
     "text": [
      "Epoch: 4 | Train_loss: 4.6282, Train_acc: 0.0118 | Test_loss: 4.5909, Test_acc: 0.0171\n"
     ]
    },
    {
     "name": "stderr",
     "output_type": "stream",
     "text": [
      " 40%|████      | 6/15 [17:19<25:57, 173.10s/it]"
     ]
    },
    {
     "name": "stdout",
     "output_type": "stream",
     "text": [
      "Epoch: 5 | Train_loss: 4.6288, Train_acc: 0.0096 | Test_loss: 4.6344, Test_acc: 0.0111\n"
     ]
    },
    {
     "name": "stderr",
     "output_type": "stream",
     "text": [
      " 47%|████▋     | 7/15 [20:12<23:03, 172.93s/it]"
     ]
    },
    {
     "name": "stdout",
     "output_type": "stream",
     "text": [
      "Epoch: 6 | Train_loss: 4.6044, Train_acc: 0.0148 | Test_loss: 4.6347, Test_acc: 0.0095\n"
     ]
    },
    {
     "name": "stderr",
     "output_type": "stream",
     "text": [
      " 53%|█████▎    | 8/15 [23:04<20:09, 172.80s/it]"
     ]
    },
    {
     "name": "stdout",
     "output_type": "stream",
     "text": [
      "Epoch: 7 | Train_loss: 4.6052, Train_acc: 0.0129 | Test_loss: 4.6118, Test_acc: 0.0146\n"
     ]
    },
    {
     "name": "stderr",
     "output_type": "stream",
     "text": [
      " 60%|██████    | 9/15 [25:57<17:15, 172.65s/it]"
     ]
    },
    {
     "name": "stdout",
     "output_type": "stream",
     "text": [
      "Epoch: 8 | Train_loss: 4.5853, Train_acc: 0.0174 | Test_loss: 4.5637, Test_acc: 0.0138\n"
     ]
    },
    {
     "name": "stderr",
     "output_type": "stream",
     "text": [
      " 67%|██████▋   | 10/15 [28:49<14:23, 172.63s/it]"
     ]
    },
    {
     "name": "stdout",
     "output_type": "stream",
     "text": [
      "Epoch: 9 | Train_loss: 4.5777, Train_acc: 0.0153 | Test_loss: 4.7268, Test_acc: 0.0163\n"
     ]
    },
    {
     "name": "stderr",
     "output_type": "stream",
     "text": [
      " 73%|███████▎  | 11/15 [31:43<11:31, 172.84s/it]"
     ]
    },
    {
     "name": "stdout",
     "output_type": "stream",
     "text": [
      "Epoch: 10 | Train_loss: 4.5778, Train_acc: 0.0157 | Test_loss: 4.5517, Test_acc: 0.0166\n"
     ]
    },
    {
     "name": "stderr",
     "output_type": "stream",
     "text": [
      " 80%|████████  | 12/15 [34:35<08:38, 172.85s/it]"
     ]
    },
    {
     "name": "stdout",
     "output_type": "stream",
     "text": [
      "Epoch: 11 | Train_loss: 4.5729, Train_acc: 0.0170 | Test_loss: 4.6636, Test_acc: 0.0107\n"
     ]
    },
    {
     "name": "stderr",
     "output_type": "stream",
     "text": [
      " 87%|████████▋ | 13/15 [37:28<05:45, 172.85s/it]"
     ]
    },
    {
     "name": "stdout",
     "output_type": "stream",
     "text": [
      "Epoch: 12 | Train_loss: 4.5598, Train_acc: 0.0191 | Test_loss: 4.6531, Test_acc: 0.0107\n"
     ]
    },
    {
     "name": "stderr",
     "output_type": "stream",
     "text": [
      " 93%|█████████▎| 14/15 [40:21<02:52, 172.85s/it]"
     ]
    },
    {
     "name": "stdout",
     "output_type": "stream",
     "text": [
      "Epoch: 13 | Train_loss: 4.5556, Train_acc: 0.0173 | Test_loss: 4.5242, Test_acc: 0.0166\n"
     ]
    },
    {
     "name": "stderr",
     "output_type": "stream",
     "text": [
      "100%|██████████| 15/15 [43:13<00:00, 172.93s/it]"
     ]
    },
    {
     "name": "stdout",
     "output_type": "stream",
     "text": [
      "Epoch: 14 | Train_loss: 4.5483, Train_acc: 0.0225 | Test_loss: 4.4913, Test_acc: 0.0123\n"
     ]
    },
    {
     "name": "stderr",
     "output_type": "stream",
     "text": [
      "\n"
     ]
    },
    {
     "name": "stdout",
     "output_type": "stream",
     "text": [
      "[INFO] Creating SummaryWriter saving to ../runs\\2023-03-18\\VGG16_bn_food101_test\\VGG16_bn_food101\\LR_0.0005_WD_0.0001_EP_15_BS_16_GA_1\n"
     ]
    },
    {
     "name": "stderr",
     "output_type": "stream",
     "text": [
      "  7%|▋         | 1/15 [02:52<40:17, 172.70s/it]"
     ]
    },
    {
     "name": "stdout",
     "output_type": "stream",
     "text": [
      "Epoch: 0 | Train_loss: 4.6442, Train_acc: 0.0091 | Test_loss: 4.6313, Test_acc: 0.0087\n"
     ]
    },
    {
     "name": "stderr",
     "output_type": "stream",
     "text": [
      " 13%|█▎        | 2/15 [05:45<37:28, 172.96s/it]"
     ]
    },
    {
     "name": "stdout",
     "output_type": "stream",
     "text": [
      "Epoch: 1 | Train_loss: 4.6270, Train_acc: 0.0104 | Test_loss: 4.6199, Test_acc: 0.0075\n"
     ]
    },
    {
     "name": "stderr",
     "output_type": "stream",
     "text": [
      " 20%|██        | 3/15 [08:38<34:34, 172.85s/it]"
     ]
    },
    {
     "name": "stdout",
     "output_type": "stream",
     "text": [
      "Epoch: 2 | Train_loss: 4.6277, Train_acc: 0.0107 | Test_loss: 5.4724, Test_acc: 0.0107\n"
     ]
    },
    {
     "name": "stderr",
     "output_type": "stream",
     "text": [
      " 27%|██▋       | 4/15 [11:31<31:40, 172.79s/it]"
     ]
    },
    {
     "name": "stdout",
     "output_type": "stream",
     "text": [
      "Epoch: 3 | Train_loss: 4.6517, Train_acc: 0.0124 | Test_loss: 4.6357, Test_acc: 0.0127\n"
     ]
    },
    {
     "name": "stderr",
     "output_type": "stream",
     "text": [
      " 33%|███▎      | 5/15 [14:23<28:46, 172.69s/it]"
     ]
    },
    {
     "name": "stdout",
     "output_type": "stream",
     "text": [
      "Epoch: 4 | Train_loss: 4.6304, Train_acc: 0.0090 | Test_loss: 4.6161, Test_acc: 0.0123\n"
     ]
    },
    {
     "name": "stderr",
     "output_type": "stream",
     "text": [
      " 40%|████      | 6/15 [17:16<25:53, 172.57s/it]"
     ]
    },
    {
     "name": "stdout",
     "output_type": "stream",
     "text": [
      "Epoch: 5 | Train_loss: 4.6400, Train_acc: 0.0108 | Test_loss: 4.6217, Test_acc: 0.0087\n"
     ]
    },
    {
     "name": "stderr",
     "output_type": "stream",
     "text": [
      " 47%|████▋     | 7/15 [20:08<23:00, 172.56s/it]"
     ]
    },
    {
     "name": "stdout",
     "output_type": "stream",
     "text": [
      "Epoch: 6 | Train_loss: 4.6377, Train_acc: 0.0100 | Test_loss: 4.6219, Test_acc: 0.0115\n"
     ]
    },
    {
     "name": "stderr",
     "output_type": "stream",
     "text": [
      " 53%|█████▎    | 8/15 [23:01<20:08, 172.60s/it]"
     ]
    },
    {
     "name": "stdout",
     "output_type": "stream",
     "text": [
      "Epoch: 7 | Train_loss: 4.6330, Train_acc: 0.0119 | Test_loss: 4.6194, Test_acc: 0.0100\n"
     ]
    },
    {
     "name": "stderr",
     "output_type": "stream",
     "text": [
      " 60%|██████    | 9/15 [25:53<17:14, 172.48s/it]"
     ]
    },
    {
     "name": "stdout",
     "output_type": "stream",
     "text": [
      "Epoch: 8 | Train_loss: 4.6224, Train_acc: 0.0108 | Test_loss: 4.6233, Test_acc: 0.0116\n"
     ]
    },
    {
     "name": "stderr",
     "output_type": "stream",
     "text": [
      " 67%|██████▋   | 10/15 [28:46<14:22, 172.57s/it]"
     ]
    },
    {
     "name": "stdout",
     "output_type": "stream",
     "text": [
      "Epoch: 9 | Train_loss: 4.6403, Train_acc: 0.0124 | Test_loss: 4.6182, Test_acc: 0.0083\n"
     ]
    },
    {
     "name": "stderr",
     "output_type": "stream",
     "text": [
      " 73%|███████▎  | 11/15 [31:39<11:30, 172.73s/it]"
     ]
    },
    {
     "name": "stdout",
     "output_type": "stream",
     "text": [
      "Epoch: 10 | Train_loss: 4.6232, Train_acc: 0.0134 | Test_loss: 4.6199, Test_acc: 0.0083\n"
     ]
    },
    {
     "name": "stderr",
     "output_type": "stream",
     "text": [
      " 80%|████████  | 12/15 [34:32<08:38, 172.89s/it]"
     ]
    },
    {
     "name": "stdout",
     "output_type": "stream",
     "text": [
      "Epoch: 11 | Train_loss: 4.6299, Train_acc: 0.0109 | Test_loss: 4.6452, Test_acc: 0.0083\n"
     ]
    },
    {
     "name": "stderr",
     "output_type": "stream",
     "text": [
      " 87%|████████▋ | 13/15 [37:25<05:46, 173.02s/it]"
     ]
    },
    {
     "name": "stdout",
     "output_type": "stream",
     "text": [
      "Epoch: 12 | Train_loss: 4.6200, Train_acc: 0.0134 | Test_loss: 4.5956, Test_acc: 0.0111\n"
     ]
    },
    {
     "name": "stderr",
     "output_type": "stream",
     "text": [
      " 93%|█████████▎| 14/15 [40:19<02:53, 173.10s/it]"
     ]
    },
    {
     "name": "stdout",
     "output_type": "stream",
     "text": [
      "Epoch: 13 | Train_loss: 4.6226, Train_acc: 0.0122 | Test_loss: 4.6118, Test_acc: 0.0150\n"
     ]
    },
    {
     "name": "stderr",
     "output_type": "stream",
     "text": [
      "100%|██████████| 15/15 [43:11<00:00, 172.79s/it]"
     ]
    },
    {
     "name": "stdout",
     "output_type": "stream",
     "text": [
      "Epoch: 14 | Train_loss: 4.6154, Train_acc: 0.0156 | Test_loss: 4.6565, Test_acc: 0.0119\n"
     ]
    },
    {
     "name": "stderr",
     "output_type": "stream",
     "text": [
      "\n"
     ]
    },
    {
     "name": "stdout",
     "output_type": "stream",
     "text": [
      "[INFO] Creating SummaryWriter saving to ../runs\\2023-03-18\\VGG16_bn_food101_test\\VGG16_bn_food101\\LR_0.0001_WD_0.001_EP_15_BS_16_GA_1\n"
     ]
    },
    {
     "name": "stderr",
     "output_type": "stream",
     "text": [
      "  7%|▋         | 1/15 [02:52<40:18, 172.74s/it]"
     ]
    },
    {
     "name": "stdout",
     "output_type": "stream",
     "text": [
      "Epoch: 0 | Train_loss: 4.1486, Train_acc: 0.0813 | Test_loss: 3.3698, Test_acc: 0.1872\n"
     ]
    },
    {
     "name": "stderr",
     "output_type": "stream",
     "text": [
      " 13%|█▎        | 2/15 [05:45<37:24, 172.63s/it]"
     ]
    },
    {
     "name": "stdout",
     "output_type": "stream",
     "text": [
      "Epoch: 1 | Train_loss: 3.5127, Train_acc: 0.1870 | Test_loss: 2.6772, Test_acc: 0.3276\n"
     ]
    },
    {
     "name": "stderr",
     "output_type": "stream",
     "text": [
      " 20%|██        | 3/15 [08:38<34:33, 172.75s/it]"
     ]
    },
    {
     "name": "stdout",
     "output_type": "stream",
     "text": [
      "Epoch: 2 | Train_loss: 3.1978, Train_acc: 0.2453 | Test_loss: 2.2365, Test_acc: 0.4199\n"
     ]
    },
    {
     "name": "stderr",
     "output_type": "stream",
     "text": [
      " 27%|██▋       | 4/15 [11:31<31:41, 172.88s/it]"
     ]
    },
    {
     "name": "stdout",
     "output_type": "stream",
     "text": [
      "Epoch: 3 | Train_loss: 3.0014, Train_acc: 0.2807 | Test_loss: 2.1802, Test_acc: 0.4210\n"
     ]
    },
    {
     "name": "stderr",
     "output_type": "stream",
     "text": [
      " 33%|███▎      | 5/15 [14:24<28:49, 172.92s/it]"
     ]
    },
    {
     "name": "stdout",
     "output_type": "stream",
     "text": [
      "Epoch: 4 | Train_loss: 2.8917, Train_acc: 0.3158 | Test_loss: 2.1439, Test_acc: 0.4580\n"
     ]
    },
    {
     "name": "stderr",
     "output_type": "stream",
     "text": [
      " 40%|████      | 6/15 [17:17<25:57, 173.02s/it]"
     ]
    },
    {
     "name": "stdout",
     "output_type": "stream",
     "text": [
      "Epoch: 5 | Train_loss: 2.7918, Train_acc: 0.3265 | Test_loss: 1.9773, Test_acc: 0.4849\n"
     ]
    },
    {
     "name": "stderr",
     "output_type": "stream",
     "text": [
      " 47%|████▋     | 7/15 [20:10<23:03, 172.98s/it]"
     ]
    },
    {
     "name": "stdout",
     "output_type": "stream",
     "text": [
      "Epoch: 6 | Train_loss: 2.6457, Train_acc: 0.3524 | Test_loss: 2.0211, Test_acc: 0.4825\n"
     ]
    },
    {
     "name": "stderr",
     "output_type": "stream",
     "text": [
      " 53%|█████▎    | 8/15 [23:03<20:10, 172.88s/it]"
     ]
    },
    {
     "name": "stdout",
     "output_type": "stream",
     "text": [
      "Epoch: 7 | Train_loss: 2.5605, Train_acc: 0.3754 | Test_loss: 1.9920, Test_acc: 0.5048\n"
     ]
    },
    {
     "name": "stderr",
     "output_type": "stream",
     "text": [
      " 60%|██████    | 9/15 [25:55<17:16, 172.75s/it]"
     ]
    },
    {
     "name": "stdout",
     "output_type": "stream",
     "text": [
      "Epoch: 8 | Train_loss: 2.5122, Train_acc: 0.3924 | Test_loss: 1.8527, Test_acc: 0.5239\n"
     ]
    },
    {
     "name": "stderr",
     "output_type": "stream",
     "text": [
      " 67%|██████▋   | 10/15 [28:48<14:23, 172.79s/it]"
     ]
    },
    {
     "name": "stdout",
     "output_type": "stream",
     "text": [
      "Epoch: 9 | Train_loss: 2.4544, Train_acc: 0.3952 | Test_loss: 1.8478, Test_acc: 0.5209\n"
     ]
    },
    {
     "name": "stderr",
     "output_type": "stream",
     "text": [
      " 73%|███████▎  | 11/15 [31:42<11:32, 173.16s/it]"
     ]
    },
    {
     "name": "stdout",
     "output_type": "stream",
     "text": [
      "Epoch: 10 | Train_loss: 2.4150, Train_acc: 0.4099 | Test_loss: 1.8680, Test_acc: 0.5206\n"
     ]
    },
    {
     "name": "stderr",
     "output_type": "stream",
     "text": [
      " 80%|████████  | 12/15 [34:45<08:48, 176.06s/it]"
     ]
    },
    {
     "name": "stdout",
     "output_type": "stream",
     "text": [
      "Epoch: 11 | Train_loss: 2.3411, Train_acc: 0.4254 | Test_loss: 1.8456, Test_acc: 0.5340\n"
     ]
    },
    {
     "name": "stderr",
     "output_type": "stream",
     "text": [
      " 87%|████████▋ | 13/15 [37:45<05:54, 177.39s/it]"
     ]
    },
    {
     "name": "stdout",
     "output_type": "stream",
     "text": [
      "Epoch: 12 | Train_loss: 2.3196, Train_acc: 0.4240 | Test_loss: 1.8653, Test_acc: 0.5254\n"
     ]
    },
    {
     "name": "stderr",
     "output_type": "stream",
     "text": [
      " 93%|█████████▎| 14/15 [40:48<02:59, 179.13s/it]"
     ]
    },
    {
     "name": "stdout",
     "output_type": "stream",
     "text": [
      "Epoch: 13 | Train_loss: 2.2510, Train_acc: 0.4432 | Test_loss: 1.8479, Test_acc: 0.5388\n"
     ]
    },
    {
     "name": "stderr",
     "output_type": "stream",
     "text": [
      "100%|██████████| 15/15 [43:43<00:00, 174.88s/it]"
     ]
    },
    {
     "name": "stdout",
     "output_type": "stream",
     "text": [
      "Epoch: 14 | Train_loss: 2.2501, Train_acc: 0.4465 | Test_loss: 1.7974, Test_acc: 0.5545\n"
     ]
    },
    {
     "name": "stderr",
     "output_type": "stream",
     "text": [
      "\n"
     ]
    },
    {
     "name": "stdout",
     "output_type": "stream",
     "text": [
      "[INFO] Creating SummaryWriter saving to ../runs\\2023-03-18\\VGG16_bn_food101_test\\VGG16_bn_food101\\LR_0.0001_WD_0.0005_EP_15_BS_16_GA_1\n"
     ]
    },
    {
     "name": "stderr",
     "output_type": "stream",
     "text": [
      "  7%|▋         | 1/15 [02:53<40:29, 173.53s/it]"
     ]
    },
    {
     "name": "stdout",
     "output_type": "stream",
     "text": [
      "Epoch: 0 | Train_loss: 4.1172, Train_acc: 0.0925 | Test_loss: 3.1552, Test_acc: 0.2046\n"
     ]
    },
    {
     "name": "stderr",
     "output_type": "stream",
     "text": [
      " 13%|█▎        | 2/15 [05:47<37:39, 173.84s/it]"
     ]
    },
    {
     "name": "stdout",
     "output_type": "stream",
     "text": [
      "Epoch: 1 | Train_loss: 3.4600, Train_acc: 0.1931 | Test_loss: 2.6636, Test_acc: 0.3271\n"
     ]
    },
    {
     "name": "stderr",
     "output_type": "stream",
     "text": [
      " 20%|██        | 3/15 [08:41<34:44, 173.70s/it]"
     ]
    },
    {
     "name": "stdout",
     "output_type": "stream",
     "text": [
      "Epoch: 2 | Train_loss: 3.1851, Train_acc: 0.2464 | Test_loss: 2.3664, Test_acc: 0.3925\n"
     ]
    },
    {
     "name": "stderr",
     "output_type": "stream",
     "text": [
      " 27%|██▋       | 4/15 [11:34<31:49, 173.60s/it]"
     ]
    },
    {
     "name": "stdout",
     "output_type": "stream",
     "text": [
      "Epoch: 3 | Train_loss: 2.9493, Train_acc: 0.2926 | Test_loss: 2.0952, Test_acc: 0.4550\n"
     ]
    },
    {
     "name": "stderr",
     "output_type": "stream",
     "text": [
      " 33%|███▎      | 5/15 [14:28<28:55, 173.57s/it]"
     ]
    },
    {
     "name": "stdout",
     "output_type": "stream",
     "text": [
      "Epoch: 4 | Train_loss: 2.8380, Train_acc: 0.3218 | Test_loss: 2.0250, Test_acc: 0.4770\n"
     ]
    },
    {
     "name": "stderr",
     "output_type": "stream",
     "text": [
      " 40%|████      | 6/15 [17:21<26:00, 173.42s/it]"
     ]
    },
    {
     "name": "stdout",
     "output_type": "stream",
     "text": [
      "Epoch: 5 | Train_loss: 2.6927, Train_acc: 0.3452 | Test_loss: 1.9587, Test_acc: 0.4860\n"
     ]
    },
    {
     "name": "stderr",
     "output_type": "stream",
     "text": [
      " 47%|████▋     | 7/15 [20:14<23:06, 173.37s/it]"
     ]
    },
    {
     "name": "stdout",
     "output_type": "stream",
     "text": [
      "Epoch: 6 | Train_loss: 2.5789, Train_acc: 0.3696 | Test_loss: 1.9474, Test_acc: 0.5043\n"
     ]
    },
    {
     "name": "stderr",
     "output_type": "stream",
     "text": [
      " 53%|█████▎    | 8/15 [23:07<20:13, 173.37s/it]"
     ]
    },
    {
     "name": "stdout",
     "output_type": "stream",
     "text": [
      "Epoch: 7 | Train_loss: 2.5107, Train_acc: 0.3827 | Test_loss: 1.8521, Test_acc: 0.5143\n"
     ]
    },
    {
     "name": "stderr",
     "output_type": "stream",
     "text": [
      " 60%|██████    | 9/15 [26:01<17:19, 173.33s/it]"
     ]
    },
    {
     "name": "stdout",
     "output_type": "stream",
     "text": [
      "Epoch: 8 | Train_loss: 2.4404, Train_acc: 0.3989 | Test_loss: 1.8747, Test_acc: 0.5221\n"
     ]
    },
    {
     "name": "stderr",
     "output_type": "stream",
     "text": [
      " 67%|██████▋   | 10/15 [28:54<14:26, 173.32s/it]"
     ]
    },
    {
     "name": "stdout",
     "output_type": "stream",
     "text": [
      "Epoch: 9 | Train_loss: 2.3464, Train_acc: 0.4100 | Test_loss: 1.8590, Test_acc: 0.5215\n"
     ]
    },
    {
     "name": "stderr",
     "output_type": "stream",
     "text": [
      " 73%|███████▎  | 11/15 [31:47<11:33, 173.35s/it]"
     ]
    },
    {
     "name": "stdout",
     "output_type": "stream",
     "text": [
      "Epoch: 10 | Train_loss: 2.3073, Train_acc: 0.4253 | Test_loss: 1.9873, Test_acc: 0.5220\n"
     ]
    },
    {
     "name": "stderr",
     "output_type": "stream",
     "text": [
      " 80%|████████  | 12/15 [34:41<08:40, 173.40s/it]"
     ]
    },
    {
     "name": "stdout",
     "output_type": "stream",
     "text": [
      "Epoch: 11 | Train_loss: 2.2596, Train_acc: 0.4418 | Test_loss: 1.9010, Test_acc: 0.5391\n"
     ]
    },
    {
     "name": "stderr",
     "output_type": "stream",
     "text": [
      " 87%|████████▋ | 13/15 [37:34<05:46, 173.47s/it]"
     ]
    },
    {
     "name": "stdout",
     "output_type": "stream",
     "text": [
      "Epoch: 12 | Train_loss: 2.2046, Train_acc: 0.4514 | Test_loss: 1.8455, Test_acc: 0.5391\n"
     ]
    },
    {
     "name": "stderr",
     "output_type": "stream",
     "text": [
      " 93%|█████████▎| 14/15 [40:28<02:53, 173.52s/it]"
     ]
    },
    {
     "name": "stdout",
     "output_type": "stream",
     "text": [
      "Epoch: 13 | Train_loss: 2.1630, Train_acc: 0.4652 | Test_loss: 1.6455, Test_acc: 0.5839\n"
     ]
    },
    {
     "name": "stderr",
     "output_type": "stream",
     "text": [
      "100%|██████████| 15/15 [43:21<00:00, 173.46s/it]"
     ]
    },
    {
     "name": "stdout",
     "output_type": "stream",
     "text": [
      "Epoch: 14 | Train_loss: 2.1078, Train_acc: 0.4745 | Test_loss: 1.7670, Test_acc: 0.5588\n"
     ]
    },
    {
     "name": "stderr",
     "output_type": "stream",
     "text": [
      "\n"
     ]
    },
    {
     "name": "stdout",
     "output_type": "stream",
     "text": [
      "[INFO] Creating SummaryWriter saving to ../runs\\2023-03-18\\VGG16_bn_food101_test\\VGG16_bn_food101\\LR_0.0001_WD_0.0001_EP_15_BS_16_GA_1\n"
     ]
    },
    {
     "name": "stderr",
     "output_type": "stream",
     "text": [
      "  7%|▋         | 1/15 [02:53<40:26, 173.29s/it]"
     ]
    },
    {
     "name": "stdout",
     "output_type": "stream",
     "text": [
      "Epoch: 0 | Train_loss: 4.1663, Train_acc: 0.0821 | Test_loss: 3.0385, Test_acc: 0.2513\n"
     ]
    },
    {
     "name": "stderr",
     "output_type": "stream",
     "text": [
      " 13%|█▎        | 2/15 [05:46<37:33, 173.33s/it]"
     ]
    },
    {
     "name": "stdout",
     "output_type": "stream",
     "text": [
      "Epoch: 1 | Train_loss: 3.4860, Train_acc: 0.1833 | Test_loss: 2.5136, Test_acc: 0.3444\n"
     ]
    },
    {
     "name": "stderr",
     "output_type": "stream",
     "text": [
      " 20%|██        | 3/15 [08:40<34:40, 173.35s/it]"
     ]
    },
    {
     "name": "stdout",
     "output_type": "stream",
     "text": [
      "Epoch: 2 | Train_loss: 3.1877, Train_acc: 0.2370 | Test_loss: 2.5493, Test_acc: 0.3664\n"
     ]
    },
    {
     "name": "stderr",
     "output_type": "stream",
     "text": [
      " 27%|██▋       | 4/15 [11:33<31:46, 173.29s/it]"
     ]
    },
    {
     "name": "stdout",
     "output_type": "stream",
     "text": [
      "Epoch: 3 | Train_loss: 2.9583, Train_acc: 0.2857 | Test_loss: 2.1788, Test_acc: 0.4360\n"
     ]
    },
    {
     "name": "stderr",
     "output_type": "stream",
     "text": [
      " 33%|███▎      | 5/15 [14:26<28:54, 173.41s/it]"
     ]
    },
    {
     "name": "stdout",
     "output_type": "stream",
     "text": [
      "Epoch: 4 | Train_loss: 2.7810, Train_acc: 0.3322 | Test_loss: 2.2407, Test_acc: 0.4333\n"
     ]
    },
    {
     "name": "stderr",
     "output_type": "stream",
     "text": [
      " 40%|████      | 6/15 [17:20<26:00, 173.42s/it]"
     ]
    },
    {
     "name": "stdout",
     "output_type": "stream",
     "text": [
      "Epoch: 5 | Train_loss: 2.6790, Train_acc: 0.3552 | Test_loss: 1.9308, Test_acc: 0.5007\n"
     ]
    },
    {
     "name": "stderr",
     "output_type": "stream",
     "text": [
      " 47%|████▋     | 7/15 [20:13<23:06, 173.36s/it]"
     ]
    },
    {
     "name": "stdout",
     "output_type": "stream",
     "text": [
      "Epoch: 6 | Train_loss: 2.5812, Train_acc: 0.3691 | Test_loss: 1.8953, Test_acc: 0.5050\n"
     ]
    },
    {
     "name": "stderr",
     "output_type": "stream",
     "text": [
      " 53%|█████▎    | 8/15 [23:07<20:13, 173.41s/it]"
     ]
    },
    {
     "name": "stdout",
     "output_type": "stream",
     "text": [
      "Epoch: 7 | Train_loss: 2.4291, Train_acc: 0.4039 | Test_loss: 2.0142, Test_acc: 0.5082\n"
     ]
    },
    {
     "name": "stderr",
     "output_type": "stream",
     "text": [
      " 60%|██████    | 9/15 [26:00<17:21, 173.53s/it]"
     ]
    },
    {
     "name": "stdout",
     "output_type": "stream",
     "text": [
      "Epoch: 8 | Train_loss: 2.3839, Train_acc: 0.4128 | Test_loss: 1.8499, Test_acc: 0.5301\n"
     ]
    },
    {
     "name": "stderr",
     "output_type": "stream",
     "text": [
      " 67%|██████▋   | 10/15 [28:54<14:27, 173.50s/it]"
     ]
    },
    {
     "name": "stdout",
     "output_type": "stream",
     "text": [
      "Epoch: 9 | Train_loss: 2.3019, Train_acc: 0.4364 | Test_loss: 1.7254, Test_acc: 0.5529\n"
     ]
    },
    {
     "name": "stderr",
     "output_type": "stream",
     "text": [
      " 73%|███████▎  | 11/15 [31:47<11:34, 173.51s/it]"
     ]
    },
    {
     "name": "stdout",
     "output_type": "stream",
     "text": [
      "Epoch: 10 | Train_loss: 2.2356, Train_acc: 0.4527 | Test_loss: 1.7652, Test_acc: 0.5498\n"
     ]
    },
    {
     "name": "stderr",
     "output_type": "stream",
     "text": [
      " 80%|████████  | 12/15 [34:41<08:40, 173.51s/it]"
     ]
    },
    {
     "name": "stdout",
     "output_type": "stream",
     "text": [
      "Epoch: 11 | Train_loss: 2.1796, Train_acc: 0.4648 | Test_loss: 1.7367, Test_acc: 0.5470\n"
     ]
    },
    {
     "name": "stderr",
     "output_type": "stream",
     "text": [
      " 87%|████████▋ | 13/15 [37:35<05:47, 173.57s/it]"
     ]
    },
    {
     "name": "stdout",
     "output_type": "stream",
     "text": [
      "Epoch: 12 | Train_loss: 2.1255, Train_acc: 0.4721 | Test_loss: 1.6825, Test_acc: 0.5616\n"
     ]
    },
    {
     "name": "stderr",
     "output_type": "stream",
     "text": [
      " 93%|█████████▎| 14/15 [40:28<02:53, 173.56s/it]"
     ]
    },
    {
     "name": "stdout",
     "output_type": "stream",
     "text": [
      "Epoch: 13 | Train_loss: 2.0646, Train_acc: 0.4819 | Test_loss: 1.6375, Test_acc: 0.5708\n"
     ]
    },
    {
     "name": "stderr",
     "output_type": "stream",
     "text": [
      "100%|██████████| 15/15 [43:22<00:00, 173.49s/it]"
     ]
    },
    {
     "name": "stdout",
     "output_type": "stream",
     "text": [
      "Epoch: 14 | Train_loss: 2.0238, Train_acc: 0.4985 | Test_loss: 1.5909, Test_acc: 0.5939\n"
     ]
    },
    {
     "name": "stderr",
     "output_type": "stream",
     "text": [
      "\n"
     ]
    },
    {
     "name": "stdout",
     "output_type": "stream",
     "text": [
      "[INFO] Creating SummaryWriter saving to ../runs\\2023-03-18\\VGG16_bn_food101_test\\VGG16_bn_food101\\LR_5e-05_WD_0.001_EP_15_BS_16_GA_1\n"
     ]
    },
    {
     "name": "stderr",
     "output_type": "stream",
     "text": [
      "  7%|▋         | 1/15 [02:53<40:32, 173.77s/it]"
     ]
    },
    {
     "name": "stdout",
     "output_type": "stream",
     "text": [
      "Epoch: 0 | Train_loss: 4.1713, Train_acc: 0.0882 | Test_loss: 2.8024, Test_acc: 0.3078\n"
     ]
    },
    {
     "name": "stderr",
     "output_type": "stream",
     "text": [
      " 13%|█▎        | 2/15 [05:47<37:34, 173.46s/it]"
     ]
    },
    {
     "name": "stdout",
     "output_type": "stream",
     "text": [
      "Epoch: 1 | Train_loss: 3.3671, Train_acc: 0.2101 | Test_loss: 2.1919, Test_acc: 0.4246\n"
     ]
    },
    {
     "name": "stderr",
     "output_type": "stream",
     "text": [
      " 20%|██        | 3/15 [08:40<34:41, 173.42s/it]"
     ]
    },
    {
     "name": "stdout",
     "output_type": "stream",
     "text": [
      "Epoch: 2 | Train_loss: 3.0343, Train_acc: 0.2784 | Test_loss: 2.0904, Test_acc: 0.4490\n"
     ]
    },
    {
     "name": "stderr",
     "output_type": "stream",
     "text": [
      " 27%|██▋       | 4/15 [11:33<31:47, 173.37s/it]"
     ]
    },
    {
     "name": "stdout",
     "output_type": "stream",
     "text": [
      "Epoch: 3 | Train_loss: 2.8012, Train_acc: 0.3209 | Test_loss: 1.9064, Test_acc: 0.5016\n"
     ]
    },
    {
     "name": "stderr",
     "output_type": "stream",
     "text": [
      " 33%|███▎      | 5/15 [14:27<28:54, 173.48s/it]"
     ]
    },
    {
     "name": "stdout",
     "output_type": "stream",
     "text": [
      "Epoch: 4 | Train_loss: 2.6332, Train_acc: 0.3627 | Test_loss: 1.8599, Test_acc: 0.5203\n"
     ]
    },
    {
     "name": "stderr",
     "output_type": "stream",
     "text": [
      " 40%|████      | 6/15 [17:21<26:02, 173.58s/it]"
     ]
    },
    {
     "name": "stdout",
     "output_type": "stream",
     "text": [
      "Epoch: 5 | Train_loss: 2.5075, Train_acc: 0.3883 | Test_loss: 1.6649, Test_acc: 0.5575\n"
     ]
    },
    {
     "name": "stderr",
     "output_type": "stream",
     "text": [
      " 47%|████▋     | 7/15 [20:14<23:08, 173.62s/it]"
     ]
    },
    {
     "name": "stdout",
     "output_type": "stream",
     "text": [
      "Epoch: 6 | Train_loss: 2.4043, Train_acc: 0.4035 | Test_loss: 1.5982, Test_acc: 0.5650\n"
     ]
    },
    {
     "name": "stderr",
     "output_type": "stream",
     "text": [
      " 53%|█████▎    | 8/15 [23:08<20:15, 173.60s/it]"
     ]
    },
    {
     "name": "stdout",
     "output_type": "stream",
     "text": [
      "Epoch: 7 | Train_loss: 2.3159, Train_acc: 0.4253 | Test_loss: 1.5658, Test_acc: 0.5790\n"
     ]
    },
    {
     "name": "stderr",
     "output_type": "stream",
     "text": [
      " 60%|██████    | 9/15 [26:01<17:21, 173.59s/it]"
     ]
    },
    {
     "name": "stdout",
     "output_type": "stream",
     "text": [
      "Epoch: 8 | Train_loss: 2.2353, Train_acc: 0.4458 | Test_loss: 1.6116, Test_acc: 0.5748\n"
     ]
    },
    {
     "name": "stderr",
     "output_type": "stream",
     "text": [
      " 67%|██████▋   | 10/15 [28:55<14:28, 173.70s/it]"
     ]
    },
    {
     "name": "stdout",
     "output_type": "stream",
     "text": [
      "Epoch: 9 | Train_loss: 2.1424, Train_acc: 0.4653 | Test_loss: 1.5039, Test_acc: 0.6001\n"
     ]
    },
    {
     "name": "stderr",
     "output_type": "stream",
     "text": [
      " 73%|███████▎  | 11/15 [31:49<11:34, 173.73s/it]"
     ]
    },
    {
     "name": "stdout",
     "output_type": "stream",
     "text": [
      "Epoch: 10 | Train_loss: 2.0685, Train_acc: 0.4833 | Test_loss: 1.5319, Test_acc: 0.6032\n"
     ]
    },
    {
     "name": "stderr",
     "output_type": "stream",
     "text": [
      " 80%|████████  | 12/15 [34:43<08:40, 173.61s/it]"
     ]
    },
    {
     "name": "stdout",
     "output_type": "stream",
     "text": [
      "Epoch: 11 | Train_loss: 2.0366, Train_acc: 0.4941 | Test_loss: 1.4529, Test_acc: 0.6207\n"
     ]
    },
    {
     "name": "stderr",
     "output_type": "stream",
     "text": [
      " 87%|████████▋ | 13/15 [37:36<05:47, 173.54s/it]"
     ]
    },
    {
     "name": "stdout",
     "output_type": "stream",
     "text": [
      "Epoch: 12 | Train_loss: 2.0031, Train_acc: 0.4947 | Test_loss: 1.4548, Test_acc: 0.6206\n"
     ]
    },
    {
     "name": "stderr",
     "output_type": "stream",
     "text": [
      " 93%|█████████▎| 14/15 [40:29<02:53, 173.54s/it]"
     ]
    },
    {
     "name": "stdout",
     "output_type": "stream",
     "text": [
      "Epoch: 13 | Train_loss: 1.9281, Train_acc: 0.5164 | Test_loss: 1.4944, Test_acc: 0.6192\n"
     ]
    },
    {
     "name": "stderr",
     "output_type": "stream",
     "text": [
      "100%|██████████| 15/15 [43:23<00:00, 173.59s/it]"
     ]
    },
    {
     "name": "stdout",
     "output_type": "stream",
     "text": [
      "Epoch: 14 | Train_loss: 1.8959, Train_acc: 0.5261 | Test_loss: 1.4590, Test_acc: 0.6198\n"
     ]
    },
    {
     "name": "stderr",
     "output_type": "stream",
     "text": [
      "\n"
     ]
    },
    {
     "name": "stdout",
     "output_type": "stream",
     "text": [
      "[INFO] Creating SummaryWriter saving to ../runs\\2023-03-18\\VGG16_bn_food101_test\\VGG16_bn_food101\\LR_5e-05_WD_0.0005_EP_15_BS_16_GA_1\n"
     ]
    },
    {
     "name": "stderr",
     "output_type": "stream",
     "text": [
      "  7%|▋         | 1/15 [02:53<40:25, 173.27s/it]"
     ]
    },
    {
     "name": "stdout",
     "output_type": "stream",
     "text": [
      "Epoch: 0 | Train_loss: 4.1524, Train_acc: 0.0861 | Test_loss: 2.7373, Test_acc: 0.3183\n"
     ]
    },
    {
     "name": "stderr",
     "output_type": "stream",
     "text": [
      " 13%|█▎        | 2/15 [05:46<37:35, 173.54s/it]"
     ]
    },
    {
     "name": "stdout",
     "output_type": "stream",
     "text": [
      "Epoch: 1 | Train_loss: 3.3229, Train_acc: 0.2149 | Test_loss: 2.2218, Test_acc: 0.4250\n"
     ]
    },
    {
     "name": "stderr",
     "output_type": "stream",
     "text": [
      " 20%|██        | 3/15 [08:40<34:43, 173.62s/it]"
     ]
    },
    {
     "name": "stdout",
     "output_type": "stream",
     "text": [
      "Epoch: 2 | Train_loss: 2.9892, Train_acc: 0.2817 | Test_loss: 1.8988, Test_acc: 0.4935\n"
     ]
    },
    {
     "name": "stderr",
     "output_type": "stream",
     "text": [
      " 27%|██▋       | 4/15 [11:33<31:48, 173.48s/it]"
     ]
    },
    {
     "name": "stdout",
     "output_type": "stream",
     "text": [
      "Epoch: 3 | Train_loss: 2.7648, Train_acc: 0.3321 | Test_loss: 1.8205, Test_acc: 0.5168\n"
     ]
    },
    {
     "name": "stderr",
     "output_type": "stream",
     "text": [
      " 33%|███▎      | 5/15 [14:27<28:55, 173.60s/it]"
     ]
    },
    {
     "name": "stdout",
     "output_type": "stream",
     "text": [
      "Epoch: 4 | Train_loss: 2.5991, Train_acc: 0.3666 | Test_loss: 1.6945, Test_acc: 0.5417\n"
     ]
    },
    {
     "name": "stderr",
     "output_type": "stream",
     "text": [
      " 40%|████      | 6/15 [17:21<26:02, 173.61s/it]"
     ]
    },
    {
     "name": "stdout",
     "output_type": "stream",
     "text": [
      "Epoch: 5 | Train_loss: 2.4255, Train_acc: 0.4078 | Test_loss: 1.5955, Test_acc: 0.5650\n"
     ]
    },
    {
     "name": "stderr",
     "output_type": "stream",
     "text": [
      " 47%|████▋     | 7/15 [20:15<23:09, 173.64s/it]"
     ]
    },
    {
     "name": "stdout",
     "output_type": "stream",
     "text": [
      "Epoch: 6 | Train_loss: 2.3277, Train_acc: 0.4280 | Test_loss: 1.5539, Test_acc: 0.5940\n"
     ]
    },
    {
     "name": "stderr",
     "output_type": "stream",
     "text": [
      " 53%|█████▎    | 8/15 [23:08<20:15, 173.62s/it]"
     ]
    },
    {
     "name": "stdout",
     "output_type": "stream",
     "text": [
      "Epoch: 7 | Train_loss: 2.2447, Train_acc: 0.4421 | Test_loss: 1.5080, Test_acc: 0.5862\n"
     ]
    },
    {
     "name": "stderr",
     "output_type": "stream",
     "text": [
      " 60%|██████    | 9/15 [26:05<17:27, 174.54s/it]"
     ]
    },
    {
     "name": "stdout",
     "output_type": "stream",
     "text": [
      "Epoch: 8 | Train_loss: 2.1887, Train_acc: 0.4495 | Test_loss: 1.6023, Test_acc: 0.5798\n"
     ]
    },
    {
     "name": "stderr",
     "output_type": "stream",
     "text": [
      " 67%|██████▋   | 10/15 [28:59<14:32, 174.50s/it]"
     ]
    },
    {
     "name": "stdout",
     "output_type": "stream",
     "text": [
      "Epoch: 9 | Train_loss: 2.1049, Train_acc: 0.4757 | Test_loss: 1.5638, Test_acc: 0.5947\n"
     ]
    },
    {
     "name": "stderr",
     "output_type": "stream",
     "text": [
      " 73%|███████▎  | 11/15 [31:52<11:36, 174.14s/it]"
     ]
    },
    {
     "name": "stdout",
     "output_type": "stream",
     "text": [
      "Epoch: 10 | Train_loss: 2.0486, Train_acc: 0.4852 | Test_loss: 1.4115, Test_acc: 0.6213\n"
     ]
    },
    {
     "name": "stderr",
     "output_type": "stream",
     "text": [
      " 80%|████████  | 12/15 [34:46<08:41, 173.93s/it]"
     ]
    },
    {
     "name": "stdout",
     "output_type": "stream",
     "text": [
      "Epoch: 11 | Train_loss: 1.9576, Train_acc: 0.5010 | Test_loss: 1.4955, Test_acc: 0.6086\n"
     ]
    },
    {
     "name": "stderr",
     "output_type": "stream",
     "text": [
      " 87%|████████▋ | 13/15 [37:40<05:47, 173.84s/it]"
     ]
    },
    {
     "name": "stdout",
     "output_type": "stream",
     "text": [
      "Epoch: 12 | Train_loss: 1.9303, Train_acc: 0.5125 | Test_loss: 1.5209, Test_acc: 0.6001\n"
     ]
    },
    {
     "name": "stderr",
     "output_type": "stream",
     "text": [
      " 93%|█████████▎| 14/15 [40:36<02:54, 174.71s/it]"
     ]
    },
    {
     "name": "stdout",
     "output_type": "stream",
     "text": [
      "Epoch: 13 | Train_loss: 1.8469, Train_acc: 0.5364 | Test_loss: 1.4794, Test_acc: 0.6117\n"
     ]
    },
    {
     "name": "stderr",
     "output_type": "stream",
     "text": [
      "100%|██████████| 15/15 [43:30<00:00, 174.06s/it]"
     ]
    },
    {
     "name": "stdout",
     "output_type": "stream",
     "text": [
      "Epoch: 14 | Train_loss: 1.8219, Train_acc: 0.5401 | Test_loss: 1.4074, Test_acc: 0.6310\n"
     ]
    },
    {
     "name": "stderr",
     "output_type": "stream",
     "text": [
      "\n"
     ]
    },
    {
     "name": "stdout",
     "output_type": "stream",
     "text": [
      "[INFO] Creating SummaryWriter saving to ../runs\\2023-03-18\\VGG16_bn_food101_test\\VGG16_bn_food101\\LR_5e-05_WD_0.0001_EP_15_BS_16_GA_1\n"
     ]
    },
    {
     "name": "stderr",
     "output_type": "stream",
     "text": [
      "  7%|▋         | 1/15 [02:53<40:31, 173.70s/it]"
     ]
    },
    {
     "name": "stdout",
     "output_type": "stream",
     "text": [
      "Epoch: 0 | Train_loss: 4.1649, Train_acc: 0.0880 | Test_loss: 2.8439, Test_acc: 0.2996\n"
     ]
    },
    {
     "name": "stderr",
     "output_type": "stream",
     "text": [
      " 13%|█▎        | 2/15 [05:47<37:37, 173.63s/it]"
     ]
    },
    {
     "name": "stdout",
     "output_type": "stream",
     "text": [
      "Epoch: 1 | Train_loss: 3.3617, Train_acc: 0.2122 | Test_loss: 2.1941, Test_acc: 0.4293\n"
     ]
    },
    {
     "name": "stderr",
     "output_type": "stream",
     "text": [
      " 20%|██        | 3/15 [08:40<34:42, 173.52s/it]"
     ]
    },
    {
     "name": "stdout",
     "output_type": "stream",
     "text": [
      "Epoch: 2 | Train_loss: 3.0021, Train_acc: 0.2844 | Test_loss: 2.0155, Test_acc: 0.4693\n"
     ]
    },
    {
     "name": "stderr",
     "output_type": "stream",
     "text": [
      " 27%|██▋       | 4/15 [11:34<31:48, 173.47s/it]"
     ]
    },
    {
     "name": "stdout",
     "output_type": "stream",
     "text": [
      "Epoch: 3 | Train_loss: 2.7468, Train_acc: 0.3326 | Test_loss: 1.8612, Test_acc: 0.5173\n"
     ]
    },
    {
     "name": "stderr",
     "output_type": "stream",
     "text": [
      " 33%|███▎      | 5/15 [14:27<28:54, 173.45s/it]"
     ]
    },
    {
     "name": "stdout",
     "output_type": "stream",
     "text": [
      "Epoch: 4 | Train_loss: 2.5780, Train_acc: 0.3684 | Test_loss: 1.7030, Test_acc: 0.5438\n"
     ]
    },
    {
     "name": "stderr",
     "output_type": "stream",
     "text": [
      " 40%|████      | 6/15 [17:20<26:00, 173.40s/it]"
     ]
    },
    {
     "name": "stdout",
     "output_type": "stream",
     "text": [
      "Epoch: 5 | Train_loss: 2.4305, Train_acc: 0.4032 | Test_loss: 1.6065, Test_acc: 0.5718\n"
     ]
    },
    {
     "name": "stderr",
     "output_type": "stream",
     "text": [
      " 47%|████▋     | 7/15 [20:14<23:08, 173.53s/it]"
     ]
    },
    {
     "name": "stdout",
     "output_type": "stream",
     "text": [
      "Epoch: 6 | Train_loss: 2.3267, Train_acc: 0.4203 | Test_loss: 1.5470, Test_acc: 0.5928\n"
     ]
    },
    {
     "name": "stderr",
     "output_type": "stream",
     "text": [
      " 53%|█████▎    | 8/15 [23:07<20:14, 173.44s/it]"
     ]
    },
    {
     "name": "stdout",
     "output_type": "stream",
     "text": [
      "Epoch: 7 | Train_loss: 2.2349, Train_acc: 0.4440 | Test_loss: 1.5382, Test_acc: 0.6008\n"
     ]
    },
    {
     "name": "stderr",
     "output_type": "stream",
     "text": [
      " 60%|██████    | 9/15 [26:01<17:20, 173.43s/it]"
     ]
    },
    {
     "name": "stdout",
     "output_type": "stream",
     "text": [
      "Epoch: 8 | Train_loss: 2.1532, Train_acc: 0.4694 | Test_loss: 1.4790, Test_acc: 0.5993\n"
     ]
    },
    {
     "name": "stderr",
     "output_type": "stream",
     "text": [
      " 67%|██████▋   | 10/15 [28:54<14:27, 173.50s/it]"
     ]
    },
    {
     "name": "stdout",
     "output_type": "stream",
     "text": [
      "Epoch: 9 | Train_loss: 2.0571, Train_acc: 0.4796 | Test_loss: 1.4863, Test_acc: 0.6036\n"
     ]
    },
    {
     "name": "stderr",
     "output_type": "stream",
     "text": [
      " 73%|███████▎  | 11/15 [31:48<11:33, 173.46s/it]"
     ]
    },
    {
     "name": "stdout",
     "output_type": "stream",
     "text": [
      "Epoch: 10 | Train_loss: 1.9952, Train_acc: 0.4974 | Test_loss: 1.4401, Test_acc: 0.6310\n"
     ]
    },
    {
     "name": "stderr",
     "output_type": "stream",
     "text": [
      " 80%|████████  | 12/15 [34:41<08:40, 173.50s/it]"
     ]
    },
    {
     "name": "stdout",
     "output_type": "stream",
     "text": [
      "Epoch: 11 | Train_loss: 1.9301, Train_acc: 0.5108 | Test_loss: 1.4453, Test_acc: 0.6163\n"
     ]
    },
    {
     "name": "stderr",
     "output_type": "stream",
     "text": [
      " 87%|████████▋ | 13/15 [37:34<05:46, 173.38s/it]"
     ]
    },
    {
     "name": "stdout",
     "output_type": "stream",
     "text": [
      "Epoch: 12 | Train_loss: 1.8729, Train_acc: 0.5261 | Test_loss: 1.3858, Test_acc: 0.6331\n"
     ]
    },
    {
     "name": "stderr",
     "output_type": "stream",
     "text": [
      " 93%|█████████▎| 14/15 [40:28<02:53, 173.43s/it]"
     ]
    },
    {
     "name": "stdout",
     "output_type": "stream",
     "text": [
      "Epoch: 13 | Train_loss: 1.7891, Train_acc: 0.5453 | Test_loss: 1.4440, Test_acc: 0.6318\n"
     ]
    },
    {
     "name": "stderr",
     "output_type": "stream",
     "text": [
      "100%|██████████| 15/15 [43:21<00:00, 173.46s/it]"
     ]
    },
    {
     "name": "stdout",
     "output_type": "stream",
     "text": [
      "Epoch: 14 | Train_loss: 1.7783, Train_acc: 0.5455 | Test_loss: 1.4999, Test_acc: 0.6182\n"
     ]
    },
    {
     "name": "stderr",
     "output_type": "stream",
     "text": [
      "\n"
     ]
    },
    {
     "name": "stdout",
     "output_type": "stream",
     "text": [
      "[INFO] Creating SummaryWriter saving to ../runs\\2023-03-18\\VGG16_bn_food101_test\\VGG16_bn_food101\\LR_1e-05_WD_0.001_EP_15_BS_16_GA_1\n"
     ]
    },
    {
     "name": "stderr",
     "output_type": "stream",
     "text": [
      "  7%|▋         | 1/15 [02:53<40:32, 173.78s/it]"
     ]
    },
    {
     "name": "stdout",
     "output_type": "stream",
     "text": [
      "Epoch: 0 | Train_loss: 4.5613, Train_acc: 0.0251 | Test_loss: 4.2320, Test_acc: 0.1213\n"
     ]
    },
    {
     "name": "stderr",
     "output_type": "stream",
     "text": [
      " 13%|█▎        | 2/15 [05:47<37:39, 173.84s/it]"
     ]
    },
    {
     "name": "stdout",
     "output_type": "stream",
     "text": [
      "Epoch: 1 | Train_loss: 4.1139, Train_acc: 0.0982 | Test_loss: 3.0540, Test_acc: 0.3106\n"
     ]
    },
    {
     "name": "stderr",
     "output_type": "stream",
     "text": [
      " 20%|██        | 3/15 [08:41<34:44, 173.68s/it]"
     ]
    },
    {
     "name": "stdout",
     "output_type": "stream",
     "text": [
      "Epoch: 2 | Train_loss: 3.6262, Train_acc: 0.1689 | Test_loss: 2.4664, Test_acc: 0.4160\n"
     ]
    },
    {
     "name": "stderr",
     "output_type": "stream",
     "text": [
      " 27%|██▋       | 4/15 [11:34<31:49, 173.60s/it]"
     ]
    },
    {
     "name": "stdout",
     "output_type": "stream",
     "text": [
      "Epoch: 3 | Train_loss: 3.3597, Train_acc: 0.2162 | Test_loss: 2.2307, Test_acc: 0.4424\n"
     ]
    },
    {
     "name": "stderr",
     "output_type": "stream",
     "text": [
      " 33%|███▎      | 5/15 [14:27<28:54, 173.49s/it]"
     ]
    },
    {
     "name": "stdout",
     "output_type": "stream",
     "text": [
      "Epoch: 4 | Train_loss: 3.1513, Train_acc: 0.2580 | Test_loss: 2.0309, Test_acc: 0.4811\n"
     ]
    },
    {
     "name": "stderr",
     "output_type": "stream",
     "text": [
      " 40%|████      | 6/15 [17:21<26:00, 173.43s/it]"
     ]
    },
    {
     "name": "stdout",
     "output_type": "stream",
     "text": [
      "Epoch: 5 | Train_loss: 2.9866, Train_acc: 0.2879 | Test_loss: 1.8944, Test_acc: 0.4990\n"
     ]
    },
    {
     "name": "stderr",
     "output_type": "stream",
     "text": [
      " 47%|████▋     | 7/15 [20:14<23:06, 173.35s/it]"
     ]
    },
    {
     "name": "stdout",
     "output_type": "stream",
     "text": [
      "Epoch: 6 | Train_loss: 2.8912, Train_acc: 0.3031 | Test_loss: 1.7792, Test_acc: 0.5302\n"
     ]
    },
    {
     "name": "stderr",
     "output_type": "stream",
     "text": [
      " 53%|█████▎    | 8/15 [23:07<20:12, 173.28s/it]"
     ]
    },
    {
     "name": "stdout",
     "output_type": "stream",
     "text": [
      "Epoch: 7 | Train_loss: 2.8158, Train_acc: 0.3215 | Test_loss: 1.7205, Test_acc: 0.5350\n"
     ]
    },
    {
     "name": "stderr",
     "output_type": "stream",
     "text": [
      " 60%|██████    | 9/15 [26:01<17:20, 173.36s/it]"
     ]
    },
    {
     "name": "stdout",
     "output_type": "stream",
     "text": [
      "Epoch: 8 | Train_loss: 2.6987, Train_acc: 0.3473 | Test_loss: 1.6547, Test_acc: 0.5505\n"
     ]
    },
    {
     "name": "stderr",
     "output_type": "stream",
     "text": [
      " 67%|██████▋   | 10/15 [28:54<14:26, 173.34s/it]"
     ]
    },
    {
     "name": "stdout",
     "output_type": "stream",
     "text": [
      "Epoch: 9 | Train_loss: 2.6217, Train_acc: 0.3595 | Test_loss: 1.6015, Test_acc: 0.5744\n"
     ]
    },
    {
     "name": "stderr",
     "output_type": "stream",
     "text": [
      " 73%|███████▎  | 11/15 [31:47<11:33, 173.31s/it]"
     ]
    },
    {
     "name": "stdout",
     "output_type": "stream",
     "text": [
      "Epoch: 10 | Train_loss: 2.5458, Train_acc: 0.3760 | Test_loss: 1.5497, Test_acc: 0.5798\n"
     ]
    },
    {
     "name": "stderr",
     "output_type": "stream",
     "text": [
      " 80%|████████  | 12/15 [34:41<08:40, 173.34s/it]"
     ]
    },
    {
     "name": "stdout",
     "output_type": "stream",
     "text": [
      "Epoch: 11 | Train_loss: 2.4840, Train_acc: 0.3867 | Test_loss: 1.5150, Test_acc: 0.5932\n"
     ]
    },
    {
     "name": "stderr",
     "output_type": "stream",
     "text": [
      " 87%|████████▋ | 13/15 [37:34<05:46, 173.28s/it]"
     ]
    },
    {
     "name": "stdout",
     "output_type": "stream",
     "text": [
      "Epoch: 12 | Train_loss: 2.4036, Train_acc: 0.4120 | Test_loss: 1.4478, Test_acc: 0.6030\n"
     ]
    },
    {
     "name": "stderr",
     "output_type": "stream",
     "text": [
      " 93%|█████████▎| 14/15 [40:27<02:53, 173.41s/it]"
     ]
    },
    {
     "name": "stdout",
     "output_type": "stream",
     "text": [
      "Epoch: 13 | Train_loss: 2.3815, Train_acc: 0.4188 | Test_loss: 1.4442, Test_acc: 0.5956\n"
     ]
    },
    {
     "name": "stderr",
     "output_type": "stream",
     "text": [
      "100%|██████████| 15/15 [43:21<00:00, 173.45s/it]"
     ]
    },
    {
     "name": "stdout",
     "output_type": "stream",
     "text": [
      "Epoch: 14 | Train_loss: 2.3283, Train_acc: 0.4256 | Test_loss: 1.4507, Test_acc: 0.5908\n"
     ]
    },
    {
     "name": "stderr",
     "output_type": "stream",
     "text": [
      "\n"
     ]
    },
    {
     "name": "stdout",
     "output_type": "stream",
     "text": [
      "[INFO] Creating SummaryWriter saving to ../runs\\2023-03-18\\VGG16_bn_food101_test\\VGG16_bn_food101\\LR_1e-05_WD_0.0005_EP_15_BS_16_GA_1\n"
     ]
    },
    {
     "name": "stderr",
     "output_type": "stream",
     "text": [
      "  7%|▋         | 1/15 [02:53<40:30, 173.57s/it]"
     ]
    },
    {
     "name": "stdout",
     "output_type": "stream",
     "text": [
      "Epoch: 0 | Train_loss: 4.5470, Train_acc: 0.0278 | Test_loss: 4.1731, Test_acc: 0.1332\n"
     ]
    },
    {
     "name": "stderr",
     "output_type": "stream",
     "text": [
      " 13%|█▎        | 2/15 [05:47<37:37, 173.69s/it]"
     ]
    },
    {
     "name": "stdout",
     "output_type": "stream",
     "text": [
      "Epoch: 1 | Train_loss: 4.0792, Train_acc: 0.1042 | Test_loss: 2.9931, Test_acc: 0.3228\n"
     ]
    },
    {
     "name": "stderr",
     "output_type": "stream",
     "text": [
      " 20%|██        | 3/15 [08:40<34:43, 173.65s/it]"
     ]
    },
    {
     "name": "stdout",
     "output_type": "stream",
     "text": [
      "Epoch: 2 | Train_loss: 3.6072, Train_acc: 0.1767 | Test_loss: 2.4483, Test_acc: 0.4087\n"
     ]
    },
    {
     "name": "stderr",
     "output_type": "stream",
     "text": [
      " 27%|██▋       | 4/15 [11:34<31:49, 173.62s/it]"
     ]
    },
    {
     "name": "stdout",
     "output_type": "stream",
     "text": [
      "Epoch: 3 | Train_loss: 3.3243, Train_acc: 0.2240 | Test_loss: 2.1762, Test_acc: 0.4585\n"
     ]
    },
    {
     "name": "stderr",
     "output_type": "stream",
     "text": [
      " 33%|███▎      | 5/15 [14:27<28:55, 173.57s/it]"
     ]
    },
    {
     "name": "stdout",
     "output_type": "stream",
     "text": [
      "Epoch: 4 | Train_loss: 3.1388, Train_acc: 0.2629 | Test_loss: 1.9968, Test_acc: 0.4891\n"
     ]
    },
    {
     "name": "stderr",
     "output_type": "stream",
     "text": [
      " 40%|████      | 6/15 [17:21<26:01, 173.55s/it]"
     ]
    },
    {
     "name": "stdout",
     "output_type": "stream",
     "text": [
      "Epoch: 5 | Train_loss: 3.0057, Train_acc: 0.2849 | Test_loss: 1.8728, Test_acc: 0.5257\n"
     ]
    },
    {
     "name": "stderr",
     "output_type": "stream",
     "text": [
      " 47%|████▋     | 7/15 [20:14<23:07, 173.47s/it]"
     ]
    },
    {
     "name": "stdout",
     "output_type": "stream",
     "text": [
      "Epoch: 6 | Train_loss: 2.8883, Train_acc: 0.3099 | Test_loss: 1.7755, Test_acc: 0.5450\n"
     ]
    },
    {
     "name": "stderr",
     "output_type": "stream",
     "text": [
      " 53%|█████▎    | 8/15 [23:08<20:15, 173.58s/it]"
     ]
    },
    {
     "name": "stdout",
     "output_type": "stream",
     "text": [
      "Epoch: 7 | Train_loss: 2.7330, Train_acc: 0.3387 | Test_loss: 1.6946, Test_acc: 0.5507\n"
     ]
    },
    {
     "name": "stderr",
     "output_type": "stream",
     "text": [
      " 60%|██████    | 9/15 [26:02<17:21, 173.55s/it]"
     ]
    },
    {
     "name": "stdout",
     "output_type": "stream",
     "text": [
      "Epoch: 8 | Train_loss: 2.6638, Train_acc: 0.3574 | Test_loss: 1.6348, Test_acc: 0.5700\n"
     ]
    },
    {
     "name": "stderr",
     "output_type": "stream",
     "text": [
      " 67%|██████▋   | 10/15 [28:55<14:27, 173.58s/it]"
     ]
    },
    {
     "name": "stdout",
     "output_type": "stream",
     "text": [
      "Epoch: 9 | Train_loss: 2.5887, Train_acc: 0.3672 | Test_loss: 1.5785, Test_acc: 0.5867\n"
     ]
    },
    {
     "name": "stderr",
     "output_type": "stream",
     "text": [
      " 73%|███████▎  | 11/15 [31:52<11:38, 174.62s/it]"
     ]
    },
    {
     "name": "stdout",
     "output_type": "stream",
     "text": [
      "Epoch: 10 | Train_loss: 2.5183, Train_acc: 0.3827 | Test_loss: 1.5322, Test_acc: 0.5960\n"
     ]
    },
    {
     "name": "stderr",
     "output_type": "stream",
     "text": [
      " 80%|████████  | 12/15 [34:46<08:43, 174.41s/it]"
     ]
    },
    {
     "name": "stdout",
     "output_type": "stream",
     "text": [
      "Epoch: 11 | Train_loss: 2.4410, Train_acc: 0.4043 | Test_loss: 1.4496, Test_acc: 0.6060\n"
     ]
    },
    {
     "name": "stderr",
     "output_type": "stream",
     "text": [
      " 87%|████████▋ | 13/15 [37:40<05:48, 174.17s/it]"
     ]
    },
    {
     "name": "stdout",
     "output_type": "stream",
     "text": [
      "Epoch: 12 | Train_loss: 2.3908, Train_acc: 0.4111 | Test_loss: 1.4348, Test_acc: 0.6037\n"
     ]
    },
    {
     "name": "stderr",
     "output_type": "stream",
     "text": [
      " 93%|█████████▎| 14/15 [40:33<02:54, 174.02s/it]"
     ]
    },
    {
     "name": "stdout",
     "output_type": "stream",
     "text": [
      "Epoch: 13 | Train_loss: 2.3716, Train_acc: 0.4148 | Test_loss: 1.4143, Test_acc: 0.6104\n"
     ]
    },
    {
     "name": "stderr",
     "output_type": "stream",
     "text": [
      "100%|██████████| 15/15 [43:27<00:00, 173.82s/it]"
     ]
    },
    {
     "name": "stdout",
     "output_type": "stream",
     "text": [
      "Epoch: 14 | Train_loss: 2.3077, Train_acc: 0.4325 | Test_loss: 1.3978, Test_acc: 0.6172\n"
     ]
    },
    {
     "name": "stderr",
     "output_type": "stream",
     "text": [
      "\n"
     ]
    },
    {
     "name": "stdout",
     "output_type": "stream",
     "text": [
      "[INFO] Creating SummaryWriter saving to ../runs\\2023-03-18\\VGG16_bn_food101_test\\VGG16_bn_food101\\LR_1e-05_WD_0.0001_EP_15_BS_16_GA_1\n"
     ]
    },
    {
     "name": "stderr",
     "output_type": "stream",
     "text": [
      "  7%|▋         | 1/15 [02:53<40:26, 173.33s/it]"
     ]
    },
    {
     "name": "stdout",
     "output_type": "stream",
     "text": [
      "Epoch: 0 | Train_loss: 4.5612, Train_acc: 0.0273 | Test_loss: 4.2161, Test_acc: 0.1295\n"
     ]
    },
    {
     "name": "stderr",
     "output_type": "stream",
     "text": [
      " 13%|█▎        | 2/15 [05:46<37:34, 173.44s/it]"
     ]
    },
    {
     "name": "stdout",
     "output_type": "stream",
     "text": [
      "Epoch: 1 | Train_loss: 4.1081, Train_acc: 0.1009 | Test_loss: 3.0562, Test_acc: 0.3035\n"
     ]
    },
    {
     "name": "stderr",
     "output_type": "stream",
     "text": [
      " 20%|██        | 3/15 [08:40<34:43, 173.61s/it]"
     ]
    },
    {
     "name": "stdout",
     "output_type": "stream",
     "text": [
      "Epoch: 2 | Train_loss: 3.6424, Train_acc: 0.1648 | Test_loss: 2.4928, Test_acc: 0.4010\n"
     ]
    },
    {
     "name": "stderr",
     "output_type": "stream",
     "text": [
      " 27%|██▋       | 4/15 [11:34<31:49, 173.62s/it]"
     ]
    },
    {
     "name": "stdout",
     "output_type": "stream",
     "text": [
      "Epoch: 3 | Train_loss: 3.3476, Train_acc: 0.2239 | Test_loss: 2.1955, Test_acc: 0.4591\n"
     ]
    },
    {
     "name": "stderr",
     "output_type": "stream",
     "text": [
      " 33%|███▎      | 5/15 [14:28<28:56, 173.67s/it]"
     ]
    },
    {
     "name": "stdout",
     "output_type": "stream",
     "text": [
      "Epoch: 4 | Train_loss: 3.1394, Train_acc: 0.2580 | Test_loss: 2.0117, Test_acc: 0.4827\n"
     ]
    },
    {
     "name": "stderr",
     "output_type": "stream",
     "text": [
      " 40%|████      | 6/15 [17:21<26:01, 173.51s/it]"
     ]
    },
    {
     "name": "stdout",
     "output_type": "stream",
     "text": [
      "Epoch: 5 | Train_loss: 2.9869, Train_acc: 0.2830 | Test_loss: 1.8950, Test_acc: 0.5089\n"
     ]
    },
    {
     "name": "stderr",
     "output_type": "stream",
     "text": [
      " 47%|████▋     | 7/15 [20:15<23:08, 173.62s/it]"
     ]
    },
    {
     "name": "stdout",
     "output_type": "stream",
     "text": [
      "Epoch: 6 | Train_loss: 2.8766, Train_acc: 0.3066 | Test_loss: 1.7893, Test_acc: 0.5308\n"
     ]
    },
    {
     "name": "stderr",
     "output_type": "stream",
     "text": [
      " 53%|█████▎    | 8/15 [23:08<20:15, 173.57s/it]"
     ]
    },
    {
     "name": "stdout",
     "output_type": "stream",
     "text": [
      "Epoch: 7 | Train_loss: 2.7960, Train_acc: 0.3335 | Test_loss: 1.7428, Test_acc: 0.5406\n"
     ]
    },
    {
     "name": "stderr",
     "output_type": "stream",
     "text": [
      " 60%|██████    | 9/15 [26:02<17:21, 173.64s/it]"
     ]
    },
    {
     "name": "stdout",
     "output_type": "stream",
     "text": [
      "Epoch: 8 | Train_loss: 2.6856, Train_acc: 0.3457 | Test_loss: 1.6351, Test_acc: 0.5621\n"
     ]
    },
    {
     "name": "stderr",
     "output_type": "stream",
     "text": [
      " 67%|██████▋   | 10/15 [28:55<14:27, 173.59s/it]"
     ]
    },
    {
     "name": "stdout",
     "output_type": "stream",
     "text": [
      "Epoch: 9 | Train_loss: 2.6028, Train_acc: 0.3619 | Test_loss: 1.5913, Test_acc: 0.5725\n"
     ]
    },
    {
     "name": "stderr",
     "output_type": "stream",
     "text": [
      " 73%|███████▎  | 11/15 [31:49<11:34, 173.61s/it]"
     ]
    },
    {
     "name": "stdout",
     "output_type": "stream",
     "text": [
      "Epoch: 10 | Train_loss: 2.5081, Train_acc: 0.3855 | Test_loss: 1.5772, Test_acc: 0.5725\n"
     ]
    },
    {
     "name": "stderr",
     "output_type": "stream",
     "text": [
      " 80%|████████  | 12/15 [34:43<08:40, 173.66s/it]"
     ]
    },
    {
     "name": "stdout",
     "output_type": "stream",
     "text": [
      "Epoch: 11 | Train_loss: 2.4949, Train_acc: 0.3882 | Test_loss: 1.5163, Test_acc: 0.5871\n"
     ]
    },
    {
     "name": "stderr",
     "output_type": "stream",
     "text": [
      " 87%|████████▋ | 13/15 [37:37<05:47, 173.74s/it]"
     ]
    },
    {
     "name": "stdout",
     "output_type": "stream",
     "text": [
      "Epoch: 12 | Train_loss: 2.3910, Train_acc: 0.4123 | Test_loss: 1.4538, Test_acc: 0.5982\n"
     ]
    },
    {
     "name": "stderr",
     "output_type": "stream",
     "text": [
      " 93%|█████████▎| 14/15 [40:30<02:53, 173.74s/it]"
     ]
    },
    {
     "name": "stdout",
     "output_type": "stream",
     "text": [
      "Epoch: 13 | Train_loss: 2.3807, Train_acc: 0.4088 | Test_loss: 1.4413, Test_acc: 0.6068\n"
     ]
    },
    {
     "name": "stderr",
     "output_type": "stream",
     "text": [
      "100%|██████████| 15/15 [43:24<00:00, 173.65s/it]"
     ]
    },
    {
     "name": "stdout",
     "output_type": "stream",
     "text": [
      "Epoch: 14 | Train_loss: 2.3231, Train_acc: 0.4322 | Test_loss: 1.4058, Test_acc: 0.6111\n"
     ]
    },
    {
     "name": "stderr",
     "output_type": "stream",
     "text": [
      "\n"
     ]
    }
   ],
   "source": [
    "train_dataset, _ = data_setup.split_dataset(\n",
    "    dataset=train_data_food101,\n",
    "    split_size=0.1,\n",
    "    seed=42\n",
    ")\n",
    "test_dataset, _ = data_setup.split_dataset(\n",
    "    dataset=test_data_food101,\n",
    "    split_size=0.1,\n",
    "    seed=42\n",
    ")\n",
    "\n",
    "tuning_results = engine.HP_tune_train(\n",
    "    model_generator=vgg16_bn_model_generator,\n",
    "    model_weights=vgg16_bn_weights,\n",
    "    model_name='VGG16_bn_food101',\n",
    "    train_dataset=train_dataset,\n",
    "    test_dataset=test_dataset,\n",
    "    learning_rate_list=learning_rate_list,\n",
    "    weight_decay_list=weight_decay_list,\n",
    "    epochs_list=epochs_list,\n",
    "    batch_size_list=batch_size_list,\n",
    "    is_tensorboard_writer=True,\n",
    "    device=device,\n",
    "    gradient_accumulation_num=1\n",
    ")"
   ]
  },
  {
   "cell_type": "code",
   "execution_count": 11,
   "metadata": {},
   "outputs": [
    {
     "data": {
      "text/html": [
       "<div>\n",
       "<style scoped>\n",
       "    .dataframe tbody tr th:only-of-type {\n",
       "        vertical-align: middle;\n",
       "    }\n",
       "\n",
       "    .dataframe tbody tr th {\n",
       "        vertical-align: top;\n",
       "    }\n",
       "\n",
       "    .dataframe thead th {\n",
       "        text-align: right;\n",
       "    }\n",
       "</style>\n",
       "<table border=\"1\" class=\"dataframe\">\n",
       "  <thead>\n",
       "    <tr style=\"text-align: right;\">\n",
       "      <th></th>\n",
       "      <th>learning_rate</th>\n",
       "      <th>weight_decay</th>\n",
       "      <th>epochs</th>\n",
       "      <th>batch_size</th>\n",
       "      <th>train_loss</th>\n",
       "      <th>test_loss</th>\n",
       "      <th>train_acc</th>\n",
       "      <th>test_acc</th>\n",
       "    </tr>\n",
       "  </thead>\n",
       "  <tbody>\n",
       "    <tr>\n",
       "      <th>0</th>\n",
       "      <td>0.00050</td>\n",
       "      <td>0.0010</td>\n",
       "      <td>15</td>\n",
       "      <td>16</td>\n",
       "      <td>4.5276074</td>\n",
       "      <td>4.453647</td>\n",
       "      <td>0.023206752</td>\n",
       "      <td>0.01898734</td>\n",
       "    </tr>\n",
       "    <tr>\n",
       "      <th>1</th>\n",
       "      <td>0.00050</td>\n",
       "      <td>0.0005</td>\n",
       "      <td>15</td>\n",
       "      <td>16</td>\n",
       "      <td>4.548298</td>\n",
       "      <td>4.491308</td>\n",
       "      <td>0.022453286</td>\n",
       "      <td>0.012262658</td>\n",
       "    </tr>\n",
       "    <tr>\n",
       "      <th>2</th>\n",
       "      <td>0.00050</td>\n",
       "      <td>0.0001</td>\n",
       "      <td>15</td>\n",
       "      <td>16</td>\n",
       "      <td>4.615389</td>\n",
       "      <td>4.656549</td>\n",
       "      <td>0.015559072</td>\n",
       "      <td>0.011867088</td>\n",
       "    </tr>\n",
       "    <tr>\n",
       "      <th>3</th>\n",
       "      <td>0.00010</td>\n",
       "      <td>0.0010</td>\n",
       "      <td>15</td>\n",
       "      <td>16</td>\n",
       "      <td>2.2501433</td>\n",
       "      <td>1.7973984</td>\n",
       "      <td>0.44648507</td>\n",
       "      <td>0.55452776</td>\n",
       "    </tr>\n",
       "    <tr>\n",
       "      <th>4</th>\n",
       "      <td>0.00010</td>\n",
       "      <td>0.0005</td>\n",
       "      <td>15</td>\n",
       "      <td>16</td>\n",
       "      <td>2.1077619</td>\n",
       "      <td>1.7670223</td>\n",
       "      <td>0.47453284</td>\n",
       "      <td>0.5587877</td>\n",
       "    </tr>\n",
       "    <tr>\n",
       "      <th>5</th>\n",
       "      <td>0.00010</td>\n",
       "      <td>0.0001</td>\n",
       "      <td>15</td>\n",
       "      <td>16</td>\n",
       "      <td>2.0238347</td>\n",
       "      <td>1.5908701</td>\n",
       "      <td>0.49853075</td>\n",
       "      <td>0.5938717</td>\n",
       "    </tr>\n",
       "    <tr>\n",
       "      <th>6</th>\n",
       "      <td>0.00005</td>\n",
       "      <td>0.0010</td>\n",
       "      <td>15</td>\n",
       "      <td>16</td>\n",
       "      <td>1.8958741</td>\n",
       "      <td>1.4589834</td>\n",
       "      <td>0.5261453</td>\n",
       "      <td>0.61979675</td>\n",
       "    </tr>\n",
       "    <tr>\n",
       "      <th>7</th>\n",
       "      <td>0.00005</td>\n",
       "      <td>0.0005</td>\n",
       "      <td>15</td>\n",
       "      <td>16</td>\n",
       "      <td>1.8218819</td>\n",
       "      <td>1.4074081</td>\n",
       "      <td>0.5400655</td>\n",
       "      <td>0.630964</td>\n",
       "    </tr>\n",
       "    <tr>\n",
       "      <th>8</th>\n",
       "      <td>0.00005</td>\n",
       "      <td>0.0001</td>\n",
       "      <td>15</td>\n",
       "      <td>16</td>\n",
       "      <td>1.778301</td>\n",
       "      <td>1.499908</td>\n",
       "      <td>0.545547</td>\n",
       "      <td>0.6182145</td>\n",
       "    </tr>\n",
       "    <tr>\n",
       "      <th>9</th>\n",
       "      <td>0.00001</td>\n",
       "      <td>0.0010</td>\n",
       "      <td>15</td>\n",
       "      <td>16</td>\n",
       "      <td>2.3282585</td>\n",
       "      <td>1.4506983</td>\n",
       "      <td>0.4256141</td>\n",
       "      <td>0.59082884</td>\n",
       "    </tr>\n",
       "    <tr>\n",
       "      <th>10</th>\n",
       "      <td>0.00001</td>\n",
       "      <td>0.0005</td>\n",
       "      <td>15</td>\n",
       "      <td>16</td>\n",
       "      <td>2.3077438</td>\n",
       "      <td>1.3978298</td>\n",
       "      <td>0.43254596</td>\n",
       "      <td>0.6172103</td>\n",
       "    </tr>\n",
       "    <tr>\n",
       "      <th>11</th>\n",
       "      <td>0.00001</td>\n",
       "      <td>0.0001</td>\n",
       "      <td>15</td>\n",
       "      <td>16</td>\n",
       "      <td>2.323106</td>\n",
       "      <td>1.4058466</td>\n",
       "      <td>0.43224457</td>\n",
       "      <td>0.61109424</td>\n",
       "    </tr>\n",
       "  </tbody>\n",
       "</table>\n",
       "</div>"
      ],
      "text/plain": [
       "    learning_rate  weight_decay  epochs  batch_size train_loss  test_loss  \\\n",
       "0         0.00050        0.0010      15          16  4.5276074   4.453647   \n",
       "1         0.00050        0.0005      15          16   4.548298   4.491308   \n",
       "2         0.00050        0.0001      15          16   4.615389   4.656549   \n",
       "3         0.00010        0.0010      15          16  2.2501433  1.7973984   \n",
       "4         0.00010        0.0005      15          16  2.1077619  1.7670223   \n",
       "5         0.00010        0.0001      15          16  2.0238347  1.5908701   \n",
       "6         0.00005        0.0010      15          16  1.8958741  1.4589834   \n",
       "7         0.00005        0.0005      15          16  1.8218819  1.4074081   \n",
       "8         0.00005        0.0001      15          16   1.778301   1.499908   \n",
       "9         0.00001        0.0010      15          16  2.3282585  1.4506983   \n",
       "10        0.00001        0.0005      15          16  2.3077438  1.3978298   \n",
       "11        0.00001        0.0001      15          16   2.323106  1.4058466   \n",
       "\n",
       "      train_acc     test_acc  \n",
       "0   0.023206752   0.01898734  \n",
       "1   0.022453286  0.012262658  \n",
       "2   0.015559072  0.011867088  \n",
       "3    0.44648507   0.55452776  \n",
       "4    0.47453284    0.5587877  \n",
       "5    0.49853075    0.5938717  \n",
       "6     0.5261453   0.61979675  \n",
       "7     0.5400655     0.630964  \n",
       "8      0.545547    0.6182145  \n",
       "9     0.4256141   0.59082884  \n",
       "10   0.43254596    0.6172103  \n",
       "11   0.43224457   0.61109424  "
      ]
     },
     "execution_count": 11,
     "metadata": {},
     "output_type": "execute_result"
    }
   ],
   "source": [
    "import pandas as pd\n",
    "pd.DataFrame(tuning_results)"
   ]
  },
  {
   "cell_type": "code",
   "execution_count": 6,
   "metadata": {},
   "outputs": [],
   "source": [
    "vgg16_weights = torchvision.models.VGG16_Weights.DEFAULT\n",
    "vgg16_model = torchvision.models.vgg16(weights=vgg16_weights)\n",
    "vgg16_model.classifier[-1] = torch.nn.Linear(\n",
    "    in_features=4096,\n",
    "    out_features=len(class_names_food101)\n",
    ")"
   ]
  },
  {
   "cell_type": "code",
   "execution_count": 7,
   "metadata": {},
   "outputs": [
    {
     "name": "stdout",
     "output_type": "stream",
     "text": [
      "[INFO] Splitting dataset of length 75750 into splits of size: 75750 and 0\n",
      "[INFO] Splitting dataset of length 25250 into splits of size: 25250 and 0\n",
      "[INFO] Creating SummaryWriter saving to ../runs\\2023-03-18\\VGG16_food101_test\\VGG16_food101\\LR_5e-05_WD_0.0005_EP_30_BS_16_GA_16\n"
     ]
    },
    {
     "name": "stderr",
     "output_type": "stream",
     "text": [
      "  3%|▎         | 1/30 [23:10<11:11:51, 1390.04s/it]"
     ]
    },
    {
     "name": "stdout",
     "output_type": "stream",
     "text": [
      "Epoch: 0 | Train_loss: 3.4985, Train_acc: 0.1967 | Test_loss: 1.7645, Test_acc: 0.5428\n"
     ]
    },
    {
     "name": "stderr",
     "output_type": "stream",
     "text": [
      "  7%|▋         | 2/30 [46:17<10:47:59, 1388.56s/it]"
     ]
    },
    {
     "name": "stdout",
     "output_type": "stream",
     "text": [
      "Epoch: 1 | Train_loss: 2.6557, Train_acc: 0.3572 | Test_loss: 1.4274, Test_acc: 0.6217\n",
      "Epoch: 2 | Train_loss: 2.3919, Train_acc: 0.4153 | Test_loss: 1.2596, Test_acc: 0.6581\n"
     ]
    },
    {
     "name": "stderr",
     "output_type": "stream",
     "text": [
      " 13%|█▎        | 4/30 [1:32:43<10:02:58, 1391.46s/it]"
     ]
    },
    {
     "name": "stdout",
     "output_type": "stream",
     "text": [
      "Epoch: 3 | Train_loss: 2.2340, Train_acc: 0.4480 | Test_loss: 1.1622, Test_acc: 0.6807\n"
     ]
    },
    {
     "name": "stderr",
     "output_type": "stream",
     "text": [
      " 17%|█▋        | 5/30 [1:55:53<9:39:30, 1390.80s/it] "
     ]
    },
    {
     "name": "stdout",
     "output_type": "stream",
     "text": [
      "Epoch: 4 | Train_loss: 2.1140, Train_acc: 0.4769 | Test_loss: 1.1200, Test_acc: 0.6959\n"
     ]
    },
    {
     "name": "stderr",
     "output_type": "stream",
     "text": [
      " 20%|██        | 6/30 [2:19:01<9:15:56, 1389.87s/it]"
     ]
    },
    {
     "name": "stdout",
     "output_type": "stream",
     "text": [
      "Epoch: 5 | Train_loss: 2.0176, Train_acc: 0.4993 | Test_loss: 1.0224, Test_acc: 0.7180\n"
     ]
    },
    {
     "name": "stderr",
     "output_type": "stream",
     "text": [
      " 23%|██▎       | 7/30 [2:42:03<8:51:53, 1387.54s/it]"
     ]
    },
    {
     "name": "stdout",
     "output_type": "stream",
     "text": [
      "Epoch: 6 | Train_loss: 1.9455, Train_acc: 0.5152 | Test_loss: 0.9633, Test_acc: 0.7368\n",
      "Epoch: 7 | Train_loss: 1.8799, Train_acc: 0.5291 | Test_loss: 0.9106, Test_acc: 0.7497\n"
     ]
    },
    {
     "name": "stderr",
     "output_type": "stream",
     "text": [
      " 30%|███       | 9/30 [3:28:26<8:06:25, 1389.79s/it]"
     ]
    },
    {
     "name": "stdout",
     "output_type": "stream",
     "text": [
      "Epoch: 8 | Train_loss: 1.8199, Train_acc: 0.5438 | Test_loss: 0.9272, Test_acc: 0.7463\n"
     ]
    },
    {
     "name": "stderr",
     "output_type": "stream",
     "text": [
      " 33%|███▎      | 10/30 [3:51:39<7:43:33, 1390.69s/it]"
     ]
    },
    {
     "name": "stdout",
     "output_type": "stream",
     "text": [
      "Epoch: 9 | Train_loss: 1.7653, Train_acc: 0.5565 | Test_loss: 0.8756, Test_acc: 0.7577\n"
     ]
    },
    {
     "name": "stderr",
     "output_type": "stream",
     "text": [
      " 37%|███▋      | 11/30 [4:14:50<7:20:25, 1390.79s/it]"
     ]
    },
    {
     "name": "stdout",
     "output_type": "stream",
     "text": [
      "Epoch: 10 | Train_loss: 1.7210, Train_acc: 0.5666 | Test_loss: 0.8480, Test_acc: 0.7652\n"
     ]
    },
    {
     "name": "stderr",
     "output_type": "stream",
     "text": [
      " 40%|████      | 12/30 [4:38:01<6:57:15, 1390.87s/it]"
     ]
    },
    {
     "name": "stdout",
     "output_type": "stream",
     "text": [
      "Epoch: 11 | Train_loss: 1.6876, Train_acc: 0.5738 | Test_loss: 0.8471, Test_acc: 0.7661\n",
      "Epoch: 12 | Train_loss: 1.6531, Train_acc: 0.5822 | Test_loss: 0.8417, Test_acc: 0.7656\n"
     ]
    },
    {
     "name": "stderr",
     "output_type": "stream",
     "text": [
      " 47%|████▋     | 14/30 [5:24:25<6:11:01, 1391.37s/it]"
     ]
    },
    {
     "name": "stdout",
     "output_type": "stream",
     "text": [
      "Epoch: 13 | Train_loss: 1.6240, Train_acc: 0.5900 | Test_loss: 0.8167, Test_acc: 0.7735\n"
     ]
    },
    {
     "name": "stderr",
     "output_type": "stream",
     "text": [
      " 50%|█████     | 15/30 [5:47:38<5:47:54, 1391.67s/it]"
     ]
    },
    {
     "name": "stdout",
     "output_type": "stream",
     "text": [
      "Epoch: 14 | Train_loss: 1.6034, Train_acc: 0.5923 | Test_loss: 0.8264, Test_acc: 0.7674\n"
     ]
    },
    {
     "name": "stderr",
     "output_type": "stream",
     "text": [
      " 53%|█████▎    | 16/30 [6:11:51<5:29:02, 1410.18s/it]"
     ]
    },
    {
     "name": "stdout",
     "output_type": "stream",
     "text": [
      "Epoch: 15 | Train_loss: 1.5684, Train_acc: 0.6022 | Test_loss: 0.7902, Test_acc: 0.7784\n"
     ]
    },
    {
     "name": "stderr",
     "output_type": "stream",
     "text": [
      " 57%|█████▋    | 17/30 [6:36:04<5:08:20, 1423.14s/it]"
     ]
    },
    {
     "name": "stdout",
     "output_type": "stream",
     "text": [
      "Epoch: 16 | Train_loss: 1.5487, Train_acc: 0.6056 | Test_loss: 0.7961, Test_acc: 0.7754\n"
     ]
    },
    {
     "name": "stderr",
     "output_type": "stream",
     "text": [
      " 60%|██████    | 18/30 [6:59:18<4:42:51, 1414.28s/it]"
     ]
    },
    {
     "name": "stdout",
     "output_type": "stream",
     "text": [
      "Epoch: 17 | Train_loss: 1.5214, Train_acc: 0.6102 | Test_loss: 0.7617, Test_acc: 0.7863\n"
     ]
    },
    {
     "name": "stderr",
     "output_type": "stream",
     "text": [
      " 63%|██████▎   | 19/30 [7:22:28<4:17:59, 1407.19s/it]"
     ]
    },
    {
     "name": "stdout",
     "output_type": "stream",
     "text": [
      "Epoch: 18 | Train_loss: 1.4943, Train_acc: 0.6180 | Test_loss: 0.7685, Test_acc: 0.7873\n"
     ]
    },
    {
     "name": "stderr",
     "output_type": "stream",
     "text": [
      " 67%|██████▋   | 20/30 [7:46:06<3:55:01, 1410.18s/it]"
     ]
    },
    {
     "name": "stdout",
     "output_type": "stream",
     "text": [
      "Epoch: 19 | Train_loss: 1.4795, Train_acc: 0.6223 | Test_loss: 0.7712, Test_acc: 0.7867\n"
     ]
    },
    {
     "name": "stderr",
     "output_type": "stream",
     "text": [
      " 70%|███████   | 21/30 [8:10:21<3:33:33, 1423.76s/it]"
     ]
    },
    {
     "name": "stdout",
     "output_type": "stream",
     "text": [
      "Epoch: 20 | Train_loss: 1.4585, Train_acc: 0.6254 | Test_loss: 0.7547, Test_acc: 0.7918\n"
     ]
    },
    {
     "name": "stderr",
     "output_type": "stream",
     "text": [
      " 73%|███████▎  | 22/30 [8:35:17<3:12:43, 1445.47s/it]"
     ]
    },
    {
     "name": "stdout",
     "output_type": "stream",
     "text": [
      "Epoch: 21 | Train_loss: 1.4316, Train_acc: 0.6324 | Test_loss: 0.7286, Test_acc: 0.7962\n"
     ]
    },
    {
     "name": "stderr",
     "output_type": "stream",
     "text": [
      " 77%|███████▋  | 23/30 [8:59:55<2:49:45, 1455.10s/it]"
     ]
    },
    {
     "name": "stdout",
     "output_type": "stream",
     "text": [
      "Epoch: 22 | Train_loss: 1.4254, Train_acc: 0.6355 | Test_loss: 0.7187, Test_acc: 0.8007\n",
      "Epoch: 23 | Train_loss: 1.4049, Train_acc: 0.6412 | Test_loss: 0.7655, Test_acc: 0.7886\n"
     ]
    },
    {
     "name": "stderr",
     "output_type": "stream",
     "text": [
      " 83%|████████▎ | 25/30 [9:48:54<2:01:53, 1462.61s/it]"
     ]
    },
    {
     "name": "stdout",
     "output_type": "stream",
     "text": [
      "Epoch: 24 | Train_loss: 1.3948, Train_acc: 0.6399 | Test_loss: 0.7365, Test_acc: 0.7973\n"
     ]
    },
    {
     "name": "stderr",
     "output_type": "stream",
     "text": [
      " 87%|████████▋ | 26/30 [10:13:33<1:37:50, 1467.59s/it]"
     ]
    },
    {
     "name": "stdout",
     "output_type": "stream",
     "text": [
      "Epoch: 25 | Train_loss: 1.3684, Train_acc: 0.6471 | Test_loss: 0.7019, Test_acc: 0.8047\n",
      "Epoch: 26 | Train_loss: 1.3583, Train_acc: 0.6503 | Test_loss: 0.7099, Test_acc: 0.8040\n"
     ]
    },
    {
     "name": "stderr",
     "output_type": "stream",
     "text": [
      " 93%|█████████▎| 28/30 [11:00:36<47:54, 1437.43s/it]  "
     ]
    },
    {
     "name": "stdout",
     "output_type": "stream",
     "text": [
      "Epoch: 27 | Train_loss: 1.3368, Train_acc: 0.6558 | Test_loss: 0.7019, Test_acc: 0.8086\n"
     ]
    },
    {
     "name": "stderr",
     "output_type": "stream",
     "text": [
      " 97%|█████████▋| 29/30 [11:23:52<23:45, 1425.18s/it]"
     ]
    },
    {
     "name": "stdout",
     "output_type": "stream",
     "text": [
      "Epoch: 28 | Train_loss: 1.3259, Train_acc: 0.6590 | Test_loss: 0.7247, Test_acc: 0.8013\n"
     ]
    },
    {
     "name": "stderr",
     "output_type": "stream",
     "text": [
      "100%|██████████| 30/30 [11:47:14<00:00, 1414.47s/it]"
     ]
    },
    {
     "name": "stdout",
     "output_type": "stream",
     "text": [
      "Epoch: 29 | Train_loss: 1.3117, Train_acc: 0.6603 | Test_loss: 0.6924, Test_acc: 0.8105\n"
     ]
    },
    {
     "name": "stderr",
     "output_type": "stream",
     "text": [
      "\n"
     ]
    }
   ],
   "source": [
    "train_dataset, _ = data_setup.split_dataset(\n",
    "    dataset=train_data_food101,\n",
    "    split_size=1,\n",
    "    seed=42\n",
    ")\n",
    "test_dataset, _ = data_setup.split_dataset(\n",
    "    dataset=test_data_food101,\n",
    "    split_size=1,\n",
    "    seed=42\n",
    ")\n",
    "\n",
    "tuning_results = engine.HP_tune_train(\n",
    "    model=vgg16_model,\n",
    "    model_generator=None,\n",
    "    model_weights=vgg16_weights,\n",
    "    model_name='VGG16_food101',\n",
    "    train_dataset=train_dataset,\n",
    "    test_dataset=test_dataset,\n",
    "    learning_rate_list=learning_rate_list,\n",
    "    weight_decay_list=weight_decay_list,\n",
    "    epochs_list=epochs_list,\n",
    "    batch_size_list=batch_size_list,\n",
    "    is_tensorboard_writer=True,\n",
    "    device=device,\n",
    "    gradient_accumulation_num=16\n",
    ")"
   ]
  },
  {
   "cell_type": "code",
   "execution_count": 8,
   "metadata": {},
   "outputs": [
    {
     "data": {
      "text/html": [
       "<div>\n",
       "<style scoped>\n",
       "    .dataframe tbody tr th:only-of-type {\n",
       "        vertical-align: middle;\n",
       "    }\n",
       "\n",
       "    .dataframe tbody tr th {\n",
       "        vertical-align: top;\n",
       "    }\n",
       "\n",
       "    .dataframe thead th {\n",
       "        text-align: right;\n",
       "    }\n",
       "</style>\n",
       "<table border=\"1\" class=\"dataframe\">\n",
       "  <thead>\n",
       "    <tr style=\"text-align: right;\">\n",
       "      <th></th>\n",
       "      <th>learning_rate</th>\n",
       "      <th>weight_decay</th>\n",
       "      <th>epochs</th>\n",
       "      <th>batch_size</th>\n",
       "      <th>train_loss</th>\n",
       "      <th>test_loss</th>\n",
       "      <th>train_acc</th>\n",
       "      <th>test_acc</th>\n",
       "    </tr>\n",
       "  </thead>\n",
       "  <tbody>\n",
       "    <tr>\n",
       "      <th>0</th>\n",
       "      <td>0.00005</td>\n",
       "      <td>0.0005</td>\n",
       "      <td>30</td>\n",
       "      <td>16</td>\n",
       "      <td>1.3117051</td>\n",
       "      <td>0.69244385</td>\n",
       "      <td>0.6603485</td>\n",
       "      <td>0.8104813</td>\n",
       "    </tr>\n",
       "  </tbody>\n",
       "</table>\n",
       "</div>"
      ],
      "text/plain": [
       "   learning_rate  weight_decay  epochs  batch_size train_loss   test_loss  \\\n",
       "0        0.00005        0.0005      30          16  1.3117051  0.69244385   \n",
       "\n",
       "   train_acc   test_acc  \n",
       "0  0.6603485  0.8104813  "
      ]
     },
     "execution_count": 8,
     "metadata": {},
     "output_type": "execute_result"
    }
   ],
   "source": [
    "import pandas as pd\n",
    "pd.DataFrame(tuning_results)"
   ]
  },
  {
   "cell_type": "code",
   "execution_count": 6,
   "metadata": {},
   "outputs": [],
   "source": [
    "vgg16_bn_weights = torchvision.models.VGG16_BN_Weights.DEFAULT\n",
    "vgg16_bn_model = torchvision.models.vgg16_bn(weights=vgg16_bn_weights)\n",
    "vgg16_bn_model.classifier[-1] = torch.nn.Linear(\n",
    "    in_features=4096,\n",
    "    out_features=len(class_names_food101)\n",
    ")"
   ]
  },
  {
   "cell_type": "code",
   "execution_count": 7,
   "metadata": {},
   "outputs": [
    {
     "name": "stdout",
     "output_type": "stream",
     "text": [
      "[INFO] Splitting dataset of length 75750 into splits of size: 75750 and 0\n",
      "[INFO] Splitting dataset of length 25250 into splits of size: 25250 and 0\n",
      "[INFO] Creating SummaryWriter saving to ../runs\\2023-03-19\\VGG16_bn_food101_test\\VGG16_bn_food101\\LR_5e-05_WD_0.0005_EP_30_BS_16_GA_1\n"
     ]
    },
    {
     "name": "stderr",
     "output_type": "stream",
     "text": [
      "  0%|          | 0/30 [00:00<?, ?it/s]"
     ]
    },
    {
     "name": "stdout",
     "output_type": "stream",
     "text": [
      "Epoch: 0 | Train_loss: 2.9199, Train_acc: 0.3062 | Test_loss: 1.3659, Test_acc: 0.6346\n"
     ]
    },
    {
     "name": "stderr",
     "output_type": "stream",
     "text": [
      "  7%|▋         | 2/30 [58:37<13:41:00, 1759.30s/it]"
     ]
    },
    {
     "name": "stdout",
     "output_type": "stream",
     "text": [
      "Epoch: 1 | Train_loss: 2.2767, Train_acc: 0.4412 | Test_loss: 1.1121, Test_acc: 0.6992\n"
     ]
    },
    {
     "name": "stderr",
     "output_type": "stream",
     "text": [
      " 10%|█         | 3/30 [1:27:59<13:12:18, 1760.68s/it]"
     ]
    },
    {
     "name": "stdout",
     "output_type": "stream",
     "text": [
      "Epoch: 2 | Train_loss: 2.0896, Train_acc: 0.4851 | Test_loss: 1.0539, Test_acc: 0.7179\n",
      "Epoch: 3 | Train_loss: 1.9735, Train_acc: 0.5124 | Test_loss: 0.9893, Test_acc: 0.7304\n"
     ]
    },
    {
     "name": "stderr",
     "output_type": "stream",
     "text": [
      " 17%|█▋        | 5/30 [2:26:41<12:13:29, 1760.39s/it]"
     ]
    },
    {
     "name": "stdout",
     "output_type": "stream",
     "text": [
      "Epoch: 4 | Train_loss: 1.8957, Train_acc: 0.5318 | Test_loss: 0.9226, Test_acc: 0.7464\n"
     ]
    },
    {
     "name": "stderr",
     "output_type": "stream",
     "text": [
      " 20%|██        | 6/30 [2:56:05<11:44:42, 1761.76s/it]"
     ]
    },
    {
     "name": "stdout",
     "output_type": "stream",
     "text": [
      "Epoch: 5 | Train_loss: 1.8237, Train_acc: 0.5468 | Test_loss: 0.8652, Test_acc: 0.7635\n"
     ]
    },
    {
     "name": "stderr",
     "output_type": "stream",
     "text": [
      " 23%|██▎       | 7/30 [3:25:33<11:16:06, 1763.77s/it]"
     ]
    },
    {
     "name": "stdout",
     "output_type": "stream",
     "text": [
      "Epoch: 6 | Train_loss: 1.7806, Train_acc: 0.5579 | Test_loss: 0.8443, Test_acc: 0.7691\n",
      "Epoch: 7 | Train_loss: 1.7382, Train_acc: 0.5673 | Test_loss: 0.8413, Test_acc: 0.7725\n"
     ]
    },
    {
     "name": "stderr",
     "output_type": "stream",
     "text": [
      " 30%|███       | 9/30 [4:24:37<10:18:47, 1767.98s/it]"
     ]
    },
    {
     "name": "stdout",
     "output_type": "stream",
     "text": [
      "Epoch: 8 | Train_loss: 1.7058, Train_acc: 0.5735 | Test_loss: 0.8387, Test_acc: 0.7712\n",
      "Epoch: 9 | Train_loss: 1.6726, Train_acc: 0.5833 | Test_loss: 0.7750, Test_acc: 0.7891\n"
     ]
    },
    {
     "name": "stderr",
     "output_type": "stream",
     "text": [
      " 37%|███▋      | 11/30 [5:23:40<9:20:18, 1769.41s/it]"
     ]
    },
    {
     "name": "stdout",
     "output_type": "stream",
     "text": [
      "Epoch: 10 | Train_loss: 1.6449, Train_acc: 0.5900 | Test_loss: 0.7832, Test_acc: 0.7868\n"
     ]
    },
    {
     "name": "stderr",
     "output_type": "stream",
     "text": [
      " 40%|████      | 12/30 [5:53:08<8:50:44, 1769.16s/it]"
     ]
    },
    {
     "name": "stdout",
     "output_type": "stream",
     "text": [
      "Epoch: 11 | Train_loss: 1.6154, Train_acc: 0.5952 | Test_loss: 0.8165, Test_acc: 0.7764\n"
     ]
    },
    {
     "name": "stderr",
     "output_type": "stream",
     "text": [
      " 43%|████▎     | 13/30 [6:22:39<8:21:24, 1769.66s/it]"
     ]
    },
    {
     "name": "stdout",
     "output_type": "stream",
     "text": [
      "Epoch: 12 | Train_loss: 1.6017, Train_acc: 0.5974 | Test_loss: 0.8122, Test_acc: 0.7785\n"
     ]
    },
    {
     "name": "stderr",
     "output_type": "stream",
     "text": [
      " 47%|████▋     | 14/30 [6:52:11<7:52:06, 1770.41s/it]"
     ]
    },
    {
     "name": "stdout",
     "output_type": "stream",
     "text": [
      "Epoch: 13 | Train_loss: 1.5865, Train_acc: 0.6016 | Test_loss: 0.7433, Test_acc: 0.7948\n"
     ]
    },
    {
     "name": "stderr",
     "output_type": "stream",
     "text": [
      " 50%|█████     | 15/30 [7:21:45<7:22:51, 1771.41s/it]"
     ]
    },
    {
     "name": "stdout",
     "output_type": "stream",
     "text": [
      "Epoch: 14 | Train_loss: 1.5685, Train_acc: 0.6054 | Test_loss: 0.7624, Test_acc: 0.7904\n"
     ]
    },
    {
     "name": "stderr",
     "output_type": "stream",
     "text": [
      " 53%|█████▎    | 16/30 [7:51:06<6:52:36, 1768.31s/it]"
     ]
    },
    {
     "name": "stdout",
     "output_type": "stream",
     "text": [
      "Epoch: 15 | Train_loss: 1.5553, Train_acc: 0.6101 | Test_loss: 0.7394, Test_acc: 0.7980\n",
      "Epoch: 16 | Train_loss: 1.5416, Train_acc: 0.6140 | Test_loss: 0.7718, Test_acc: 0.7900\n"
     ]
    },
    {
     "name": "stderr",
     "output_type": "stream",
     "text": [
      " 60%|██████    | 18/30 [8:49:51<5:53:01, 1765.13s/it]"
     ]
    },
    {
     "name": "stdout",
     "output_type": "stream",
     "text": [
      "Epoch: 17 | Train_loss: 1.5187, Train_acc: 0.6176 | Test_loss: 0.7737, Test_acc: 0.7918\n",
      "Epoch: 18 | Train_loss: 1.5081, Train_acc: 0.6219 | Test_loss: 0.7599, Test_acc: 0.7952\n"
     ]
    },
    {
     "name": "stderr",
     "output_type": "stream",
     "text": [
      " 67%|██████▋   | 20/30 [9:48:40<4:54:04, 1764.43s/it]"
     ]
    },
    {
     "name": "stdout",
     "output_type": "stream",
     "text": [
      "Epoch: 19 | Train_loss: 1.4953, Train_acc: 0.6247 | Test_loss: 0.7234, Test_acc: 0.8032\n",
      "Epoch: 20 | Train_loss: 1.4934, Train_acc: 0.6253 | Test_loss: 0.7521, Test_acc: 0.7998\n"
     ]
    },
    {
     "name": "stderr",
     "output_type": "stream",
     "text": [
      " 73%|███████▎  | 22/30 [10:47:29<3:55:14, 1764.34s/it]"
     ]
    },
    {
     "name": "stdout",
     "output_type": "stream",
     "text": [
      "Epoch: 21 | Train_loss: 1.4785, Train_acc: 0.6278 | Test_loss: 0.7520, Test_acc: 0.7995\n"
     ]
    },
    {
     "name": "stderr",
     "output_type": "stream",
     "text": [
      " 77%|███████▋  | 23/30 [11:16:49<3:25:41, 1763.11s/it]"
     ]
    },
    {
     "name": "stdout",
     "output_type": "stream",
     "text": [
      "Epoch: 22 | Train_loss: 1.4831, Train_acc: 0.6284 | Test_loss: 0.7275, Test_acc: 0.8059\n"
     ]
    },
    {
     "name": "stderr",
     "output_type": "stream",
     "text": [
      " 80%|████████  | 24/30 [11:46:12<2:56:17, 1762.99s/it]"
     ]
    },
    {
     "name": "stdout",
     "output_type": "stream",
     "text": [
      "Epoch: 23 | Train_loss: 1.4635, Train_acc: 0.6327 | Test_loss: 0.7307, Test_acc: 0.8005\n"
     ]
    },
    {
     "name": "stderr",
     "output_type": "stream",
     "text": [
      " 83%|████████▎ | 25/30 [12:15:36<2:26:56, 1763.30s/it]"
     ]
    },
    {
     "name": "stdout",
     "output_type": "stream",
     "text": [
      "Epoch: 24 | Train_loss: 1.4511, Train_acc: 0.6351 | Test_loss: 0.7083, Test_acc: 0.8071\n",
      "Epoch: 25 | Train_loss: 1.4392, Train_acc: 0.6391 | Test_loss: 0.7200, Test_acc: 0.8076\n"
     ]
    },
    {
     "name": "stderr",
     "output_type": "stream",
     "text": [
      " 90%|█████████ | 27/30 [13:14:29<1:28:14, 1764.80s/it]"
     ]
    },
    {
     "name": "stdout",
     "output_type": "stream",
     "text": [
      "Epoch: 26 | Train_loss: 1.4362, Train_acc: 0.6399 | Test_loss: 0.6904, Test_acc: 0.8121\n"
     ]
    },
    {
     "name": "stderr",
     "output_type": "stream",
     "text": [
      " 93%|█████████▎| 28/30 [13:43:51<58:47, 1763.93s/it]  "
     ]
    },
    {
     "name": "stdout",
     "output_type": "stream",
     "text": [
      "Epoch: 27 | Train_loss: 1.4250, Train_acc: 0.6440 | Test_loss: 0.7343, Test_acc: 0.8019\n"
     ]
    },
    {
     "name": "stderr",
     "output_type": "stream",
     "text": [
      " 97%|█████████▋| 29/30 [14:13:15<29:23, 1763.84s/it]"
     ]
    },
    {
     "name": "stdout",
     "output_type": "stream",
     "text": [
      "Epoch: 28 | Train_loss: 1.4268, Train_acc: 0.6422 | Test_loss: 0.7375, Test_acc: 0.8038\n"
     ]
    },
    {
     "name": "stderr",
     "output_type": "stream",
     "text": [
      "100%|██████████| 30/30 [14:42:40<00:00, 1765.35s/it]"
     ]
    },
    {
     "name": "stdout",
     "output_type": "stream",
     "text": [
      "Epoch: 29 | Train_loss: 1.4117, Train_acc: 0.6433 | Test_loss: 0.7103, Test_acc: 0.8063\n"
     ]
    },
    {
     "name": "stderr",
     "output_type": "stream",
     "text": [
      "\n"
     ]
    }
   ],
   "source": [
    "train_dataset, _ = data_setup.split_dataset(\n",
    "    dataset=train_data_food101,\n",
    "    split_size=1,\n",
    "    seed=42\n",
    ")\n",
    "test_dataset, _ = data_setup.split_dataset(\n",
    "    dataset=test_data_food101,\n",
    "    split_size=1,\n",
    "    seed=42\n",
    ")\n",
    "\n",
    "tuning_results = engine.HP_tune_train(\n",
    "    model=vgg16_bn_model,\n",
    "    model_generator=None,\n",
    "    model_weights=vgg16_bn_weights,\n",
    "    model_name='VGG16_bn_food101',\n",
    "    train_dataset=train_dataset,\n",
    "    test_dataset=test_dataset,\n",
    "    learning_rate_list=learning_rate_list,\n",
    "    weight_decay_list=weight_decay_list,\n",
    "    epochs_list=epochs_list,\n",
    "    batch_size_list=batch_size_list,\n",
    "    is_tensorboard_writer=True,\n",
    "    device=device,\n",
    "    gradient_accumulation_num=1\n",
    ")"
   ]
  },
  {
   "cell_type": "code",
   "execution_count": 8,
   "metadata": {},
   "outputs": [
    {
     "data": {
      "text/html": [
       "<div>\n",
       "<style scoped>\n",
       "    .dataframe tbody tr th:only-of-type {\n",
       "        vertical-align: middle;\n",
       "    }\n",
       "\n",
       "    .dataframe tbody tr th {\n",
       "        vertical-align: top;\n",
       "    }\n",
       "\n",
       "    .dataframe thead th {\n",
       "        text-align: right;\n",
       "    }\n",
       "</style>\n",
       "<table border=\"1\" class=\"dataframe\">\n",
       "  <thead>\n",
       "    <tr style=\"text-align: right;\">\n",
       "      <th></th>\n",
       "      <th>learning_rate</th>\n",
       "      <th>weight_decay</th>\n",
       "      <th>epochs</th>\n",
       "      <th>batch_size</th>\n",
       "      <th>train_loss</th>\n",
       "      <th>test_loss</th>\n",
       "      <th>train_acc</th>\n",
       "      <th>test_acc</th>\n",
       "    </tr>\n",
       "  </thead>\n",
       "  <tbody>\n",
       "    <tr>\n",
       "      <th>0</th>\n",
       "      <td>0.00005</td>\n",
       "      <td>0.0005</td>\n",
       "      <td>30</td>\n",
       "      <td>16</td>\n",
       "      <td>1.4116825</td>\n",
       "      <td>0.71032387</td>\n",
       "      <td>0.64334744</td>\n",
       "      <td>0.8063252</td>\n",
       "    </tr>\n",
       "  </tbody>\n",
       "</table>\n",
       "</div>"
      ],
      "text/plain": [
       "   learning_rate  weight_decay  epochs  batch_size train_loss   test_loss  \\\n",
       "0        0.00005        0.0005      30          16  1.4116825  0.71032387   \n",
       "\n",
       "    train_acc   test_acc  \n",
       "0  0.64334744  0.8063252  "
      ]
     },
     "execution_count": 8,
     "metadata": {},
     "output_type": "execute_result"
    }
   ],
   "source": [
    "import pandas as pd\n",
    "pd.DataFrame(tuning_results)"
   ]
  }
 ],
 "metadata": {
  "kernelspec": {
   "display_name": "tensorflow",
   "language": "python",
   "name": "python3"
  },
  "language_info": {
   "codemirror_mode": {
    "name": "ipython",
    "version": 3
   },
   "file_extension": ".py",
   "mimetype": "text/x-python",
   "name": "python",
   "nbconvert_exporter": "python",
   "pygments_lexer": "ipython3",
   "version": "3.8.16"
  },
  "orig_nbformat": 4
 },
 "nbformat": 4,
 "nbformat_minor": 2
}
