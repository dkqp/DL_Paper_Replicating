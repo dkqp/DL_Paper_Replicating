{
 "cells": [
  {
   "attachments": {},
   "cell_type": "markdown",
   "metadata": {},
   "source": [
    "## GoogLeNet model for training Food101 datasets\n",
    "* number of parameters: 10,621,391"
   ]
  },
  {
   "cell_type": "code",
   "execution_count": 1,
   "metadata": {},
   "outputs": [],
   "source": [
    "import torch\n",
    "from torch import nn\n",
    "from torch.utils.data import DataLoader\n",
    "\n",
    "import torchvision\n",
    "from torchvision import transforms, datasets\n",
    "\n",
    "from torchinfo import summary\n",
    "\n",
    "from pathlib import Path\n",
    "\n",
    "import sys\n",
    "sys.path.append('..')\n",
    "\n",
    "from python_scripts import model_builder, engine, data_setup"
   ]
  },
  {
   "cell_type": "code",
   "execution_count": 2,
   "metadata": {},
   "outputs": [],
   "source": [
    "if torch.cuda.is_available():\n",
    "    device = torch.device('cuda')\n",
    "elif torch.backends.mps.is_available():\n",
    "    device = torch.device('mps')\n",
    "else:\n",
    "    device = torch.device('cpu')"
   ]
  },
  {
   "cell_type": "code",
   "execution_count": 3,
   "metadata": {},
   "outputs": [],
   "source": [
    "food101_transforms_train = transforms.Compose([\n",
    "    transforms.RandomRotation(30),\n",
    "    transforms.RandomResizedCrop(224),\n",
    "    transforms.RandomHorizontalFlip(),\n",
    "    transforms.AutoAugment(transforms.AutoAugmentPolicy.IMAGENET),\n",
    "    transforms.ToTensor(),\n",
    "    transforms.Normalize(\n",
    "      [0.485, 0.456, 0.406],\n",
    "      [0.229, 0.224, 0.225]\n",
    "    )\n",
    "])\n",
    "\n",
    "food101_transforms_test = transforms.Compose([\n",
    "    transforms.Resize(225),\n",
    "    transforms.CenterCrop(224),\n",
    "    transforms.ToTensor(),\n",
    "    transforms.Normalize(\n",
    "      [0.485, 0.456, 0.406],\n",
    "      [0.229, 0.224, 0.225]\n",
    "    )\n",
    "])"
   ]
  },
  {
   "cell_type": "code",
   "execution_count": 4,
   "metadata": {},
   "outputs": [],
   "source": [
    "learning_rate_list = [1e-3]\n",
    "weight_decay_list = [1e-3]\n",
    "epochs_list = [5]\n",
    "batch_size_list = [16]"
   ]
  },
  {
   "cell_type": "code",
   "execution_count": 5,
   "metadata": {},
   "outputs": [],
   "source": [
    "data_dir = Path('../data/extracted')\n",
    "\n",
    "train_data_food101 = datasets.Food101(\n",
    "    root=data_dir,\n",
    "    split='train',\n",
    "    transform=food101_transforms_train,\n",
    "    download=True\n",
    ")\n",
    "test_data_food101 = datasets.Food101(\n",
    "    root=data_dir,\n",
    "    split='test',\n",
    "    transform=food101_transforms_test,\n",
    "    download=True\n",
    ")\n",
    "\n",
    "class_names_food101 = train_data_food101.classes"
   ]
  },
  {
   "cell_type": "code",
   "execution_count": 6,
   "metadata": {},
   "outputs": [],
   "source": [
    "def googlenet_model_generator(weights=None):\n",
    "    return model_builder.GoogLeNet(num_features=len(class_names_food101))"
   ]
  },
  {
   "cell_type": "code",
   "execution_count": 7,
   "metadata": {},
   "outputs": [
    {
     "name": "stdout",
     "output_type": "stream",
     "text": [
      "[INFO] Splitting dataset of length 75750 into splits of size: 7575 and 68175\n",
      "[INFO] Splitting dataset of length 25250 into splits of size: 2525 and 22725\n"
     ]
    },
    {
     "data": {
      "application/vnd.jupyter.widget-view+json": {
       "model_id": "dc2c85b72a384427ab058d2884f0f837",
       "version_major": 2,
       "version_minor": 0
      },
      "text/plain": [
       "  0%|          | 0/5 [00:00<?, ?it/s]"
      ]
     },
     "metadata": {},
     "output_type": "display_data"
    },
    {
     "name": "stdout",
     "output_type": "stream",
     "text": [
      "Epoch: 0 | Train_loss: 4.7064, Train_acc: 0.0117 | Test_loss: 4.6122, Test_acc: 0.0202\n",
      "Epoch: 1 | Train_loss: 4.6255, Train_acc: 0.0137 | Test_loss: 4.6465, Test_acc: 0.0131\n",
      "Epoch: 2 | Train_loss: 4.6210, Train_acc: 0.0109 | Test_loss: 4.6236, Test_acc: 0.0079\n",
      "Epoch: 3 | Train_loss: 4.6168, Train_acc: 0.0124 | Test_loss: 4.6162, Test_acc: 0.0091\n",
      "Epoch: 4 | Train_loss: 4.6057, Train_acc: 0.0116 | Test_loss: 4.5975, Test_acc: 0.0119\n"
     ]
    }
   ],
   "source": [
    "train_dataset, _ = data_setup.split_dataset(\n",
    "    dataset=train_data_food101,\n",
    "    split_size=0.1, # you can start with small number of train set to check normality at first\n",
    "    seed=42\n",
    ")\n",
    "test_dataset, _ = data_setup.split_dataset(\n",
    "    dataset=test_data_food101,\n",
    "    split_size=0.1,\n",
    "    seed=42\n",
    ")\n",
    "\n",
    "tuning_results = engine.HP_tune_train(\n",
    "    model=None,\n",
    "    model_generator=googlenet_model_generator,\n",
    "    model_weights=None,\n",
    "    model_name='GoogLeNet_food101',\n",
    "    train_dataset=train_dataset,\n",
    "    test_dataset=test_dataset,\n",
    "    learning_rate_list=learning_rate_list,\n",
    "    weight_decay_list=weight_decay_list,\n",
    "    epochs_list=epochs_list,\n",
    "    batch_size_list=batch_size_list,\n",
    "    is_tensorboard_writer=False,\n",
    "    device=device,\n",
    "    gradient_accumulation_num=1\n",
    ")"
   ]
  },
  {
   "cell_type": "code",
   "execution_count": null,
   "metadata": {},
   "outputs": [],
   "source": []
  }
 ],
 "metadata": {
  "kernelspec": {
   "display_name": "tensorflow",
   "language": "python",
   "name": "python3"
  },
  "language_info": {
   "codemirror_mode": {
    "name": "ipython",
    "version": 3
   },
   "file_extension": ".py",
   "mimetype": "text/x-python",
   "name": "python",
   "nbconvert_exporter": "python",
   "pygments_lexer": "ipython3",
   "version": "3.8.16"
  },
  "orig_nbformat": 4,
  "vscode": {
   "interpreter": {
    "hash": "9eeb77476765327a5766bde23db868cdced0c0ccde5f7598d5cda0f5c8e639e5"
   }
  }
 },
 "nbformat": 4,
 "nbformat_minor": 2
}
