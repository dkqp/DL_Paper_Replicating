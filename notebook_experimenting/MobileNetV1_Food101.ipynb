{
 "cells": [
  {
   "cell_type": "markdown",
   "metadata": {},
   "source": [
    "## MobileNet V1 model for training Food101 datasets\n",
    "* number of parameters: 3,380,965"
   ]
  },
  {
   "cell_type": "code",
   "execution_count": 15,
   "metadata": {},
   "outputs": [],
   "source": [
    "import torch\n",
    "\n",
    "from torchvision import transforms, datasets\n",
    "\n",
    "from pathlib import Path\n",
    "\n",
    "import sys\n",
    "sys.path.append('..')\n",
    "\n",
    "from python_scripts import model_builder, engine, data_setup"
   ]
  },
  {
   "cell_type": "code",
   "execution_count": 16,
   "metadata": {},
   "outputs": [],
   "source": [
    "if torch.cuda.is_available():\n",
    "    device = torch.device('cuda')\n",
    "elif torch.backends.mps.is_available():\n",
    "    device = torch.device('mps')\n",
    "else:\n",
    "    device = torch.device('cpu')"
   ]
  },
  {
   "cell_type": "code",
   "execution_count": 17,
   "metadata": {},
   "outputs": [],
   "source": [
    "food101_transforms_train = transforms.Compose([\n",
    "    transforms.RandomRotation(30),\n",
    "    transforms.RandomResizedCrop(224),\n",
    "    transforms.RandomHorizontalFlip(),\n",
    "    transforms.AutoAugment(transforms.AutoAugmentPolicy.IMAGENET),\n",
    "    transforms.ToTensor(),\n",
    "    transforms.Normalize(\n",
    "      [0.485, 0.456, 0.406],\n",
    "      [0.229, 0.224, 0.225]\n",
    "    )\n",
    "])\n",
    "\n",
    "food101_transforms_test = transforms.Compose([\n",
    "    transforms.Resize(225),\n",
    "    transforms.CenterCrop(224),\n",
    "    transforms.ToTensor(),\n",
    "    transforms.Normalize(\n",
    "      [0.485, 0.456, 0.406],\n",
    "      [0.229, 0.224, 0.225]\n",
    "    )\n",
    "])"
   ]
  },
  {
   "cell_type": "code",
   "execution_count": 18,
   "metadata": {},
   "outputs": [],
   "source": [
    "learning_rate_list = [1e-4]\n",
    "weight_decay_list = [1e-4]\n",
    "epochs_list = [10]\n",
    "batch_size_list = [16]"
   ]
  },
  {
   "cell_type": "code",
   "execution_count": 19,
   "metadata": {},
   "outputs": [],
   "source": [
    "data_dir = Path('../data/extracted')\n",
    "\n",
    "train_data_food101 = datasets.Food101(\n",
    "    root=data_dir,\n",
    "    split='train',\n",
    "    transform=food101_transforms_train,\n",
    "    download=True\n",
    ")\n",
    "test_data_food101 = datasets.Food101(\n",
    "    root=data_dir,\n",
    "    split='test',\n",
    "    transform=food101_transforms_test,\n",
    "    download=True\n",
    ")\n",
    "\n",
    "class_names_food101 = train_data_food101.classes"
   ]
  },
  {
   "cell_type": "code",
   "execution_count": 20,
   "metadata": {},
   "outputs": [],
   "source": [
    "def model_generator(weights=None):\n",
    "    return model_builder.MobileNetV1(num_classes=len(class_names_food101))"
   ]
  },
  {
   "cell_type": "code",
   "execution_count": 21,
   "metadata": {},
   "outputs": [
    {
     "name": "stdout",
     "output_type": "stream",
     "text": [
      "[INFO] Splitting dataset of length 75750 into splits of size: 75750 and 0\n",
      "[INFO] Splitting dataset of length 25250 into splits of size: 25250 and 0\n"
     ]
    },
    {
     "data": {
      "application/vnd.jupyter.widget-view+json": {
       "model_id": "15f293c5aea341ee9f6614517676d518",
       "version_major": 2,
       "version_minor": 0
      },
      "text/plain": [
       "  0%|          | 0/10 [00:00<?, ?it/s]"
      ]
     },
     "metadata": {},
     "output_type": "display_data"
    },
    {
     "name": "stdout",
     "output_type": "stream",
     "text": [
      "Epoch: 0 | Train_loss: 4.5410, Train_acc: 0.0235 | Test_loss: 4.2319, Test_acc: 0.0595\n",
      "Epoch: 1 | Train_loss: 4.3856, Train_acc: 0.0447 | Test_loss: 4.0223, Test_acc: 0.0852\n",
      "Epoch: 2 | Train_loss: 4.2468, Train_acc: 0.0639 | Test_loss: 3.7975, Test_acc: 0.1231\n",
      "Epoch: 3 | Train_loss: 4.1196, Train_acc: 0.0839 | Test_loss: 3.5985, Test_acc: 0.1624\n",
      "Epoch: 4 | Train_loss: 4.0126, Train_acc: 0.1029 | Test_loss: 3.3924, Test_acc: 0.2029\n",
      "Epoch: 5 | Train_loss: 3.9051, Train_acc: 0.1210 | Test_loss: 3.2380, Test_acc: 0.2285\n",
      "Epoch: 6 | Train_loss: 3.8035, Train_acc: 0.1393 | Test_loss: 3.1324, Test_acc: 0.2421\n",
      "Epoch: 7 | Train_loss: 3.6993, Train_acc: 0.1575 | Test_loss: 2.9437, Test_acc: 0.2803\n",
      "Epoch: 8 | Train_loss: 3.5898, Train_acc: 0.1779 | Test_loss: 2.7403, Test_acc: 0.3243\n",
      "Epoch: 9 | Train_loss: 3.4946, Train_acc: 0.1965 | Test_loss: 2.6434, Test_acc: 0.3442\n"
     ]
    }
   ],
   "source": [
    "train_dataset, _ = data_setup.split_dataset(\n",
    "    dataset=train_data_food101,\n",
    "    split_size=1, # you can start with small number of train set to check normality at first\n",
    "    seed=42\n",
    ")\n",
    "test_dataset, _ = data_setup.split_dataset(\n",
    "    dataset=test_data_food101,\n",
    "    split_size=1,\n",
    "    seed=42\n",
    ")\n",
    "\n",
    "tuning_results = engine.HP_tune_train(\n",
    "    model=None,\n",
    "    model_generator=model_generator,\n",
    "    model_weights=None,\n",
    "    model_name='MobileNetV1_food101',\n",
    "    train_dataset=train_dataset,\n",
    "    test_dataset=test_dataset,\n",
    "    learning_rate_list=learning_rate_list,\n",
    "    weight_decay_list=weight_decay_list,\n",
    "    epochs_list=epochs_list,\n",
    "    batch_size_list=batch_size_list,\n",
    "    is_tensorboard_writer=False,\n",
    "    device=device,\n",
    "    gradient_accumulation_num=1\n",
    ")"
   ]
  },
  {
   "cell_type": "code",
   "execution_count": null,
   "metadata": {},
   "outputs": [],
   "source": []
  }
 ],
 "metadata": {
  "kernelspec": {
   "display_name": "tensorflow",
   "language": "python",
   "name": "python3"
  },
  "language_info": {
   "codemirror_mode": {
    "name": "ipython",
    "version": 3
   },
   "file_extension": ".py",
   "mimetype": "text/x-python",
   "name": "python",
   "nbconvert_exporter": "python",
   "pygments_lexer": "ipython3",
   "version": "3.8.13"
  },
  "orig_nbformat": 4
 },
 "nbformat": 4,
 "nbformat_minor": 2
}
